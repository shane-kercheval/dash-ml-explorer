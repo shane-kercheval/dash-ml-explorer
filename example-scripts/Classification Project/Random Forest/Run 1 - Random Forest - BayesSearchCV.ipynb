{
 "cells": [
  {
   "cell_type": "markdown",
   "source": [
    "This files contains an example of tuning a Random Forest model with BayesSearchCV\n",
    "\n",
    "It saves the BayesSearchCV object to the `cross-validation.pkl`"
   ],
   "metadata": {
    "collapsed": false,
    "pycharm": {
     "name": "#%% md\n"
    }
   }
  },
  {
   "cell_type": "code",
   "execution_count": 1,
   "id": "c5f3fe51",
   "metadata": {},
   "outputs": [],
   "source": [
    "import pickle\n",
    "import helpsk as hlp\n",
    "import matplotlib.pyplot as plt\n",
    "import pandas as pd\n",
    "import numpy as np\n",
    "from sklearn.datasets import fetch_openml\n",
    "import seaborn as sns\n",
    "\n",
    "from sklearn.pipeline import Pipeline\n",
    "from sklearn.preprocessing import StandardScaler, MinMaxScaler, OneHotEncoder\n",
    "from sklearn.impute import SimpleImputer\n",
    "from sklearn.model_selection import train_test_split\n",
    "\n",
    "%matplotlib inline"
   ]
  },
  {
   "cell_type": "markdown",
   "id": "8ff88fe0",
   "metadata": {},
   "source": [
    "# Load Data"
   ]
  },
  {
   "cell_type": "code",
   "execution_count": 2,
   "outputs": [],
   "source": [
    "with open('../X_train.pkl', 'rb') as handle:\n",
    "    X_train = pickle.load(handle)\n",
    "\n",
    "with open('../y_train.pkl', 'rb') as handle:\n",
    "    y_train = pickle.load(handle)"
   ],
   "metadata": {
    "collapsed": false,
    "pycharm": {
     "name": "#%%\n"
    }
   }
  },
  {
   "cell_type": "code",
   "execution_count": 3,
   "outputs": [
    {
     "data": {
      "text/plain": "<pandas.io.formats.style.Styler at 0x7f9a88696490>",
      "text/html": "<style type=\"text/css\">\n#T_53b31_row0_col1, #T_53b31_row1_col3 {\n  background-color: #EBB13E;\n}\n#T_53b31_row0_col2 {\n  width: 10em;\n  height: 80%;\n  background: linear-gradient(90deg,#CF3721 5.0%, transparent 5.0%);\n}\n#T_53b31_row0_col4, #T_53b31_row1_col2, #T_53b31_row2_col2, #T_53b31_row2_col4, #T_53b31_row3_col2, #T_53b31_row3_col4, #T_53b31_row4_col2, #T_53b31_row4_col4, #T_53b31_row5_col2, #T_53b31_row5_col4, #T_53b31_row6_col2, #T_53b31_row6_col4 {\n  width: 10em;\n  height: 80%;\n}\n#T_53b31_row0_col7 {\n  width: 10em;\n  height: 80%;\n  background: linear-gradient(90deg,#B4B7B9 56.0%, transparent 56.0%);\n}\n#T_53b31_row0_col8 {\n  width: 10em;\n  height: 80%;\n  background: linear-gradient(90deg, transparent 50.0%, #B4B7B9 50.0%, #B4B7B9 75.2%, transparent 75.2%);\n}\n#T_53b31_row1_col4 {\n  width: 10em;\n  height: 80%;\n  background: linear-gradient(90deg,#B4B7B9 5.0%, transparent 5.0%);\n}\n#T_53b31_row1_col7 {\n  width: 10em;\n  height: 80%;\n  background: linear-gradient(90deg,#B4B7B9 92.0%, transparent 92.0%);\n}\n#T_53b31_row1_col8 {\n  width: 10em;\n  height: 80%;\n  background: linear-gradient(90deg, transparent 50.0%, #B4B7B9 50.0%, #B4B7B9 96.7%, transparent 96.7%);\n}\n#T_53b31_row2_col7 {\n  width: 10em;\n  height: 80%;\n  background: linear-gradient(90deg,#B4B7B9 38.0%, transparent 38.0%);\n}\n#T_53b31_row2_col8 {\n  width: 10em;\n  height: 80%;\n  background: linear-gradient(90deg, transparent 37.0%, #B4B7B9 37.0%, #B4B7B9 50.0%, transparent 50.0%);\n}\n#T_53b31_row3_col7 {\n  width: 10em;\n  height: 80%;\n  background: linear-gradient(90deg,#B4B7B9 39.0%, transparent 39.0%);\n}\n#T_53b31_row3_col8 {\n  width: 10em;\n  height: 80%;\n  background: linear-gradient(90deg, transparent 43.2%, #B4B7B9 43.2%, #B4B7B9 50.0%, transparent 50.0%);\n}\n#T_53b31_row4_col7 {\n  width: 10em;\n  height: 80%;\n  background: linear-gradient(90deg,#B4B7B9 32.0%, transparent 32.0%);\n}\n#T_53b31_row4_col8 {\n  width: 10em;\n  height: 80%;\n  background: linear-gradient(90deg, transparent 50.0%, #B4B7B9 50.0%, #B4B7B9 75.7%, transparent 75.7%);\n}\n#T_53b31_row5_col7 {\n  width: 10em;\n  height: 80%;\n  background: linear-gradient(90deg,#B4B7B9 41.0%, transparent 41.0%);\n}\n#T_53b31_row5_col8 {\n  width: 10em;\n  height: 80%;\n  background: linear-gradient(90deg, transparent 50.0%, #B4B7B9 50.0%, #B4B7B9 81.5%, transparent 81.5%);\n}\n#T_53b31_row6_col7 {\n  width: 10em;\n  height: 80%;\n  background: linear-gradient(90deg,#B4B7B9 31.0%, transparent 31.0%);\n}\n#T_53b31_row6_col8 {\n  width: 10em;\n  height: 80%;\n  background: linear-gradient(90deg, transparent 50.0%, #B4B7B9 50.0%, #B4B7B9 100.0%, transparent 100.0%);\n}\n</style>\n<table id=\"T_53b31_\">\n  <thead>\n    <tr>\n      <th class=\"blank level0\" >&nbsp;</th>\n      <th class=\"col_heading level0 col0\" ># of Non-Nulls</th>\n      <th class=\"col_heading level0 col1\" ># of Nulls</th>\n      <th class=\"col_heading level0 col2\" >% Nulls</th>\n      <th class=\"col_heading level0 col3\" ># of Zeros</th>\n      <th class=\"col_heading level0 col4\" >% Zeros</th>\n      <th class=\"col_heading level0 col5\" >Mean</th>\n      <th class=\"col_heading level0 col6\" >St Dev.</th>\n      <th class=\"col_heading level0 col7\" >Coef of Var</th>\n      <th class=\"col_heading level0 col8\" >Skewness</th>\n      <th class=\"col_heading level0 col9\" >Kurtosis</th>\n      <th class=\"col_heading level0 col10\" >Min</th>\n      <th class=\"col_heading level0 col11\" >10%</th>\n      <th class=\"col_heading level0 col12\" >25%</th>\n      <th class=\"col_heading level0 col13\" >50%</th>\n      <th class=\"col_heading level0 col14\" >75%</th>\n      <th class=\"col_heading level0 col15\" >90%</th>\n      <th class=\"col_heading level0 col16\" >Max</th>\n    </tr>\n  </thead>\n  <tbody>\n    <tr>\n      <th id=\"T_53b31_level0_row0\" class=\"row_heading level0 row0\" >duration</th>\n      <td id=\"T_53b31_row0_col0\" class=\"data row0 col0\" >760</td>\n      <td id=\"T_53b31_row0_col1\" class=\"data row0 col1\" >40</td>\n      <td id=\"T_53b31_row0_col2\" class=\"data row0 col2\" >5.0%</td>\n      <td id=\"T_53b31_row0_col3\" class=\"data row0 col3\" >0</td>\n      <td id=\"T_53b31_row0_col4\" class=\"data row0 col4\" >0.0%</td>\n      <td id=\"T_53b31_row0_col5\" class=\"data row0 col5\" >21.0</td>\n      <td id=\"T_53b31_row0_col6\" class=\"data row0 col6\" >11.7</td>\n      <td id=\"T_53b31_row0_col7\" class=\"data row0 col7\" >0.6</td>\n      <td id=\"T_53b31_row0_col8\" class=\"data row0 col8\" >1.0</td>\n      <td id=\"T_53b31_row0_col9\" class=\"data row0 col9\" >0.6</td>\n      <td id=\"T_53b31_row0_col10\" class=\"data row0 col10\" >4.0</td>\n      <td id=\"T_53b31_row0_col11\" class=\"data row0 col11\" >9.0</td>\n      <td id=\"T_53b31_row0_col12\" class=\"data row0 col12\" >12.0</td>\n      <td id=\"T_53b31_row0_col13\" class=\"data row0 col13\" >18.0</td>\n      <td id=\"T_53b31_row0_col14\" class=\"data row0 col14\" >24.0</td>\n      <td id=\"T_53b31_row0_col15\" class=\"data row0 col15\" >36.0</td>\n      <td id=\"T_53b31_row0_col16\" class=\"data row0 col16\" >60.0</td>\n    </tr>\n    <tr>\n      <th id=\"T_53b31_level0_row1\" class=\"row_heading level0 row1\" >credit_amount</th>\n      <td id=\"T_53b31_row1_col0\" class=\"data row1 col0\" >800</td>\n      <td id=\"T_53b31_row1_col1\" class=\"data row1 col1\" >0</td>\n      <td id=\"T_53b31_row1_col2\" class=\"data row1 col2\" >0.0%</td>\n      <td id=\"T_53b31_row1_col3\" class=\"data row1 col3\" >38</td>\n      <td id=\"T_53b31_row1_col4\" class=\"data row1 col4\" >5.0%</td>\n      <td id=\"T_53b31_row1_col5\" class=\"data row1 col5\" >3,203.9</td>\n      <td id=\"T_53b31_row1_col6\" class=\"data row1 col6\" >2,932.3</td>\n      <td id=\"T_53b31_row1_col7\" class=\"data row1 col7\" >0.9</td>\n      <td id=\"T_53b31_row1_col8\" class=\"data row1 col8\" >1.9</td>\n      <td id=\"T_53b31_row1_col9\" class=\"data row1 col9\" >3.9</td>\n      <td id=\"T_53b31_row1_col10\" class=\"data row1 col10\" >0.0</td>\n      <td id=\"T_53b31_row1_col11\" class=\"data row1 col11\" >753.9</td>\n      <td id=\"T_53b31_row1_col12\" class=\"data row1 col12\" >1,300.8</td>\n      <td id=\"T_53b31_row1_col13\" class=\"data row1 col13\" >2,236.5</td>\n      <td id=\"T_53b31_row1_col14\" class=\"data row1 col14\" >3,951.5</td>\n      <td id=\"T_53b31_row1_col15\" class=\"data row1 col15\" >7,394.6</td>\n      <td id=\"T_53b31_row1_col16\" class=\"data row1 col16\" >18,424.0</td>\n    </tr>\n    <tr>\n      <th id=\"T_53b31_level0_row2\" class=\"row_heading level0 row2\" >installment_commitment</th>\n      <td id=\"T_53b31_row2_col0\" class=\"data row2 col0\" >800</td>\n      <td id=\"T_53b31_row2_col1\" class=\"data row2 col1\" >0</td>\n      <td id=\"T_53b31_row2_col2\" class=\"data row2 col2\" >0.0%</td>\n      <td id=\"T_53b31_row2_col3\" class=\"data row2 col3\" >0</td>\n      <td id=\"T_53b31_row2_col4\" class=\"data row2 col4\" >0.0%</td>\n      <td id=\"T_53b31_row2_col5\" class=\"data row2 col5\" >3.0</td>\n      <td id=\"T_53b31_row2_col6\" class=\"data row2 col6\" >1.1</td>\n      <td id=\"T_53b31_row2_col7\" class=\"data row2 col7\" >0.4</td>\n      <td id=\"T_53b31_row2_col8\" class=\"data row2 col8\" >-0.5</td>\n      <td id=\"T_53b31_row2_col9\" class=\"data row2 col9\" >-1.2</td>\n      <td id=\"T_53b31_row2_col10\" class=\"data row2 col10\" >1.0</td>\n      <td id=\"T_53b31_row2_col11\" class=\"data row2 col11\" >1.0</td>\n      <td id=\"T_53b31_row2_col12\" class=\"data row2 col12\" >2.0</td>\n      <td id=\"T_53b31_row2_col13\" class=\"data row2 col13\" >3.0</td>\n      <td id=\"T_53b31_row2_col14\" class=\"data row2 col14\" >4.0</td>\n      <td id=\"T_53b31_row2_col15\" class=\"data row2 col15\" >4.0</td>\n      <td id=\"T_53b31_row2_col16\" class=\"data row2 col16\" >4.0</td>\n    </tr>\n    <tr>\n      <th id=\"T_53b31_level0_row3\" class=\"row_heading level0 row3\" >residence_since</th>\n      <td id=\"T_53b31_row3_col0\" class=\"data row3 col0\" >800</td>\n      <td id=\"T_53b31_row3_col1\" class=\"data row3 col1\" >0</td>\n      <td id=\"T_53b31_row3_col2\" class=\"data row3 col2\" >0.0%</td>\n      <td id=\"T_53b31_row3_col3\" class=\"data row3 col3\" >0</td>\n      <td id=\"T_53b31_row3_col4\" class=\"data row3 col4\" >0.0%</td>\n      <td id=\"T_53b31_row3_col5\" class=\"data row3 col5\" >2.9</td>\n      <td id=\"T_53b31_row3_col6\" class=\"data row3 col6\" >1.1</td>\n      <td id=\"T_53b31_row3_col7\" class=\"data row3 col7\" >0.4</td>\n      <td id=\"T_53b31_row3_col8\" class=\"data row3 col8\" >-0.3</td>\n      <td id=\"T_53b31_row3_col9\" class=\"data row3 col9\" >-1.4</td>\n      <td id=\"T_53b31_row3_col10\" class=\"data row3 col10\" >1.0</td>\n      <td id=\"T_53b31_row3_col11\" class=\"data row3 col11\" >1.0</td>\n      <td id=\"T_53b31_row3_col12\" class=\"data row3 col12\" >2.0</td>\n      <td id=\"T_53b31_row3_col13\" class=\"data row3 col13\" >3.0</td>\n      <td id=\"T_53b31_row3_col14\" class=\"data row3 col14\" >4.0</td>\n      <td id=\"T_53b31_row3_col15\" class=\"data row3 col15\" >4.0</td>\n      <td id=\"T_53b31_row3_col16\" class=\"data row3 col16\" >4.0</td>\n    </tr>\n    <tr>\n      <th id=\"T_53b31_level0_row4\" class=\"row_heading level0 row4\" >age</th>\n      <td id=\"T_53b31_row4_col0\" class=\"data row4 col0\" >800</td>\n      <td id=\"T_53b31_row4_col1\" class=\"data row4 col1\" >0</td>\n      <td id=\"T_53b31_row4_col2\" class=\"data row4 col2\" >0.0%</td>\n      <td id=\"T_53b31_row4_col3\" class=\"data row4 col3\" >0</td>\n      <td id=\"T_53b31_row4_col4\" class=\"data row4 col4\" >0.0%</td>\n      <td id=\"T_53b31_row4_col5\" class=\"data row4 col5\" >35.6</td>\n      <td id=\"T_53b31_row4_col6\" class=\"data row4 col6\" >11.4</td>\n      <td id=\"T_53b31_row4_col7\" class=\"data row4 col7\" >0.3</td>\n      <td id=\"T_53b31_row4_col8\" class=\"data row4 col8\" >1.0</td>\n      <td id=\"T_53b31_row4_col9\" class=\"data row4 col9\" >0.7</td>\n      <td id=\"T_53b31_row4_col10\" class=\"data row4 col10\" >19.0</td>\n      <td id=\"T_53b31_row4_col11\" class=\"data row4 col11\" >23.0</td>\n      <td id=\"T_53b31_row4_col12\" class=\"data row4 col12\" >27.0</td>\n      <td id=\"T_53b31_row4_col13\" class=\"data row4 col13\" >33.0</td>\n      <td id=\"T_53b31_row4_col14\" class=\"data row4 col14\" >42.0</td>\n      <td id=\"T_53b31_row4_col15\" class=\"data row4 col15\" >52.0</td>\n      <td id=\"T_53b31_row4_col16\" class=\"data row4 col16\" >75.0</td>\n    </tr>\n    <tr>\n      <th id=\"T_53b31_level0_row5\" class=\"row_heading level0 row5\" >existing_credits</th>\n      <td id=\"T_53b31_row5_col0\" class=\"data row5 col0\" >800</td>\n      <td id=\"T_53b31_row5_col1\" class=\"data row5 col1\" >0</td>\n      <td id=\"T_53b31_row5_col2\" class=\"data row5 col2\" >0.0%</td>\n      <td id=\"T_53b31_row5_col3\" class=\"data row5 col3\" >0</td>\n      <td id=\"T_53b31_row5_col4\" class=\"data row5 col4\" >0.0%</td>\n      <td id=\"T_53b31_row5_col5\" class=\"data row5 col5\" >1.4</td>\n      <td id=\"T_53b31_row5_col6\" class=\"data row5 col6\" >0.6</td>\n      <td id=\"T_53b31_row5_col7\" class=\"data row5 col7\" >0.4</td>\n      <td id=\"T_53b31_row5_col8\" class=\"data row5 col8\" >1.3</td>\n      <td id=\"T_53b31_row5_col9\" class=\"data row5 col9\" >1.6</td>\n      <td id=\"T_53b31_row5_col10\" class=\"data row5 col10\" >1.0</td>\n      <td id=\"T_53b31_row5_col11\" class=\"data row5 col11\" >1.0</td>\n      <td id=\"T_53b31_row5_col12\" class=\"data row5 col12\" >1.0</td>\n      <td id=\"T_53b31_row5_col13\" class=\"data row5 col13\" >1.0</td>\n      <td id=\"T_53b31_row5_col14\" class=\"data row5 col14\" >2.0</td>\n      <td id=\"T_53b31_row5_col15\" class=\"data row5 col15\" >2.0</td>\n      <td id=\"T_53b31_row5_col16\" class=\"data row5 col16\" >4.0</td>\n    </tr>\n    <tr>\n      <th id=\"T_53b31_level0_row6\" class=\"row_heading level0 row6\" >num_dependents</th>\n      <td id=\"T_53b31_row6_col0\" class=\"data row6 col0\" >800</td>\n      <td id=\"T_53b31_row6_col1\" class=\"data row6 col1\" >0</td>\n      <td id=\"T_53b31_row6_col2\" class=\"data row6 col2\" >0.0%</td>\n      <td id=\"T_53b31_row6_col3\" class=\"data row6 col3\" >0</td>\n      <td id=\"T_53b31_row6_col4\" class=\"data row6 col4\" >0.0%</td>\n      <td id=\"T_53b31_row6_col5\" class=\"data row6 col5\" >1.1</td>\n      <td id=\"T_53b31_row6_col6\" class=\"data row6 col6\" >0.3</td>\n      <td id=\"T_53b31_row6_col7\" class=\"data row6 col7\" >0.3</td>\n      <td id=\"T_53b31_row6_col8\" class=\"data row6 col8\" >2.0</td>\n      <td id=\"T_53b31_row6_col9\" class=\"data row6 col9\" >2.1</td>\n      <td id=\"T_53b31_row6_col10\" class=\"data row6 col10\" >1.0</td>\n      <td id=\"T_53b31_row6_col11\" class=\"data row6 col11\" >1.0</td>\n      <td id=\"T_53b31_row6_col12\" class=\"data row6 col12\" >1.0</td>\n      <td id=\"T_53b31_row6_col13\" class=\"data row6 col13\" >1.0</td>\n      <td id=\"T_53b31_row6_col14\" class=\"data row6 col14\" >1.0</td>\n      <td id=\"T_53b31_row6_col15\" class=\"data row6 col15\" >2.0</td>\n      <td id=\"T_53b31_row6_col16\" class=\"data row6 col16\" >2.0</td>\n    </tr>\n  </tbody>\n</table>\n"
     },
     "execution_count": 3,
     "metadata": {},
     "output_type": "execute_result"
    }
   ],
   "source": [
    "hlp.pandas.numeric_summary(X_train, return_style=True)"
   ],
   "metadata": {
    "collapsed": false,
    "pycharm": {
     "name": "#%%\n"
    }
   }
  },
  {
   "cell_type": "code",
   "execution_count": 4,
   "outputs": [
    {
     "data": {
      "text/plain": "<pandas.io.formats.style.Styler at 0x7f9a88fb9520>",
      "text/html": "<style type=\"text/css\">\n#T_70a2f_row0_col1 {\n  background-color: #EBB13E;\n}\n#T_70a2f_row0_col2 {\n  width: 10em;\n  height: 80%;\n  background: linear-gradient(90deg,#CF3721 4.6%, transparent 4.6%);\n}\n#T_70a2f_row0_col5, #T_70a2f_row5_col5, #T_70a2f_row7_col5, #T_70a2f_row10_col5 {\n  width: 10em;\n  height: 80%;\n  background: linear-gradient(90deg,#B4B7B9 0.5%, transparent 0.5%);\n}\n#T_70a2f_row1_col2, #T_70a2f_row2_col2, #T_70a2f_row3_col2, #T_70a2f_row4_col2, #T_70a2f_row5_col2, #T_70a2f_row6_col2, #T_70a2f_row7_col2, #T_70a2f_row8_col2, #T_70a2f_row9_col2, #T_70a2f_row10_col2, #T_70a2f_row11_col2, #T_70a2f_row12_col2 {\n  width: 10em;\n  height: 80%;\n}\n#T_70a2f_row1_col5, #T_70a2f_row3_col5, #T_70a2f_row4_col5 {\n  width: 10em;\n  height: 80%;\n  background: linear-gradient(90deg,#B4B7B9 0.6%, transparent 0.6%);\n}\n#T_70a2f_row2_col5 {\n  width: 10em;\n  height: 80%;\n  background: linear-gradient(90deg,#B4B7B9 1.2%, transparent 1.2%);\n}\n#T_70a2f_row6_col5, #T_70a2f_row8_col5, #T_70a2f_row9_col5 {\n  width: 10em;\n  height: 80%;\n  background: linear-gradient(90deg,#B4B7B9 0.4%, transparent 0.4%);\n}\n#T_70a2f_row11_col5, #T_70a2f_row12_col5 {\n  width: 10em;\n  height: 80%;\n  background: linear-gradient(90deg,#B4B7B9 0.2%, transparent 0.2%);\n}\n</style>\n<table id=\"T_70a2f_\">\n  <thead>\n    <tr>\n      <th class=\"blank level0\" >&nbsp;</th>\n      <th class=\"col_heading level0 col0\" ># of Non-Nulls</th>\n      <th class=\"col_heading level0 col1\" ># of Nulls</th>\n      <th class=\"col_heading level0 col2\" >% Nulls</th>\n      <th class=\"col_heading level0 col3\" >Most Freq. Value</th>\n      <th class=\"col_heading level0 col4\" ># of Unique</th>\n      <th class=\"col_heading level0 col5\" >% Unique</th>\n    </tr>\n  </thead>\n  <tbody>\n    <tr>\n      <th id=\"T_70a2f_level0_row0\" class=\"row_heading level0 row0\" >checking_status</th>\n      <td id=\"T_70a2f_row0_col0\" class=\"data row0 col0\" >763</td>\n      <td id=\"T_70a2f_row0_col1\" class=\"data row0 col1\" >37</td>\n      <td id=\"T_70a2f_row0_col2\" class=\"data row0 col2\" >4.6%</td>\n      <td id=\"T_70a2f_row0_col3\" class=\"data row0 col3\" >no checking</td>\n      <td id=\"T_70a2f_row0_col4\" class=\"data row0 col4\" >4</td>\n      <td id=\"T_70a2f_row0_col5\" class=\"data row0 col5\" >0.5%</td>\n    </tr>\n    <tr>\n      <th id=\"T_70a2f_level0_row1\" class=\"row_heading level0 row1\" >credit_history</th>\n      <td id=\"T_70a2f_row1_col0\" class=\"data row1 col0\" >800</td>\n      <td id=\"T_70a2f_row1_col1\" class=\"data row1 col1\" >0</td>\n      <td id=\"T_70a2f_row1_col2\" class=\"data row1 col2\" >0.0%</td>\n      <td id=\"T_70a2f_row1_col3\" class=\"data row1 col3\" >existing paid</td>\n      <td id=\"T_70a2f_row1_col4\" class=\"data row1 col4\" >5</td>\n      <td id=\"T_70a2f_row1_col5\" class=\"data row1 col5\" >0.6%</td>\n    </tr>\n    <tr>\n      <th id=\"T_70a2f_level0_row2\" class=\"row_heading level0 row2\" >purpose</th>\n      <td id=\"T_70a2f_row2_col0\" class=\"data row2 col0\" >800</td>\n      <td id=\"T_70a2f_row2_col1\" class=\"data row2 col1\" >0</td>\n      <td id=\"T_70a2f_row2_col2\" class=\"data row2 col2\" >0.0%</td>\n      <td id=\"T_70a2f_row2_col3\" class=\"data row2 col3\" >radio/tv</td>\n      <td id=\"T_70a2f_row2_col4\" class=\"data row2 col4\" >10</td>\n      <td id=\"T_70a2f_row2_col5\" class=\"data row2 col5\" >1.2%</td>\n    </tr>\n    <tr>\n      <th id=\"T_70a2f_level0_row3\" class=\"row_heading level0 row3\" >savings_status</th>\n      <td id=\"T_70a2f_row3_col0\" class=\"data row3 col0\" >800</td>\n      <td id=\"T_70a2f_row3_col1\" class=\"data row3 col1\" >0</td>\n      <td id=\"T_70a2f_row3_col2\" class=\"data row3 col2\" >0.0%</td>\n      <td id=\"T_70a2f_row3_col3\" class=\"data row3 col3\" >&lt;100</td>\n      <td id=\"T_70a2f_row3_col4\" class=\"data row3 col4\" >5</td>\n      <td id=\"T_70a2f_row3_col5\" class=\"data row3 col5\" >0.6%</td>\n    </tr>\n    <tr>\n      <th id=\"T_70a2f_level0_row4\" class=\"row_heading level0 row4\" >employment</th>\n      <td id=\"T_70a2f_row4_col0\" class=\"data row4 col0\" >800</td>\n      <td id=\"T_70a2f_row4_col1\" class=\"data row4 col1\" >0</td>\n      <td id=\"T_70a2f_row4_col2\" class=\"data row4 col2\" >0.0%</td>\n      <td id=\"T_70a2f_row4_col3\" class=\"data row4 col3\" >1&lt;=X&lt;4</td>\n      <td id=\"T_70a2f_row4_col4\" class=\"data row4 col4\" >5</td>\n      <td id=\"T_70a2f_row4_col5\" class=\"data row4 col5\" >0.6%</td>\n    </tr>\n    <tr>\n      <th id=\"T_70a2f_level0_row5\" class=\"row_heading level0 row5\" >personal_status</th>\n      <td id=\"T_70a2f_row5_col0\" class=\"data row5 col0\" >800</td>\n      <td id=\"T_70a2f_row5_col1\" class=\"data row5 col1\" >0</td>\n      <td id=\"T_70a2f_row5_col2\" class=\"data row5 col2\" >0.0%</td>\n      <td id=\"T_70a2f_row5_col3\" class=\"data row5 col3\" >male single</td>\n      <td id=\"T_70a2f_row5_col4\" class=\"data row5 col4\" >4</td>\n      <td id=\"T_70a2f_row5_col5\" class=\"data row5 col5\" >0.5%</td>\n    </tr>\n    <tr>\n      <th id=\"T_70a2f_level0_row6\" class=\"row_heading level0 row6\" >other_parties</th>\n      <td id=\"T_70a2f_row6_col0\" class=\"data row6 col0\" >800</td>\n      <td id=\"T_70a2f_row6_col1\" class=\"data row6 col1\" >0</td>\n      <td id=\"T_70a2f_row6_col2\" class=\"data row6 col2\" >0.0%</td>\n      <td id=\"T_70a2f_row6_col3\" class=\"data row6 col3\" >none</td>\n      <td id=\"T_70a2f_row6_col4\" class=\"data row6 col4\" >3</td>\n      <td id=\"T_70a2f_row6_col5\" class=\"data row6 col5\" >0.4%</td>\n    </tr>\n    <tr>\n      <th id=\"T_70a2f_level0_row7\" class=\"row_heading level0 row7\" >property_magnitude</th>\n      <td id=\"T_70a2f_row7_col0\" class=\"data row7 col0\" >800</td>\n      <td id=\"T_70a2f_row7_col1\" class=\"data row7 col1\" >0</td>\n      <td id=\"T_70a2f_row7_col2\" class=\"data row7 col2\" >0.0%</td>\n      <td id=\"T_70a2f_row7_col3\" class=\"data row7 col3\" >car</td>\n      <td id=\"T_70a2f_row7_col4\" class=\"data row7 col4\" >4</td>\n      <td id=\"T_70a2f_row7_col5\" class=\"data row7 col5\" >0.5%</td>\n    </tr>\n    <tr>\n      <th id=\"T_70a2f_level0_row8\" class=\"row_heading level0 row8\" >other_payment_plans</th>\n      <td id=\"T_70a2f_row8_col0\" class=\"data row8 col0\" >800</td>\n      <td id=\"T_70a2f_row8_col1\" class=\"data row8 col1\" >0</td>\n      <td id=\"T_70a2f_row8_col2\" class=\"data row8 col2\" >0.0%</td>\n      <td id=\"T_70a2f_row8_col3\" class=\"data row8 col3\" >none</td>\n      <td id=\"T_70a2f_row8_col4\" class=\"data row8 col4\" >3</td>\n      <td id=\"T_70a2f_row8_col5\" class=\"data row8 col5\" >0.4%</td>\n    </tr>\n    <tr>\n      <th id=\"T_70a2f_level0_row9\" class=\"row_heading level0 row9\" >housing</th>\n      <td id=\"T_70a2f_row9_col0\" class=\"data row9 col0\" >800</td>\n      <td id=\"T_70a2f_row9_col1\" class=\"data row9 col1\" >0</td>\n      <td id=\"T_70a2f_row9_col2\" class=\"data row9 col2\" >0.0%</td>\n      <td id=\"T_70a2f_row9_col3\" class=\"data row9 col3\" >own</td>\n      <td id=\"T_70a2f_row9_col4\" class=\"data row9 col4\" >3</td>\n      <td id=\"T_70a2f_row9_col5\" class=\"data row9 col5\" >0.4%</td>\n    </tr>\n    <tr>\n      <th id=\"T_70a2f_level0_row10\" class=\"row_heading level0 row10\" >job</th>\n      <td id=\"T_70a2f_row10_col0\" class=\"data row10 col0\" >800</td>\n      <td id=\"T_70a2f_row10_col1\" class=\"data row10 col1\" >0</td>\n      <td id=\"T_70a2f_row10_col2\" class=\"data row10 col2\" >0.0%</td>\n      <td id=\"T_70a2f_row10_col3\" class=\"data row10 col3\" >skilled</td>\n      <td id=\"T_70a2f_row10_col4\" class=\"data row10 col4\" >4</td>\n      <td id=\"T_70a2f_row10_col5\" class=\"data row10 col5\" >0.5%</td>\n    </tr>\n    <tr>\n      <th id=\"T_70a2f_level0_row11\" class=\"row_heading level0 row11\" >own_telephone</th>\n      <td id=\"T_70a2f_row11_col0\" class=\"data row11 col0\" >800</td>\n      <td id=\"T_70a2f_row11_col1\" class=\"data row11 col1\" >0</td>\n      <td id=\"T_70a2f_row11_col2\" class=\"data row11 col2\" >0.0%</td>\n      <td id=\"T_70a2f_row11_col3\" class=\"data row11 col3\" >none</td>\n      <td id=\"T_70a2f_row11_col4\" class=\"data row11 col4\" >2</td>\n      <td id=\"T_70a2f_row11_col5\" class=\"data row11 col5\" >0.2%</td>\n    </tr>\n    <tr>\n      <th id=\"T_70a2f_level0_row12\" class=\"row_heading level0 row12\" >foreign_worker</th>\n      <td id=\"T_70a2f_row12_col0\" class=\"data row12 col0\" >800</td>\n      <td id=\"T_70a2f_row12_col1\" class=\"data row12 col1\" >0</td>\n      <td id=\"T_70a2f_row12_col2\" class=\"data row12 col2\" >0.0%</td>\n      <td id=\"T_70a2f_row12_col3\" class=\"data row12 col3\" >yes</td>\n      <td id=\"T_70a2f_row12_col4\" class=\"data row12 col4\" >2</td>\n      <td id=\"T_70a2f_row12_col5\" class=\"data row12 col5\" >0.2%</td>\n    </tr>\n  </tbody>\n</table>\n"
     },
     "execution_count": 4,
     "metadata": {},
     "output_type": "execute_result"
    }
   ],
   "source": [
    "hlp.pandas.non_numeric_summary(X_train, return_style=True)"
   ],
   "metadata": {
    "collapsed": false,
    "pycharm": {
     "name": "#%%\n"
    }
   }
  },
  {
   "cell_type": "code",
   "execution_count": 5,
   "id": "86f44647",
   "metadata": {},
   "outputs": [
    {
     "data": {
      "text/plain": "array([0, 0, 1, 0, 1, 0, 1, 0, 0, 1])"
     },
     "execution_count": 5,
     "metadata": {},
     "output_type": "execute_result"
    }
   ],
   "source": [
    "y_train[0:10]"
   ]
  },
  {
   "cell_type": "code",
   "execution_count": 6,
   "id": "1662bbac",
   "metadata": {},
   "outputs": [
    {
     "data": {
      "text/plain": "(array([0, 1]), array([241, 559]))"
     },
     "execution_count": 6,
     "metadata": {},
     "output_type": "execute_result"
    }
   ],
   "source": [
    "np.unique(y_train, return_counts=True)"
   ]
  },
  {
   "cell_type": "code",
   "execution_count": 7,
   "id": "bc038e2c",
   "metadata": {},
   "outputs": [
    {
     "data": {
      "text/plain": "array([0.30125, 0.69875])"
     },
     "execution_count": 7,
     "metadata": {},
     "output_type": "execute_result"
    }
   ],
   "source": [
    "np.unique(y_train, return_counts=True)[1] / np.sum(np.unique(y_train, return_counts=True)[1])"
   ]
  },
  {
   "cell_type": "markdown",
   "id": "259f5c13",
   "metadata": {},
   "source": [
    "# Transformation Pipeline"
   ]
  },
  {
   "cell_type": "code",
   "execution_count": 8,
   "id": "c9b24b17",
   "metadata": {},
   "outputs": [
    {
     "data": {
      "text/plain": "array([[0., 2.],\n       [2., 2.],\n       [9., 1.],\n       ...,\n       [9., 3.],\n       [6., 4.],\n       [6., 2.]])"
     },
     "execution_count": 8,
     "metadata": {},
     "output_type": "execute_result"
    }
   ],
   "source": [
    "from sklearn.preprocessing import OrdinalEncoder\n",
    "OrdinalEncoder().fit_transform(X_train[['purpose', 'savings_status']])"
   ]
  },
  {
   "cell_type": "code",
   "execution_count": 9,
   "id": "742c6bf1",
   "metadata": {},
   "outputs": [
    {
     "name": "stdout",
     "output_type": "stream",
     "text": [
      "['duration', 'credit_amount', 'installment_commitment', 'residence_since', 'age', 'existing_credits', 'num_dependents']\n",
      "['checking_status', 'credit_history', 'purpose', 'savings_status', 'employment', 'personal_status', 'other_parties', 'property_magnitude', 'other_payment_plans', 'housing', 'job', 'own_telephone', 'foreign_worker']\n"
     ]
    }
   ],
   "source": [
    "numeric_columns = hlp.pandas.get_numeric_columns(X_train)\n",
    "non_numeric_columns = hlp.pandas.get_non_numeric_columns(X_train)\n",
    "print(numeric_columns)\n",
    "print(non_numeric_columns)"
   ]
  },
  {
   "cell_type": "code",
   "execution_count": 10,
   "id": "740dc372",
   "metadata": {},
   "outputs": [],
   "source": [
    "numeric_pipeline = Pipeline([\n",
    "    #tune whether or not we want to impute or simply remove rows with missing values\n",
    "    ('impute', hlp.sklearn_pipeline.TransformerChooser()),\n",
    "    # this is here so that we can select between MinMax and Scaler\n",
    "    # if this pipeline is ran in a context outside of tuning, no transformation will take place\n",
    "    ('scaling', hlp.sklearn_pipeline.TransformerChooser()),\n",
    "])"
   ]
  },
  {
   "cell_type": "code",
   "execution_count": 11,
   "id": "4ed41bd2",
   "metadata": {},
   "outputs": [],
   "source": [
    "non_numeric_pipeline = Pipeline([\n",
    "    ('encoder', hlp.sklearn_pipeline.TransformerChooser()),\n",
    "])"
   ]
  },
  {
   "cell_type": "code",
   "execution_count": 12,
   "id": "8f7f94d0",
   "metadata": {},
   "outputs": [],
   "source": [
    "from sklearn.compose import ColumnTransformer\n",
    "transformations_pipeline = ColumnTransformer([\n",
    "    ('numeric', numeric_pipeline, numeric_columns),\n",
    "    ('non_numeric', non_numeric_pipeline, non_numeric_columns)\n",
    "])"
   ]
  },
  {
   "cell_type": "markdown",
   "id": "c215d60a",
   "metadata": {},
   "source": [
    "# Model"
   ]
  },
  {
   "cell_type": "code",
   "execution_count": 13,
   "id": "3b3ddb87",
   "metadata": {},
   "outputs": [],
   "source": [
    "from sklearn.ensemble import RandomForestClassifier\n",
    "random_forest_model = RandomForestClassifier(random_state=42)"
   ]
  },
  {
   "cell_type": "code",
   "execution_count": 14,
   "id": "d6a81445",
   "metadata": {},
   "outputs": [],
   "source": [
    "full_pipeline = Pipeline([\n",
    "    ('prep', transformations_pipeline),\n",
    "    ('model', random_forest_model)\n",
    "])"
   ]
  },
  {
   "cell_type": "code",
   "execution_count": 15,
   "id": "936a9d3f",
   "metadata": {
    "scrolled": true
   },
   "outputs": [
    {
     "data": {
      "text/plain": "{'prep': ColumnTransformer(transformers=[('numeric',\n                                  Pipeline(steps=[('impute',\n                                                   TransformerChooser()),\n                                                  ('scaling',\n                                                   TransformerChooser())]),\n                                  ['duration', 'credit_amount',\n                                   'installment_commitment', 'residence_since',\n                                   'age', 'existing_credits',\n                                   'num_dependents']),\n                                 ('non_numeric',\n                                  Pipeline(steps=[('encoder',\n                                                   TransformerChooser())]),\n                                  ['checking_status', 'credit_history',\n                                   'purpose', 'savings_status', 'employment',\n                                   'personal_status', 'other_parties',\n                                   'property_magnitude', 'other_payment_plans',\n                                   'housing', 'job', 'own_telephone',\n                                   'foreign_worker'])]),\n 'model': RandomForestClassifier(random_state=42)}"
     },
     "execution_count": 15,
     "metadata": {},
     "output_type": "execute_result"
    }
   ],
   "source": [
    "# Show the levels of pipelines/transformers/model\n",
    "full_pipeline.named_steps"
   ]
  },
  {
   "cell_type": "markdown",
   "source": [
    "# skopt.BayesSearchCV\n",
    "\n",
    "[https://scikit-optimize.github.io/stable/auto_examples/sklearn-gridsearchcv-replacement.html](https://scikit-optimize.github.io/stable/auto_examples/sklearn-gridsearchcv-replacement.html)"
   ],
   "metadata": {
    "collapsed": false
   }
  },
  {
   "cell_type": "code",
   "execution_count": 16,
   "id": "54a179db",
   "metadata": {},
   "outputs": [],
   "source": [
    "from sklearn.metrics import make_scorer, f1_score, precision_score, recall_score  # , roc_auc_score\n",
    "from sklearn.metrics import SCORERS\n",
    "\n",
    "# https://scikit-learn.org/stable/modules/generated/sklearn.metrics.make_scorer.html\n",
    "# https://stackoverflow.com/questions/60615281/different-result-roc-auc-score-and-plot-roc-curve\n",
    "scores = {\n",
    "    # https://github.com/scikit-learn/scikit-learn/blob/2beed5584/sklearn/metrics/_scorer.py#L537\n",
    "    'ROC/AUC':  SCORERS['roc_auc'],\n",
    "    'F1': make_scorer(f1_score, greater_is_better=True),\n",
    "    'Pos. Pred. Val': make_scorer(precision_score, greater_is_better=True),\n",
    "    'True Pos. Rate': make_scorer(recall_score, greater_is_better=True),\n",
    "}"
   ]
  },
  {
   "cell_type": "code",
   "execution_count": 17,
   "id": "e8414f95",
   "metadata": {},
   "outputs": [],
   "source": [
    "num_folds = 5\n",
    "num_repeats = 2"
   ]
  },
  {
   "cell_type": "code",
   "execution_count": 18,
   "outputs": [],
   "source": [
    "new_param_column_names = {'model | max_features': 'max_features',\n",
    "                          'model | n_estimators': 'n_estimators',\n",
    "                          'prep | non_numeric | encoder | transformer': 'encoder',\n",
    "                          'prep | numeric | impute | transformer': 'imputer',\n",
    "                          'prep | numeric | scaling | transformer': 'scaler'}"
   ],
   "metadata": {
    "collapsed": false,
    "pycharm": {
     "name": "#%%\n"
    }
   }
  },
  {
   "cell_type": "code",
   "execution_count": 19,
   "outputs": [],
   "source": [
    "# pip install scikit-optimize\n",
    "from skopt import BayesSearchCV\n",
    "from skopt.space import Real, Categorical, Integer\n",
    "from sklearn.model_selection import RepeatedKFold"
   ],
   "metadata": {
    "collapsed": false,
    "pycharm": {
     "name": "#%%\n"
    }
   }
  },
  {
   "cell_type": "code",
   "execution_count": 20,
   "outputs": [
    {
     "name": "stdout",
     "output_type": "stream",
     "text": [
      "Fitting 10 folds for each of 1 candidates, totalling 10 fits\n",
      "Fitting 10 folds for each of 1 candidates, totalling 10 fits\n",
      "Fitting 10 folds for each of 1 candidates, totalling 10 fits\n",
      "Fitting 10 folds for each of 1 candidates, totalling 10 fits\n",
      "Fitting 10 folds for each of 1 candidates, totalling 10 fits\n",
      "Fitting 10 folds for each of 1 candidates, totalling 10 fits\n",
      "Fitting 10 folds for each of 1 candidates, totalling 10 fits\n",
      "Fitting 10 folds for each of 1 candidates, totalling 10 fits\n",
      "Fitting 10 folds for each of 1 candidates, totalling 10 fits\n",
      "Fitting 10 folds for each of 1 candidates, totalling 10 fits\n",
      "Fitting 10 folds for each of 1 candidates, totalling 10 fits\n",
      "Fitting 10 folds for each of 1 candidates, totalling 10 fits\n",
      "Fitting 10 folds for each of 1 candidates, totalling 10 fits\n",
      "Fitting 10 folds for each of 1 candidates, totalling 10 fits\n",
      "Fitting 10 folds for each of 1 candidates, totalling 10 fits\n",
      "Fitting 10 folds for each of 1 candidates, totalling 10 fits\n",
      "Fitting 10 folds for each of 1 candidates, totalling 10 fits\n",
      "Fitting 10 folds for each of 1 candidates, totalling 10 fits\n",
      "Fitting 10 folds for each of 1 candidates, totalling 10 fits\n",
      "Fitting 10 folds for each of 1 candidates, totalling 10 fits\n",
      "Fitting 10 folds for each of 1 candidates, totalling 10 fits\n",
      "Fitting 10 folds for each of 1 candidates, totalling 10 fits\n",
      "Fitting 10 folds for each of 1 candidates, totalling 10 fits\n",
      "Fitting 10 folds for each of 1 candidates, totalling 10 fits\n"
     ]
    },
    {
     "name": "stderr",
     "output_type": "stream",
     "text": [
      "/Users/shanekercheval/opt/anaconda3/envs/python-examples/lib/python3.9/site-packages/skopt/optimizer/optimizer.py:449: UserWarning: The objective has been evaluated at this point before.\n",
      "  warnings.warn(\"The objective has been evaluated \"\n"
     ]
    },
    {
     "name": "stdout",
     "output_type": "stream",
     "text": [
      "Fitting 10 folds for each of 1 candidates, totalling 10 fits\n",
      "Fitting 10 folds for each of 1 candidates, totalling 10 fits\n",
      "Fitting 10 folds for each of 1 candidates, totalling 10 fits\n",
      "Fitting 10 folds for each of 1 candidates, totalling 10 fits\n"
     ]
    },
    {
     "name": "stderr",
     "output_type": "stream",
     "text": [
      "/Users/shanekercheval/opt/anaconda3/envs/python-examples/lib/python3.9/site-packages/skopt/optimizer/optimizer.py:449: UserWarning: The objective has been evaluated at this point before.\n",
      "  warnings.warn(\"The objective has been evaluated \"\n"
     ]
    },
    {
     "name": "stdout",
     "output_type": "stream",
     "text": [
      "Fitting 10 folds for each of 1 candidates, totalling 10 fits\n",
      "Fitting 10 folds for each of 1 candidates, totalling 10 fits\n"
     ]
    }
   ],
   "source": [
    "search_space = {\n",
    "    'prep__numeric__impute__transformer': Categorical([SimpleImputer(strategy='mean')]),\n",
    "    'prep__numeric__scaling__transformer': Categorical([MinMaxScaler(), StandardScaler()]),\n",
    "    'prep__non_numeric__encoder__transformer': Categorical([\n",
    "        OneHotEncoder(),\n",
    "        hlp.sklearn_pipeline.CustomOrdinalEncoder()\n",
    "    ]),\n",
    "    'model__n_estimators': Integer(50, 5000),\n",
    "    # If float, then max_features is a fraction and round(max_features * n_features) features are considered at each split.\n",
    "    'model__max_features':  Real(.01, .99),\n",
    "}\n",
    "\n",
    "bayes_search = BayesSearchCV(\n",
    "    estimator=full_pipeline,\n",
    "    search_spaces=search_space,\n",
    "    n_iter=30,\n",
    "    cv=RepeatedKFold(n_splits=num_folds, n_repeats=num_repeats),\n",
    "    scoring='roc_auc',\n",
    "    #return_train_score=True,\n",
    "    n_jobs=-1,\n",
    "    verbose=1,\n",
    "    random_state=42,\n",
    ")\n",
    "bayes_search.fit(X_train, y_train)\n",
    "\n",
    "del search_space"
   ],
   "metadata": {
    "collapsed": false,
    "pycharm": {
     "name": "#%%\n"
    }
   }
  },
  {
   "cell_type": "code",
   "execution_count": 21,
   "outputs": [
    {
     "name": "stdout",
     "output_type": "stream",
     "text": [
      "{'mean_fit_time': array([ 8.60759182, 18.35172846, 14.5569983 ,  3.02192597,  7.04998052,\n",
      "       18.70175941, 13.89141953, 15.62354853, 11.99873197,  7.50976667,\n",
      "        0.17357767,  9.38408937,  5.65501699,  0.16592031,  6.22505648,\n",
      "        0.3053241 ,  4.68567774, 16.80604911,  6.48140996,  7.61427045,\n",
      "       10.25811355,  9.63630381,  7.53664906, 11.10789251,  9.02226577,\n",
      "        0.33562953,  9.4998445 ,  8.34137592,  8.30572567,  8.14598608]), 'std_fit_time': array([1.96500576, 3.65961877, 3.21670472, 0.63270669, 1.43047822,\n",
      "       4.12802045, 3.02819838, 3.36119214, 2.63613751, 1.73478017,\n",
      "       0.02638694, 2.27197448, 1.30738716, 0.02131164, 1.45663071,\n",
      "       0.03651031, 1.00178695, 3.46981557, 1.54341256, 1.64658966,\n",
      "       2.86516566, 2.15362391, 1.56250149, 2.32718358, 2.06425967,\n",
      "       0.05242957, 1.7322598 , 1.81212331, 1.81984661, 1.82378181]), 'mean_score_time': array([0.59393764, 0.68147011, 0.68082447, 0.15175865, 0.34164119,\n",
      "       0.7210505 , 0.55072856, 0.75155163, 0.50286195, 0.87090781,\n",
      "       0.02894237, 0.9662735 , 0.59718022, 0.03375397, 0.72503448,\n",
      "       0.02451899, 0.53633819, 0.70045545, 0.6728694 , 0.80377488,\n",
      "       1.23561556, 1.09187839, 0.4915534 , 0.60489266, 1.04929931,\n",
      "       0.04250748, 0.27988453, 0.94332235, 0.94228423, 0.98580868]), 'std_score_time': array([0.19262248, 0.24552382, 0.17548475, 0.04652653, 0.09591744,\n",
      "       0.21613792, 0.15606669, 0.24105015, 0.15127861, 0.27684319,\n",
      "       0.00820825, 0.30911895, 0.19637823, 0.00972288, 0.24599996,\n",
      "       0.00987309, 0.21096314, 0.20444184, 0.21318545, 0.27319464,\n",
      "       0.42466602, 0.34356852, 0.12404261, 0.13253763, 0.39288475,\n",
      "       0.01409643, 0.07628949, 0.31354929, 0.31252527, 0.33871859]), 'param_model__max_features': masked_array(data=[0.4119018796762476, 0.8306405884422187,\n",
      "                   0.4459358620551288, 0.8061480685902161,\n",
      "                   0.7935623727750296, 0.7293474576258571,\n",
      "                   0.61473777133227, 0.5425350063365063,\n",
      "                   0.9463684265837298, 0.013557701109648362, 0.01, 0.01,\n",
      "                   0.01, 0.19530347794011543, 0.01, 0.99,\n",
      "                   0.017960295139219006, 0.9763047796122067, 0.01,\n",
      "                   0.14925632541128633, 0.01, 0.01, 0.16149281810708033,\n",
      "                   0.3324618997622208, 0.01, 0.98443399964041,\n",
      "                   0.9895853283998961, 0.01, 0.01, 0.015407934667806296],\n",
      "             mask=[False, False, False, False, False, False, False, False,\n",
      "                   False, False, False, False, False, False, False, False,\n",
      "                   False, False, False, False, False, False, False, False,\n",
      "                   False, False, False, False, False, False],\n",
      "       fill_value='?',\n",
      "            dtype=object), 'param_model__n_estimators': masked_array(data=[3652, 4422, 4598, 901, 2218, 4700, 3888, 4604, 3518,\n",
      "                   4098, 50, 5000, 3043, 56, 3353, 50, 2413, 4977, 3521,\n",
      "                   4169, 4271, 5000, 3699, 4986, 5000, 67, 2265, 5000,\n",
      "                   5000, 4924],\n",
      "             mask=[False, False, False, False, False, False, False, False,\n",
      "                   False, False, False, False, False, False, False, False,\n",
      "                   False, False, False, False, False, False, False, False,\n",
      "                   False, False, False, False, False, False],\n",
      "       fill_value='?',\n",
      "            dtype=object), 'param_prep__non_numeric__encoder__transformer': masked_array(data=[CustomOrdinalEncoder(), OneHotEncoder(),\n",
      "                   OneHotEncoder(), CustomOrdinalEncoder(),\n",
      "                   CustomOrdinalEncoder(), OneHotEncoder(),\n",
      "                   OneHotEncoder(), OneHotEncoder(),\n",
      "                   CustomOrdinalEncoder(), CustomOrdinalEncoder(),\n",
      "                   OneHotEncoder(), CustomOrdinalEncoder(),\n",
      "                   CustomOrdinalEncoder(), CustomOrdinalEncoder(),\n",
      "                   OneHotEncoder(), OneHotEncoder(),\n",
      "                   CustomOrdinalEncoder(), CustomOrdinalEncoder(),\n",
      "                   CustomOrdinalEncoder(), CustomOrdinalEncoder(),\n",
      "                   CustomOrdinalEncoder(), OneHotEncoder(),\n",
      "                   CustomOrdinalEncoder(), CustomOrdinalEncoder(),\n",
      "                   CustomOrdinalEncoder(), CustomOrdinalEncoder(),\n",
      "                   OneHotEncoder(), CustomOrdinalEncoder(),\n",
      "                   CustomOrdinalEncoder(), OneHotEncoder()],\n",
      "             mask=[False, False, False, False, False, False, False, False,\n",
      "                   False, False, False, False, False, False, False, False,\n",
      "                   False, False, False, False, False, False, False, False,\n",
      "                   False, False, False, False, False, False],\n",
      "       fill_value='?',\n",
      "            dtype=object), 'param_prep__numeric__impute__transformer': masked_array(data=[SimpleImputer(), SimpleImputer(), SimpleImputer(),\n",
      "                   SimpleImputer(), SimpleImputer(), SimpleImputer(),\n",
      "                   SimpleImputer(), SimpleImputer(), SimpleImputer(),\n",
      "                   SimpleImputer(), SimpleImputer(), SimpleImputer(),\n",
      "                   SimpleImputer(), SimpleImputer(), SimpleImputer(),\n",
      "                   SimpleImputer(), SimpleImputer(), SimpleImputer(),\n",
      "                   SimpleImputer(), SimpleImputer(), SimpleImputer(),\n",
      "                   SimpleImputer(), SimpleImputer(), SimpleImputer(),\n",
      "                   SimpleImputer(), SimpleImputer(), SimpleImputer(),\n",
      "                   SimpleImputer(), SimpleImputer(), SimpleImputer()],\n",
      "             mask=[False, False, False, False, False, False, False, False,\n",
      "                   False, False, False, False, False, False, False, False,\n",
      "                   False, False, False, False, False, False, False, False,\n",
      "                   False, False, False, False, False, False],\n",
      "       fill_value='?',\n",
      "            dtype=object), 'param_prep__numeric__scaling__transformer': masked_array(data=[StandardScaler(), StandardScaler(), MinMaxScaler(),\n",
      "                   StandardScaler(), StandardScaler(), StandardScaler(),\n",
      "                   StandardScaler(), MinMaxScaler(), MinMaxScaler(),\n",
      "                   StandardScaler(), StandardScaler(), StandardScaler(),\n",
      "                   MinMaxScaler(), MinMaxScaler(), StandardScaler(),\n",
      "                   MinMaxScaler(), StandardScaler(), StandardScaler(),\n",
      "                   StandardScaler(), MinMaxScaler(), MinMaxScaler(),\n",
      "                   StandardScaler(), StandardScaler(), MinMaxScaler(),\n",
      "                   StandardScaler(), MinMaxScaler(), MinMaxScaler(),\n",
      "                   MinMaxScaler(), MinMaxScaler(), MinMaxScaler()],\n",
      "             mask=[False, False, False, False, False, False, False, False,\n",
      "                   False, False, False, False, False, False, False, False,\n",
      "                   False, False, False, False, False, False, False, False,\n",
      "                   False, False, False, False, False, False],\n",
      "       fill_value='?',\n",
      "            dtype=object), 'params': [OrderedDict([('model__max_features', 0.4119018796762476), ('model__n_estimators', 3652), ('prep__non_numeric__encoder__transformer', CustomOrdinalEncoder()), ('prep__numeric__impute__transformer', SimpleImputer()), ('prep__numeric__scaling__transformer', StandardScaler())]), OrderedDict([('model__max_features', 0.8306405884422187), ('model__n_estimators', 4422), ('prep__non_numeric__encoder__transformer', OneHotEncoder()), ('prep__numeric__impute__transformer', SimpleImputer()), ('prep__numeric__scaling__transformer', StandardScaler())]), OrderedDict([('model__max_features', 0.4459358620551288), ('model__n_estimators', 4598), ('prep__non_numeric__encoder__transformer', OneHotEncoder()), ('prep__numeric__impute__transformer', SimpleImputer()), ('prep__numeric__scaling__transformer', MinMaxScaler())]), OrderedDict([('model__max_features', 0.8061480685902161), ('model__n_estimators', 901), ('prep__non_numeric__encoder__transformer', CustomOrdinalEncoder()), ('prep__numeric__impute__transformer', SimpleImputer()), ('prep__numeric__scaling__transformer', StandardScaler())]), OrderedDict([('model__max_features', 0.7935623727750296), ('model__n_estimators', 2218), ('prep__non_numeric__encoder__transformer', CustomOrdinalEncoder()), ('prep__numeric__impute__transformer', SimpleImputer()), ('prep__numeric__scaling__transformer', StandardScaler())]), OrderedDict([('model__max_features', 0.7293474576258571), ('model__n_estimators', 4700), ('prep__non_numeric__encoder__transformer', OneHotEncoder()), ('prep__numeric__impute__transformer', SimpleImputer()), ('prep__numeric__scaling__transformer', StandardScaler())]), OrderedDict([('model__max_features', 0.61473777133227), ('model__n_estimators', 3888), ('prep__non_numeric__encoder__transformer', OneHotEncoder()), ('prep__numeric__impute__transformer', SimpleImputer()), ('prep__numeric__scaling__transformer', StandardScaler())]), OrderedDict([('model__max_features', 0.5425350063365063), ('model__n_estimators', 4604), ('prep__non_numeric__encoder__transformer', OneHotEncoder()), ('prep__numeric__impute__transformer', SimpleImputer()), ('prep__numeric__scaling__transformer', MinMaxScaler())]), OrderedDict([('model__max_features', 0.9463684265837298), ('model__n_estimators', 3518), ('prep__non_numeric__encoder__transformer', CustomOrdinalEncoder()), ('prep__numeric__impute__transformer', SimpleImputer()), ('prep__numeric__scaling__transformer', MinMaxScaler())]), OrderedDict([('model__max_features', 0.013557701109648362), ('model__n_estimators', 4098), ('prep__non_numeric__encoder__transformer', CustomOrdinalEncoder()), ('prep__numeric__impute__transformer', SimpleImputer()), ('prep__numeric__scaling__transformer', StandardScaler())]), OrderedDict([('model__max_features', 0.01), ('model__n_estimators', 50), ('prep__non_numeric__encoder__transformer', OneHotEncoder()), ('prep__numeric__impute__transformer', SimpleImputer()), ('prep__numeric__scaling__transformer', StandardScaler())]), OrderedDict([('model__max_features', 0.01), ('model__n_estimators', 5000), ('prep__non_numeric__encoder__transformer', CustomOrdinalEncoder()), ('prep__numeric__impute__transformer', SimpleImputer()), ('prep__numeric__scaling__transformer', StandardScaler())]), OrderedDict([('model__max_features', 0.01), ('model__n_estimators', 3043), ('prep__non_numeric__encoder__transformer', CustomOrdinalEncoder()), ('prep__numeric__impute__transformer', SimpleImputer()), ('prep__numeric__scaling__transformer', MinMaxScaler())]), OrderedDict([('model__max_features', 0.19530347794011543), ('model__n_estimators', 56), ('prep__non_numeric__encoder__transformer', CustomOrdinalEncoder()), ('prep__numeric__impute__transformer', SimpleImputer()), ('prep__numeric__scaling__transformer', MinMaxScaler())]), OrderedDict([('model__max_features', 0.01), ('model__n_estimators', 3353), ('prep__non_numeric__encoder__transformer', OneHotEncoder()), ('prep__numeric__impute__transformer', SimpleImputer()), ('prep__numeric__scaling__transformer', StandardScaler())]), OrderedDict([('model__max_features', 0.99), ('model__n_estimators', 50), ('prep__non_numeric__encoder__transformer', OneHotEncoder()), ('prep__numeric__impute__transformer', SimpleImputer()), ('prep__numeric__scaling__transformer', MinMaxScaler())]), OrderedDict([('model__max_features', 0.017960295139219006), ('model__n_estimators', 2413), ('prep__non_numeric__encoder__transformer', CustomOrdinalEncoder()), ('prep__numeric__impute__transformer', SimpleImputer()), ('prep__numeric__scaling__transformer', StandardScaler())]), OrderedDict([('model__max_features', 0.9763047796122067), ('model__n_estimators', 4977), ('prep__non_numeric__encoder__transformer', CustomOrdinalEncoder()), ('prep__numeric__impute__transformer', SimpleImputer()), ('prep__numeric__scaling__transformer', StandardScaler())]), OrderedDict([('model__max_features', 0.01), ('model__n_estimators', 3521), ('prep__non_numeric__encoder__transformer', CustomOrdinalEncoder()), ('prep__numeric__impute__transformer', SimpleImputer()), ('prep__numeric__scaling__transformer', StandardScaler())]), OrderedDict([('model__max_features', 0.14925632541128633), ('model__n_estimators', 4169), ('prep__non_numeric__encoder__transformer', CustomOrdinalEncoder()), ('prep__numeric__impute__transformer', SimpleImputer()), ('prep__numeric__scaling__transformer', MinMaxScaler())]), OrderedDict([('model__max_features', 0.01), ('model__n_estimators', 4271), ('prep__non_numeric__encoder__transformer', CustomOrdinalEncoder()), ('prep__numeric__impute__transformer', SimpleImputer()), ('prep__numeric__scaling__transformer', MinMaxScaler())]), OrderedDict([('model__max_features', 0.01), ('model__n_estimators', 5000), ('prep__non_numeric__encoder__transformer', OneHotEncoder()), ('prep__numeric__impute__transformer', SimpleImputer()), ('prep__numeric__scaling__transformer', StandardScaler())]), OrderedDict([('model__max_features', 0.16149281810708033), ('model__n_estimators', 3699), ('prep__non_numeric__encoder__transformer', CustomOrdinalEncoder()), ('prep__numeric__impute__transformer', SimpleImputer()), ('prep__numeric__scaling__transformer', StandardScaler())]), OrderedDict([('model__max_features', 0.3324618997622208), ('model__n_estimators', 4986), ('prep__non_numeric__encoder__transformer', CustomOrdinalEncoder()), ('prep__numeric__impute__transformer', SimpleImputer()), ('prep__numeric__scaling__transformer', MinMaxScaler())]), OrderedDict([('model__max_features', 0.01), ('model__n_estimators', 5000), ('prep__non_numeric__encoder__transformer', CustomOrdinalEncoder()), ('prep__numeric__impute__transformer', SimpleImputer()), ('prep__numeric__scaling__transformer', StandardScaler())]), OrderedDict([('model__max_features', 0.98443399964041), ('model__n_estimators', 67), ('prep__non_numeric__encoder__transformer', CustomOrdinalEncoder()), ('prep__numeric__impute__transformer', SimpleImputer()), ('prep__numeric__scaling__transformer', MinMaxScaler())]), OrderedDict([('model__max_features', 0.9895853283998961), ('model__n_estimators', 2265), ('prep__non_numeric__encoder__transformer', OneHotEncoder()), ('prep__numeric__impute__transformer', SimpleImputer()), ('prep__numeric__scaling__transformer', MinMaxScaler())]), OrderedDict([('model__max_features', 0.01), ('model__n_estimators', 5000), ('prep__non_numeric__encoder__transformer', CustomOrdinalEncoder()), ('prep__numeric__impute__transformer', SimpleImputer()), ('prep__numeric__scaling__transformer', MinMaxScaler())]), OrderedDict([('model__max_features', 0.01), ('model__n_estimators', 5000), ('prep__non_numeric__encoder__transformer', CustomOrdinalEncoder()), ('prep__numeric__impute__transformer', SimpleImputer()), ('prep__numeric__scaling__transformer', MinMaxScaler())]), OrderedDict([('model__max_features', 0.015407934667806296), ('model__n_estimators', 4924), ('prep__non_numeric__encoder__transformer', OneHotEncoder()), ('prep__numeric__impute__transformer', SimpleImputer()), ('prep__numeric__scaling__transformer', MinMaxScaler())])], 'split0_test_score': array([0.83257056, 0.71451682, 0.79120164, 0.7158485 , 0.77998494,\n",
      "       0.73869302, 0.73064455, 0.84816384, 0.75154545, 0.75561519,\n",
      "       0.75736202, 0.75660342, 0.78766209, 0.72056254, 0.78659188,\n",
      "       0.72519217, 0.69209578, 0.76127273, 0.78194521, 0.79638365,\n",
      "       0.74991097, 0.75727273, 0.75613839, 0.72575786, 0.81512204,\n",
      "       0.79338176, 0.74835248, 0.67913507, 0.79509091, 0.74648008]), 'split1_test_score': array([0.78073809, 0.74465812, 0.70056208, 0.78393899, 0.75020977,\n",
      "       0.76534598, 0.76795803, 0.7110373 , 0.71133839, 0.7831952 ,\n",
      "       0.70604832, 0.84547519, 0.79555237, 0.65954416, 0.79094077,\n",
      "       0.80949811, 0.84236076, 0.78197518, 0.77173913, 0.75637666,\n",
      "       0.75548268, 0.78512077, 0.77854545, 0.72575786, 0.73281868,\n",
      "       0.70979167, 0.78327273, 0.72929027, 0.7254025 , 0.76605213]), 'split2_test_score': array([0.70013349, 0.6958086 , 0.78494334, 0.68859903, 0.67982456,\n",
      "       0.71229167, 0.7099277 , 0.75418447, 0.73331426, 0.7911442 ,\n",
      "       0.77350686, 0.72959573, 0.73427992, 0.77386556, 0.68034632,\n",
      "       0.75340671, 0.78682171, 0.71882151, 0.68730408, 0.79024666,\n",
      "       0.74168046, 0.75246753, 0.70120788, 0.74008391, 0.7633547 ,\n",
      "       0.66186636, 0.73734372, 0.81793343, 0.82122507, 0.7657967 ]), 'split3_test_score': array([0.75964978, 0.79690909, 0.70434515, 0.75437843, 0.77753719,\n",
      "       0.77857265, 0.78048567, 0.69516455, 0.73558455, 0.75515152,\n",
      "       0.70671243, 0.76830918, 0.80531401, 0.73802425, 0.69624256,\n",
      "       0.75701035, 0.69875372, 0.78442651, 0.8200559 , 0.80172928,\n",
      "       0.75799851, 0.7992845 , 0.77388019, 0.78251208, 0.76069411,\n",
      "       0.70908213, 0.74266954, 0.75890985, 0.75174167, 0.77492877]), 'split4_test_score': array([0.70865801, 0.74845455, 0.80809169, 0.75577978, 0.71711057,\n",
      "       0.78987069, 0.77822273, 0.76982988, 0.77770714, 0.74628146,\n",
      "       0.69516099, 0.73790923, 0.7590394 , 0.7378744 , 0.8468599 ,\n",
      "       0.69445533, 0.75052411, 0.67957291, 0.76962426, 0.71297953,\n",
      "       0.79744558, 0.70258621, 0.76256392, 0.83104396, 0.76371419,\n",
      "       0.74029558, 0.72409188, 0.82198661, 0.77762456, 0.75560828]), 'split5_test_score': array([0.7781138 , 0.75649929, 0.79178158, 0.73911127, 0.71704357,\n",
      "       0.7377261 , 0.71389526, 0.73831776, 0.80183919, 0.79481818,\n",
      "       0.77754545, 0.69984744, 0.761     , 0.73569749, 0.78276353,\n",
      "       0.77576411, 0.73863636, 0.74839744, 0.69348576, 0.70810972,\n",
      "       0.79540598, 0.78702978, 0.75603865, 0.75343626, 0.7872276 ,\n",
      "       0.69545894, 0.71335565, 0.764375  , 0.72733958, 0.76684556]), 'split6_test_score': array([0.73167783, 0.76234326, 0.72969108, 0.78952753, 0.68889509,\n",
      "       0.72415459, 0.73249868, 0.691194  , 0.74682617, 0.76544622,\n",
      "       0.66378845, 0.80358505, 0.75927321, 0.79924176, 0.75632123,\n",
      "       0.71940104, 0.79874396, 0.74550725, 0.82142857, 0.79266827,\n",
      "       0.76905907, 0.8280934 , 0.75409091, 0.79045759, 0.76962677,\n",
      "       0.74665788, 0.7289283 , 0.7599918 , 0.82892076, 0.78125562]), 'split7_test_score': array([0.80328502, 0.7249814 , 0.73789492, 0.72020948, 0.77711162,\n",
      "       0.74741103, 0.81158281, 0.75423527, 0.71295425, 0.81478261,\n",
      "       0.63215103, 0.72093023, 0.75626059, 0.73091787, 0.76487414,\n",
      "       0.76785393, 0.77772727, 0.77652142, 0.8168781 , 0.79909091,\n",
      "       0.76641482, 0.74428854, 0.73922049, 0.75993222, 0.73598088,\n",
      "       0.78203714, 0.74103896, 0.83155271, 0.73305251, 0.76397792]), 'split8_test_score': array([0.7563285 , 0.75228833, 0.72879464, 0.76234884, 0.77887264,\n",
      "       0.72738715, 0.73856209, 0.75455629, 0.75429062, 0.76981736,\n",
      "       0.75013789, 0.79238095, 0.76650943, 0.72820561, 0.79198966,\n",
      "       0.72227273, 0.76563692, 0.67672727, 0.74391075, 0.78202899,\n",
      "       0.75531915, 0.70993017, 0.78681818, 0.71989067, 0.81342995,\n",
      "       0.72679388, 0.82484326, 0.74710522, 0.77420708, 0.71845411]), 'split9_test_score': array([0.77130477, 0.79249865, 0.7135795 , 0.74905585, 0.75222578,\n",
      "       0.78064395, 0.74129166, 0.75660996, 0.69471154, 0.73179333,\n",
      "       0.74251208, 0.81498471, 0.74269529, 0.76032764, 0.71177455,\n",
      "       0.75520833, 0.77090909, 0.77855072, 0.74967825, 0.75014122,\n",
      "       0.7504    , 0.74604167, 0.7578599 , 0.77850877, 0.74836882,\n",
      "       0.69817748, 0.75809152, 0.7238463 , 0.7803125 , 0.75072727]), 'mean_test_score': array([0.76224598, 0.74889581, 0.74908856, 0.74587977, 0.74188157,\n",
      "       0.75020968, 0.75050692, 0.74732933, 0.74201116, 0.77080453,\n",
      "       0.72049255, 0.76696211, 0.76675863, 0.73842613, 0.76087045,\n",
      "       0.74800628, 0.76222097, 0.74517729, 0.765605  , 0.76897549,\n",
      "       0.76391172, 0.76121153, 0.7566364 , 0.76073812, 0.76903377,\n",
      "       0.72635428, 0.7501988 , 0.76341263, 0.77149171, 0.75901265]), 'std_test_score': array([0.03874449, 0.03007799, 0.03859304, 0.02948376, 0.03660357,\n",
      "       0.02542956, 0.03104061, 0.04263517, 0.03042661, 0.02388856,\n",
      "       0.04566006, 0.04408013, 0.02155345, 0.0348488 , 0.04849304,\n",
      "       0.03158551, 0.04281097, 0.0386579 , 0.04592103, 0.03356905,\n",
      "       0.01789367, 0.03719699, 0.0226001 , 0.03348488, 0.02718029,\n",
      "       0.03831429, 0.03086852, 0.04601942, 0.03520295, 0.01676889]), 'rank_test_score': array([10, 21, 20, 24, 27, 18, 17, 23, 26,  2, 30,  5,  6, 28, 13, 22, 11,\n",
      "       25,  7,  4,  8, 12, 16, 14,  3, 29, 19,  9,  1, 15], dtype=int32)}\n"
     ]
    }
   ],
   "source": [
    "print(bayes_search.cv_results_)"
   ],
   "metadata": {
    "collapsed": false,
    "pycharm": {
     "name": "#%%\n"
    }
   }
  },
  {
   "cell_type": "code",
   "execution_count": 22,
   "outputs": [
    {
     "data": {
      "text/plain": "RepeatedKFold(n_repeats=2, n_splits=5, random_state=None)"
     },
     "execution_count": 22,
     "metadata": {},
     "output_type": "execute_result"
    }
   ],
   "source": [
    "bayes_search.cv"
   ],
   "metadata": {
    "collapsed": false,
    "pycharm": {
     "name": "#%%\n"
    }
   }
  },
  {
   "cell_type": "code",
   "execution_count": null,
   "outputs": [],
   "source": [],
   "metadata": {
    "collapsed": false,
    "pycharm": {
     "name": "#%%\n"
    }
   }
  },
  {
   "cell_type": "code",
   "execution_count": 30,
   "outputs": [
    {
     "data": {
      "text/plain": "dict_keys(['mean_fit_time', 'std_fit_time', 'mean_score_time', 'std_score_time', 'param_model__max_features', 'param_model__n_estimators', 'param_prep__non_numeric__encoder__transformer', 'param_prep__numeric__impute__transformer', 'param_prep__numeric__scaling__transformer', 'params', 'split0_test_score', 'split1_test_score', 'split2_test_score', 'split3_test_score', 'split4_test_score', 'split5_test_score', 'split6_test_score', 'split7_test_score', 'split8_test_score', 'split9_test_score', 'mean_test_score', 'std_test_score', 'rank_test_score'])"
     },
     "execution_count": 30,
     "metadata": {},
     "output_type": "execute_result"
    }
   ],
   "source": [
    "bayes_search.cv_results_.keys()"
   ],
   "metadata": {
    "collapsed": false,
    "pycharm": {
     "name": "#%%\n"
    }
   }
  },
  {
   "cell_type": "code",
   "execution_count": 87,
   "outputs": [
    {
     "data": {
      "text/plain": "['param_model__max_features',\n 'param_model__n_estimators',\n 'param_prep__non_numeric__encoder__transformer',\n 'param_prep__numeric__impute__transformer',\n 'param_prep__numeric__scaling__transformer']"
     },
     "execution_count": 87,
     "metadata": {},
     "output_type": "execute_result"
    }
   ],
   "source": [
    "[x for x in bayes_search.cv_results_.keys() if x.startswith('param_')]"
   ],
   "metadata": {
    "collapsed": false,
    "pycharm": {
     "name": "#%%\n"
    }
   }
  },
  {
   "cell_type": "code",
   "execution_count": 88,
   "outputs": [
    {
     "data": {
      "text/plain": "['model__max_features',\n 'model__n_estimators',\n 'prep__non_numeric__encoder__transformer',\n 'prep__numeric__impute__transformer',\n 'prep__numeric__scaling__transformer']"
     },
     "execution_count": 88,
     "metadata": {},
     "output_type": "execute_result"
    }
   ],
   "source": [
    "parameter_names = [key for key, value in bayes_search.cv_results_['params'][0].items()]"
   ],
   "metadata": {
    "collapsed": false,
    "pycharm": {
     "name": "#%%\n"
    }
   }
  },
  {
   "cell_type": "code",
   "execution_count": 65,
   "outputs": [
    {
     "data": {
      "text/plain": "['model__max_features',\n 'model__n_estimators',\n 'prep__non_numeric__encoder__transformer',\n 'prep__numeric__impute__transformer',\n 'prep__numeric__scaling__transformer']"
     },
     "execution_count": 65,
     "metadata": {},
     "output_type": "execute_result"
    }
   ],
   "source": [
    "[x for x in bayes_search.cv_results_['params'][0]]"
   ],
   "metadata": {
    "collapsed": false,
    "pycharm": {
     "name": "#%%\n"
    }
   }
  },
  {
   "cell_type": "code",
   "execution_count": 78,
   "outputs": [],
   "source": [
    "def string_if_not_number(obj):\n",
    "    if isinstance(obj, (int, float, complex)):\n",
    "        return obj\n",
    "\n",
    "    return str(obj)"
   ],
   "metadata": {
    "collapsed": false,
    "pycharm": {
     "name": "#%%\n"
    }
   }
  },
  {
   "cell_type": "code",
   "execution_count": null,
   "outputs": [],
   "source": [
    "isinstance(x, (int, float, complex))"
   ],
   "metadata": {
    "collapsed": false,
    "pycharm": {
     "name": "#%%\n"
    }
   }
  },
  {
   "cell_type": "code",
   "execution_count": 83,
   "outputs": [
    {
     "data": {
      "text/plain": "[0,\n 1,\n 2,\n 3,\n 4,\n 5,\n 6,\n 7,\n 8,\n 9,\n 10,\n 11,\n 12,\n 13,\n 14,\n 15,\n 16,\n 17,\n 18,\n 19,\n 20,\n 21,\n 22,\n 23,\n 24,\n 25,\n 26,\n 27,\n 28,\n 29]"
     },
     "execution_count": 83,
     "metadata": {},
     "output_type": "execute_result"
    }
   ],
   "source": [
    "[index for index in range(len(bayes_search.cv_results_['params']))]"
   ],
   "metadata": {
    "collapsed": false,
    "pycharm": {
     "name": "#%%\n"
    }
   }
  },
  {
   "cell_type": "code",
   "execution_count": 94,
   "outputs": [
    {
     "data": {
      "text/plain": "[{'model__max_features': 'max_features'},\n {'model__n_estimators': 'n_estimators'},\n {'prep__non_numeric__encoder__transformer': 'encoder'},\n {'prep__numeric__impute__transformer': 'imputer'},\n {'prep__numeric__scaling__transformer': 'scaler'}]"
     },
     "execution_count": 94,
     "metadata": {},
     "output_type": "execute_result"
    }
   ],
   "source": [
    "parameter_name_mappings = {'model__max_features': 'max_features',\n",
    "                           'model__n_estimators': 'n_estimators',\n",
    "                           'prep__non_numeric__encoder__transformer': 'encoder',\n",
    "                           'prep__numeric__impute__transformer': 'imputer',\n",
    "                           'prep__numeric__scaling__transformer': 'scaler'}"
   ],
   "metadata": {
    "collapsed": false,
    "pycharm": {
     "name": "#%%\n"
    }
   }
  },
  {
   "cell_type": "code",
   "execution_count": null,
   "outputs": [],
   "source": [
    "bayes_search.scoring"
   ],
   "metadata": {
    "collapsed": false,
    "pycharm": {
     "name": "#%%\n"
    }
   }
  },
  {
   "cell_type": "code",
   "execution_count": 98,
   "outputs": [],
   "source": [
    "from helpsk.exceptions import HelpskParamValueError\n",
    "import yaml\n",
    "\n",
    "cv_results_name = 'cross_validation_run_1__bayes_search'\n",
    "cv_results_description = \"This is the first run of bayes search.\"\n",
    "cv_results_dict = {'name': cv_results_name}\n",
    "cv_results_dict['description'] = cv_results_description\n",
    "cv_results_dict['higher_score_is_better'] = True\n",
    "\n",
    "if isinstance(bayes_search.scoring, dict):\n",
    "    score_names = list(bayes_search.scoring.keys())\n",
    "elif isinstance(bayes_search.scoring, str):\n",
    "    score_names = [bayes_search.scoring]\n",
    "else:\n",
    "    mess = 'The `searcher` does not have a string or dictionary .scoring property. Cannot extract '\\\n",
    "           'scores.'\n",
    "    raise HelpskParamValueError(mess)\n",
    "\n",
    "cv_results_dict['score_names'] = score_names\n",
    "cv_results_dict['parameter-names'] = [key for key, value in bayes_search.cv_results_['params'][0].items()]\n",
    "cv_results_dict['parameter-names-mapping'] = [{key: value} for key, value in parameter_name_mappings.items()]\n",
    "cv_results_dict['times'] =  [{'mean_fit_time': bayes_search.cv_results_['mean_fit_time'].tolist()},\n",
    "                            {'std_fit_time': bayes_search.cv_results_['std_fit_time'].tolist()},\n",
    "                            {'mean_score_time': bayes_search.cv_results_['mean_score_time'].tolist()},\n",
    "                            {'std_score_time': bayes_search.cv_results_['std_score_time'].tolist()}]\n",
    "#cv_results_dict['parameter-iterations'] = {0: [{key: string_if_not_number(value)} for key, value in bayes_search.cv_results_['params'][0].items()]}\n",
    "cv_results_dict['parameter-iterations'] = [{index: [{key: string_if_not_number(value)} for key, value in bayes_search.cv_results_['params'][index].items()]}\n",
    "                                           for index in range(len(bayes_search.cv_results_['params']))]\n",
    "with open('cross_validation_run_1__bayes_search.yaml', 'w') as file:\n",
    "    documents = yaml.dump(cv_results_dict, file, default_flow_style=False, sort_keys=False)"
   ],
   "metadata": {
    "collapsed": false,
    "pycharm": {
     "name": "#%%\n"
    }
   }
  },
  {
   "cell_type": "code",
   "execution_count": 46,
   "outputs": [
    {
     "data": {
      "text/plain": "'{\"mean_fit_time\": [8.607591819763183, 18.35172846317291, 14.556998300552369, 3.0219259738922117, 7.049980521202087, 18.70175940990448, 13.891419529914856, 15.623548531532288, 11.998731970787048, 7.509766674041748, 0.1735776662826538, 9.384089374542237, 5.655016994476318, 0.16592030525207518, 6.225056481361389, 0.3053241014480591, 4.6856777429580685, 16.80604910850525, 6.481409955024719, 7.614270448684692, 10.258113551139832, 9.636303806304932, 7.536649060249329, 11.107892513275146, 9.022265768051147, 0.3356295347213745, 9.49984450340271, 8.341375923156738, 8.30572566986084, 8.145986080169678]}'"
     },
     "execution_count": 46,
     "metadata": {},
     "output_type": "execute_result"
    }
   ],
   "source": [
    "import json\n",
    "\n",
    "temp = json.dumps({'mean_fit_time': bayes_search.cv_results_['mean_fit_time'].tolist()})\n",
    "with open('cross_validation_run_1__bayes_search.json', 'w', encoding='utf-8') as f:\n",
    "    json.dump(temp, f, ensure_ascii=False, indent=4)\n",
    "\n",
    "\n",
    "with open('cross_validation_run_1__bayes_search.json') as infile:\n",
    "    d = json.load(infile)\n",
    "\n",
    "d"
   ],
   "metadata": {
    "collapsed": false,
    "pycharm": {
     "name": "#%%\n"
    }
   }
  },
  {
   "cell_type": "markdown",
   "source": [
    "## Results"
   ],
   "metadata": {
    "collapsed": false,
    "pycharm": {
     "name": "#%% md\n"
    }
   }
  },
  {
   "cell_type": "code",
   "execution_count": 23,
   "outputs": [
    {
     "name": "stdout",
     "output_type": "stream",
     "text": [
      "2\n",
      "5\n"
     ]
    }
   ],
   "source": [
    "print(bayes_search.cv.n_repeats)\n",
    "print(bayes_search.cv.cvargs['n_splits'])"
   ],
   "metadata": {
    "collapsed": false,
    "pycharm": {
     "name": "#%%\n"
    }
   }
  },
  {
   "cell_type": "code",
   "execution_count": 24,
   "outputs": [
    {
     "name": "stdout",
     "output_type": "stream",
     "text": [
      "0.7714917147899578\n",
      "OrderedDict([('model__max_features', 0.01), ('model__n_estimators', 5000), ('prep__non_numeric__encoder__transformer', CustomOrdinalEncoder()), ('prep__numeric__impute__transformer', SimpleImputer()), ('prep__numeric__scaling__transformer', MinMaxScaler())])\n"
     ]
    }
   ],
   "source": [
    "print(bayes_search.best_score_)\n",
    "print(bayes_search.best_params_)"
   ],
   "metadata": {
    "collapsed": false,
    "pycharm": {
     "name": "#%%\n"
    }
   }
  },
  {
   "cell_type": "code",
   "execution_count": 25,
   "outputs": [
    {
     "data": {
      "text/plain": "{'model | max_features': 'max_features',\n 'model | n_estimators': 'n_estimators',\n 'prep | non_numeric | encoder | transformer': 'encoder',\n 'prep | numeric | impute | transformer': 'imputer',\n 'prep | numeric | scaling | transformer': 'scaler'}"
     },
     "execution_count": 25,
     "metadata": {},
     "output_type": "execute_result"
    }
   ],
   "source": [
    "new_param_column_names"
   ],
   "metadata": {
    "collapsed": false,
    "pycharm": {
     "name": "#%%\n"
    }
   }
  },
  {
   "cell_type": "code",
   "execution_count": 26,
   "outputs": [],
   "source": [
    "bayes_search_parsed = hlp.sklearn_eval.SearchCVParser(searcher=bayes_search,\n",
    "                                                      higher_score_is_better = True,\n",
    "                                                      new_param_column_names=new_param_column_names)"
   ],
   "metadata": {
    "collapsed": false,
    "pycharm": {
     "name": "#%%\n"
    }
   }
  },
  {
   "cell_type": "code",
   "execution_count": 27,
   "outputs": [
    {
     "data": {
      "text/plain": "<pandas.io.formats.style.Styler at 0x7f9a8907c1f0>",
      "text/html": "<style type=\"text/css\">\n#T_8301c_row0_col0, #T_8301c_row1_col0 {\n  width: 10em;\n  height: 80%;\n  background: linear-gradient(90deg,#1AAF54 100.0%, transparent 100.0%);\n}\n#T_8301c_row0_col1 {\n  width: 10em;\n  height: 80%;\n  background: linear-gradient(90deg,transparent 87.9%, #B4B7B9 87.9%);\n}\n#T_8301c_row0_col2 {\n  width: 10em;\n  height: 80%;\n  background: linear-gradient(90deg,#B4B7B9 97.8%, transparent 97.8%);\n}\n#T_8301c_row0_col3, #T_8301c_row0_col4, #T_8301c_row0_col5, #T_8301c_row0_col6, #T_8301c_row1_col3, #T_8301c_row1_col4, #T_8301c_row1_col5, #T_8301c_row1_col6, #T_8301c_row2_col3, #T_8301c_row2_col4, #T_8301c_row2_col5, #T_8301c_row2_col6, #T_8301c_row3_col3, #T_8301c_row3_col4, #T_8301c_row3_col5, #T_8301c_row3_col6, #T_8301c_row4_col3, #T_8301c_row4_col4, #T_8301c_row4_col5, #T_8301c_row4_col6, #T_8301c_row5_col3, #T_8301c_row5_col4, #T_8301c_row5_col5, #T_8301c_row5_col6, #T_8301c_row6_col3, #T_8301c_row6_col4, #T_8301c_row6_col5, #T_8301c_row6_col6, #T_8301c_row7_col3, #T_8301c_row7_col4, #T_8301c_row7_col5, #T_8301c_row7_col6, #T_8301c_row8_col3, #T_8301c_row8_col4, #T_8301c_row8_col5, #T_8301c_row8_col6, #T_8301c_row9_col3, #T_8301c_row9_col4, #T_8301c_row9_col5, #T_8301c_row9_col6, #T_8301c_row10_col3, #T_8301c_row10_col4, #T_8301c_row10_col5, #T_8301c_row10_col6, #T_8301c_row11_col3, #T_8301c_row11_col4, #T_8301c_row11_col5, #T_8301c_row11_col6, #T_8301c_row12_col3, #T_8301c_row12_col4, #T_8301c_row12_col5, #T_8301c_row12_col6, #T_8301c_row13_col3, #T_8301c_row13_col4, #T_8301c_row13_col5, #T_8301c_row13_col6 {\n  background-color: #7AA9CF;\n}\n#T_8301c_row1_col1 {\n  width: 10em;\n  height: 80%;\n  background: linear-gradient(90deg,transparent 100.0%, #B4B7B9 100.0%);\n}\n#T_8301c_row1_col2, #T_8301c_row2_col2, #T_8301c_row11_col2 {\n  width: 10em;\n  height: 80%;\n  background: linear-gradient(90deg,#B4B7B9 77.8%, transparent 77.8%);\n}\n#T_8301c_row2_col0, #T_8301c_row3_col0 {\n  width: 10em;\n  height: 80%;\n  background: linear-gradient(90deg,#1AAF54 96.1%, transparent 96.1%);\n}\n#T_8301c_row2_col1 {\n  width: 10em;\n  height: 80%;\n  background: linear-gradient(90deg,transparent 93.9%, #B4B7B9 93.9%);\n}\n#T_8301c_row3_col1 {\n  width: 10em;\n  height: 80%;\n  background: linear-gradient(90deg,transparent 86.4%, #B4B7B9 86.4%);\n}\n#T_8301c_row3_col2, #T_8301c_row10_col2 {\n  width: 10em;\n  height: 80%;\n  background: linear-gradient(90deg,#B4B7B9 88.9%, transparent 88.9%);\n}\n#T_8301c_row4_col0, #T_8301c_row5_col0 {\n  width: 10em;\n  height: 80%;\n  background: linear-gradient(90deg,#1AAF54 92.2%, transparent 92.2%);\n}\n#T_8301c_row4_col1, #T_8301c_row9_col1, #T_8301c_row11_col1 {\n  width: 10em;\n  height: 80%;\n  background: linear-gradient(90deg,transparent 71.2%, #B4B7B9 71.2%);\n}\n#T_8301c_row4_col2, #T_8301c_row6_col2 {\n  width: 10em;\n  height: 80%;\n  background: linear-gradient(90deg,#B4B7B9 100.0%, transparent 100.0%);\n}\n#T_8301c_row5_col1, #T_8301c_row7_col1 {\n  width: 10em;\n  height: 80%;\n  background: linear-gradient(90deg,transparent 95.5%, #B4B7B9 95.5%);\n}\n#T_8301c_row5_col2 {\n  width: 10em;\n  height: 80%;\n  background: linear-gradient(90deg,#B4B7B9 64.4%, transparent 64.4%);\n}\n#T_8301c_row6_col0 {\n  width: 10em;\n  height: 80%;\n  background: linear-gradient(90deg,#1AAF54 90.2%, transparent 90.2%);\n}\n#T_8301c_row6_col1 {\n  width: 10em;\n  height: 80%;\n  background: linear-gradient(90deg,transparent 68.2%, #B4B7B9 68.2%);\n}\n#T_8301c_row7_col0 {\n  width: 10em;\n  height: 80%;\n  background: linear-gradient(90deg,#1AAF54 86.3%, transparent 86.3%);\n}\n#T_8301c_row7_col2, #T_8301c_row19_col2 {\n  width: 10em;\n  height: 80%;\n  background: linear-gradient(90deg,#B4B7B9 53.3%, transparent 53.3%);\n}\n#T_8301c_row8_col0 {\n  width: 10em;\n  height: 80%;\n  background: linear-gradient(90deg,#1AAF54 84.3%, transparent 84.3%);\n}\n#T_8301c_row8_col1 {\n  width: 10em;\n  height: 80%;\n  background: linear-gradient(90deg,transparent 63.6%, #B4B7B9 63.6%);\n}\n#T_8301c_row8_col2, #T_8301c_row12_col2 {\n  width: 10em;\n  height: 80%;\n  background: linear-gradient(90deg,#B4B7B9 95.6%, transparent 95.6%);\n}\n#T_8301c_row9_col0, #T_8301c_row10_col0 {\n  width: 10em;\n  height: 80%;\n  background: linear-gradient(90deg,#1AAF54 82.4%, transparent 82.4%);\n}\n#T_8301c_row9_col2 {\n  width: 10em;\n  height: 80%;\n  background: linear-gradient(90deg,#B4B7B9 82.2%, transparent 82.2%);\n}\n#T_8301c_row10_col1, #T_8301c_row17_col1 {\n  width: 10em;\n  height: 80%;\n  background: linear-gradient(90deg,transparent 66.7%, #B4B7B9 66.7%);\n}\n#T_8301c_row11_col0, #T_8301c_row12_col0, #T_8301c_row13_col0 {\n  width: 10em;\n  height: 80%;\n  background: linear-gradient(90deg,#1AAF54 80.4%, transparent 80.4%);\n}\n#T_8301c_row12_col1 {\n  width: 10em;\n  height: 80%;\n  background: linear-gradient(90deg,transparent 57.6%, #B4B7B9 57.6%);\n}\n#T_8301c_row13_col1 {\n  width: 10em;\n  height: 80%;\n  background: linear-gradient(90deg,transparent 74.2%, #B4B7B9 74.2%);\n}\n#T_8301c_row13_col2 {\n  width: 10em;\n  height: 80%;\n  background: linear-gradient(90deg,#B4B7B9 71.1%, transparent 71.1%);\n}\n#T_8301c_row14_col0 {\n  width: 10em;\n  height: 80%;\n  background: linear-gradient(90deg,#1AAF54 76.5%, transparent 76.5%);\n}\n#T_8301c_row14_col1 {\n  width: 10em;\n  height: 80%;\n  background: linear-gradient(90deg,transparent 89.4%, #B4B7B9 89.4%);\n}\n#T_8301c_row14_col2, #T_8301c_row21_col2 {\n  width: 10em;\n  height: 80%;\n  background: linear-gradient(90deg,#B4B7B9 40.0%, transparent 40.0%);\n}\n#T_8301c_row15_col0 {\n  width: 10em;\n  height: 80%;\n  background: linear-gradient(90deg,#1AAF54 72.5%, transparent 72.5%);\n}\n#T_8301c_row15_col1 {\n  width: 10em;\n  height: 80%;\n  background: linear-gradient(90deg,transparent 78.8%, #B4B7B9 78.8%);\n}\n#T_8301c_row15_col2, #T_8301c_row16_col2, #T_8301c_row24_col2 {\n  width: 10em;\n  height: 80%;\n  background: linear-gradient(90deg,#B4B7B9 44.4%, transparent 44.4%);\n}\n#T_8301c_row16_col0 {\n  width: 10em;\n  height: 80%;\n  background: linear-gradient(90deg,#1AAF54 60.8%, transparent 60.8%);\n}\n#T_8301c_row16_col1, #T_8301c_row18_col1 {\n  width: 10em;\n  height: 80%;\n  background: linear-gradient(90deg,transparent 60.6%, #B4B7B9 60.6%);\n}\n#T_8301c_row17_col0, #T_8301c_row18_col0 {\n  width: 10em;\n  height: 80%;\n  background: linear-gradient(90deg,#1AAF54 58.8%, transparent 58.8%);\n}\n#T_8301c_row17_col2, #T_8301c_row26_col2 {\n  width: 10em;\n  height: 80%;\n  background: linear-gradient(90deg,#B4B7B9 33.3%, transparent 33.3%);\n}\n#T_8301c_row18_col2 {\n  width: 10em;\n  height: 80%;\n  background: linear-gradient(90deg,#B4B7B9 42.2%, transparent 42.2%);\n}\n#T_8301c_row19_col0, #T_8301c_row20_col0 {\n  width: 10em;\n  height: 80%;\n  background: linear-gradient(90deg,#1AAF54 56.9%, transparent 56.9%);\n}\n#T_8301c_row19_col1 {\n  width: 10em;\n  height: 80%;\n  background: linear-gradient(90deg,transparent 50.0%, #B4B7B9 50.0%);\n}\n#T_8301c_row20_col1 {\n  width: 10em;\n  height: 80%;\n  background: linear-gradient(90deg,transparent 59.1%, #B4B7B9 59.1%);\n}\n#T_8301c_row20_col2 {\n  width: 10em;\n  height: 80%;\n  background: linear-gradient(90deg,#B4B7B9 37.8%, transparent 37.8%);\n}\n#T_8301c_row21_col0 {\n  width: 10em;\n  height: 80%;\n  background: linear-gradient(90deg,#1AAF54 54.9%, transparent 54.9%);\n}\n#T_8301c_row21_col1, #T_8301c_row23_col1 {\n  width: 10em;\n  height: 80%;\n  background: linear-gradient(90deg,transparent 56.1%, #B4B7B9 56.1%);\n}\n#T_8301c_row22_col0 {\n  width: 10em;\n  height: 80%;\n  background: linear-gradient(90deg,#1AAF54 52.9%, transparent 52.9%);\n}\n#T_8301c_row22_col1 {\n  width: 10em;\n  height: 80%;\n  background: linear-gradient(90deg,transparent 43.9%, #B4B7B9 43.9%);\n}\n#T_8301c_row22_col2 {\n  width: 10em;\n  height: 80%;\n  background: linear-gradient(90deg,#B4B7B9 55.6%, transparent 55.6%);\n}\n#T_8301c_row23_col0 {\n  width: 10em;\n  height: 80%;\n  background: linear-gradient(90deg,#1AAF54 51.0%, transparent 51.0%);\n}\n#T_8301c_row23_col2 {\n  width: 10em;\n  height: 80%;\n  background: linear-gradient(90deg,#B4B7B9 31.1%, transparent 31.1%);\n}\n#T_8301c_row24_col0 {\n  width: 10em;\n  height: 80%;\n  background: linear-gradient(90deg,#1AAF54 49.0%, transparent 49.0%);\n}\n#T_8301c_row24_col1 {\n  width: 10em;\n  height: 80%;\n  background: linear-gradient(90deg,transparent 45.5%, #B4B7B9 45.5%);\n}\n#T_8301c_row25_col0, #T_8301c_row26_col0 {\n  width: 10em;\n  height: 80%;\n  background: linear-gradient(90deg,#1AAF54 43.1%, transparent 43.1%);\n}\n#T_8301c_row25_col1 {\n  width: 10em;\n  height: 80%;\n  background: linear-gradient(90deg,transparent 48.5%, #B4B7B9 48.5%);\n}\n#T_8301c_row25_col2 {\n  width: 10em;\n  height: 80%;\n  background: linear-gradient(90deg,#B4B7B9 24.4%, transparent 24.4%);\n}\n#T_8301c_row26_col1 {\n  width: 10em;\n  height: 80%;\n  background: linear-gradient(90deg,transparent 42.4%, #B4B7B9 42.4%);\n}\n#T_8301c_row27_col0 {\n  width: 10em;\n  height: 80%;\n  background: linear-gradient(90deg,#1AAF54 35.3%, transparent 35.3%);\n}\n#T_8301c_row27_col1 {\n  width: 10em;\n  height: 80%;\n  background: linear-gradient(90deg,transparent 37.9%, #B4B7B9 37.9%);\n}\n#T_8301c_row27_col2 {\n  width: 10em;\n  height: 80%;\n  background: linear-gradient(90deg,#B4B7B9 22.2%, transparent 22.2%);\n}\n#T_8301c_row28_col0 {\n  width: 10em;\n  height: 80%;\n  background: linear-gradient(90deg,#1AAF54 11.8%, transparent 11.8%);\n}\n#T_8301c_row28_col1 {\n  width: 10em;\n  height: 80%;\n  background: linear-gradient(90deg,transparent 16.7%, #B4B7B9 16.7%);\n}\n#T_8301c_row28_col2 {\n  width: 10em;\n  height: 80%;\n  background: linear-gradient(90deg,#B4B7B9 2.2%, transparent 2.2%);\n}\n#T_8301c_row29_col0, #T_8301c_row29_col2 {\n  width: 10em;\n  height: 80%;\n}\n#T_8301c_row29_col1 {\n  width: 10em;\n  height: 80%;\n  background: linear-gradient(90deg, #B4B7B9 100.0%, transparent 100.0%, transparent 100.0%, #B4B7B9 100.0%);\n}\n</style>\n<table id=\"T_8301c_\">\n  <thead>\n    <tr>\n      <th class=\"col_heading level0 col0\" >roc_auc Mean</th>\n      <th class=\"col_heading level0 col1\" >roc_auc 95CI.LO</th>\n      <th class=\"col_heading level0 col2\" >roc_auc 95CI.HI</th>\n      <th class=\"col_heading level0 col3\" >max_features</th>\n      <th class=\"col_heading level0 col4\" >n_estimators</th>\n      <th class=\"col_heading level0 col5\" >encoder</th>\n      <th class=\"col_heading level0 col6\" >scaler</th>\n    </tr>\n  </thead>\n  <tbody>\n    <tr>\n      <td id=\"T_8301c_row0_col0\" class=\"data row0 col0\" >0.771</td>\n      <td id=\"T_8301c_row0_col1\" class=\"data row0 col1\" >0.746</td>\n      <td id=\"T_8301c_row0_col2\" class=\"data row0 col2\" >0.797</td>\n      <td id=\"T_8301c_row0_col3\" class=\"data row0 col3\" >0.010</td>\n      <td id=\"T_8301c_row0_col4\" class=\"data row0 col4\" >5,000</td>\n      <td id=\"T_8301c_row0_col5\" class=\"data row0 col5\" >CustomOrdinalEncoder()</td>\n      <td id=\"T_8301c_row0_col6\" class=\"data row0 col6\" >MinMaxScaler()</td>\n    </tr>\n    <tr>\n      <td id=\"T_8301c_row1_col0\" class=\"data row1 col0\" >0.771</td>\n      <td id=\"T_8301c_row1_col1\" class=\"data row1 col1\" >0.754</td>\n      <td id=\"T_8301c_row1_col2\" class=\"data row1 col2\" >0.788</td>\n      <td id=\"T_8301c_row1_col3\" class=\"data row1 col3\" >0.014</td>\n      <td id=\"T_8301c_row1_col4\" class=\"data row1 col4\" >4,098</td>\n      <td id=\"T_8301c_row1_col5\" class=\"data row1 col5\" >CustomOrdinalEncoder()</td>\n      <td id=\"T_8301c_row1_col6\" class=\"data row1 col6\" >StandardScaler()</td>\n    </tr>\n    <tr>\n      <td id=\"T_8301c_row2_col0\" class=\"data row2 col0\" >0.769</td>\n      <td id=\"T_8301c_row2_col1\" class=\"data row2 col1\" >0.750</td>\n      <td id=\"T_8301c_row2_col2\" class=\"data row2 col2\" >0.788</td>\n      <td id=\"T_8301c_row2_col3\" class=\"data row2 col3\" >0.010</td>\n      <td id=\"T_8301c_row2_col4\" class=\"data row2 col4\" >5,000</td>\n      <td id=\"T_8301c_row2_col5\" class=\"data row2 col5\" >CustomOrdinalEncoder()</td>\n      <td id=\"T_8301c_row2_col6\" class=\"data row2 col6\" >StandardScaler()</td>\n    </tr>\n    <tr>\n      <td id=\"T_8301c_row3_col0\" class=\"data row3 col0\" >0.769</td>\n      <td id=\"T_8301c_row3_col1\" class=\"data row3 col1\" >0.745</td>\n      <td id=\"T_8301c_row3_col2\" class=\"data row3 col2\" >0.793</td>\n      <td id=\"T_8301c_row3_col3\" class=\"data row3 col3\" >0.149</td>\n      <td id=\"T_8301c_row3_col4\" class=\"data row3 col4\" >4,169</td>\n      <td id=\"T_8301c_row3_col5\" class=\"data row3 col5\" >CustomOrdinalEncoder()</td>\n      <td id=\"T_8301c_row3_col6\" class=\"data row3 col6\" >MinMaxScaler()</td>\n    </tr>\n    <tr>\n      <td id=\"T_8301c_row4_col0\" class=\"data row4 col0\" >0.767</td>\n      <td id=\"T_8301c_row4_col1\" class=\"data row4 col1\" >0.735</td>\n      <td id=\"T_8301c_row4_col2\" class=\"data row4 col2\" >0.798</td>\n      <td id=\"T_8301c_row4_col3\" class=\"data row4 col3\" >0.010</td>\n      <td id=\"T_8301c_row4_col4\" class=\"data row4 col4\" >5,000</td>\n      <td id=\"T_8301c_row4_col5\" class=\"data row4 col5\" >CustomOrdinalEncoder()</td>\n      <td id=\"T_8301c_row4_col6\" class=\"data row4 col6\" >StandardScaler()</td>\n    </tr>\n    <tr>\n      <td id=\"T_8301c_row5_col0\" class=\"data row5 col0\" >0.767</td>\n      <td id=\"T_8301c_row5_col1\" class=\"data row5 col1\" >0.751</td>\n      <td id=\"T_8301c_row5_col2\" class=\"data row5 col2\" >0.782</td>\n      <td id=\"T_8301c_row5_col3\" class=\"data row5 col3\" >0.010</td>\n      <td id=\"T_8301c_row5_col4\" class=\"data row5 col4\" >3,043</td>\n      <td id=\"T_8301c_row5_col5\" class=\"data row5 col5\" >CustomOrdinalEncoder()</td>\n      <td id=\"T_8301c_row5_col6\" class=\"data row5 col6\" >MinMaxScaler()</td>\n    </tr>\n    <tr>\n      <td id=\"T_8301c_row6_col0\" class=\"data row6 col0\" >0.766</td>\n      <td id=\"T_8301c_row6_col1\" class=\"data row6 col1\" >0.733</td>\n      <td id=\"T_8301c_row6_col2\" class=\"data row6 col2\" >0.798</td>\n      <td id=\"T_8301c_row6_col3\" class=\"data row6 col3\" >0.010</td>\n      <td id=\"T_8301c_row6_col4\" class=\"data row6 col4\" >3,521</td>\n      <td id=\"T_8301c_row6_col5\" class=\"data row6 col5\" >CustomOrdinalEncoder()</td>\n      <td id=\"T_8301c_row6_col6\" class=\"data row6 col6\" >StandardScaler()</td>\n    </tr>\n    <tr>\n      <td id=\"T_8301c_row7_col0\" class=\"data row7 col0\" >0.764</td>\n      <td id=\"T_8301c_row7_col1\" class=\"data row7 col1\" >0.751</td>\n      <td id=\"T_8301c_row7_col2\" class=\"data row7 col2\" >0.777</td>\n      <td id=\"T_8301c_row7_col3\" class=\"data row7 col3\" >0.010</td>\n      <td id=\"T_8301c_row7_col4\" class=\"data row7 col4\" >4,271</td>\n      <td id=\"T_8301c_row7_col5\" class=\"data row7 col5\" >CustomOrdinalEncoder()</td>\n      <td id=\"T_8301c_row7_col6\" class=\"data row7 col6\" >MinMaxScaler()</td>\n    </tr>\n    <tr>\n      <td id=\"T_8301c_row8_col0\" class=\"data row8 col0\" >0.763</td>\n      <td id=\"T_8301c_row8_col1\" class=\"data row8 col1\" >0.730</td>\n      <td id=\"T_8301c_row8_col2\" class=\"data row8 col2\" >0.796</td>\n      <td id=\"T_8301c_row8_col3\" class=\"data row8 col3\" >0.010</td>\n      <td id=\"T_8301c_row8_col4\" class=\"data row8 col4\" >5,000</td>\n      <td id=\"T_8301c_row8_col5\" class=\"data row8 col5\" >CustomOrdinalEncoder()</td>\n      <td id=\"T_8301c_row8_col6\" class=\"data row8 col6\" >MinMaxScaler()</td>\n    </tr>\n    <tr>\n      <td id=\"T_8301c_row9_col0\" class=\"data row9 col0\" >0.762</td>\n      <td id=\"T_8301c_row9_col1\" class=\"data row9 col1\" >0.735</td>\n      <td id=\"T_8301c_row9_col2\" class=\"data row9 col2\" >0.790</td>\n      <td id=\"T_8301c_row9_col3\" class=\"data row9 col3\" >0.412</td>\n      <td id=\"T_8301c_row9_col4\" class=\"data row9 col4\" >3,652</td>\n      <td id=\"T_8301c_row9_col5\" class=\"data row9 col5\" >CustomOrdinalEncoder()</td>\n      <td id=\"T_8301c_row9_col6\" class=\"data row9 col6\" >StandardScaler()</td>\n    </tr>\n    <tr>\n      <td id=\"T_8301c_row10_col0\" class=\"data row10 col0\" >0.762</td>\n      <td id=\"T_8301c_row10_col1\" class=\"data row10 col1\" >0.732</td>\n      <td id=\"T_8301c_row10_col2\" class=\"data row10 col2\" >0.793</td>\n      <td id=\"T_8301c_row10_col3\" class=\"data row10 col3\" >0.018</td>\n      <td id=\"T_8301c_row10_col4\" class=\"data row10 col4\" >2,413</td>\n      <td id=\"T_8301c_row10_col5\" class=\"data row10 col5\" >CustomOrdinalEncoder()</td>\n      <td id=\"T_8301c_row10_col6\" class=\"data row10 col6\" >StandardScaler()</td>\n    </tr>\n    <tr>\n      <td id=\"T_8301c_row11_col0\" class=\"data row11 col0\" >0.761</td>\n      <td id=\"T_8301c_row11_col1\" class=\"data row11 col1\" >0.735</td>\n      <td id=\"T_8301c_row11_col2\" class=\"data row11 col2\" >0.788</td>\n      <td id=\"T_8301c_row11_col3\" class=\"data row11 col3\" >0.010</td>\n      <td id=\"T_8301c_row11_col4\" class=\"data row11 col4\" >5,000</td>\n      <td id=\"T_8301c_row11_col5\" class=\"data row11 col5\" >OneHotEncoder()</td>\n      <td id=\"T_8301c_row11_col6\" class=\"data row11 col6\" >StandardScaler()</td>\n    </tr>\n    <tr>\n      <td id=\"T_8301c_row12_col0\" class=\"data row12 col0\" >0.761</td>\n      <td id=\"T_8301c_row12_col1\" class=\"data row12 col1\" >0.726</td>\n      <td id=\"T_8301c_row12_col2\" class=\"data row12 col2\" >0.796</td>\n      <td id=\"T_8301c_row12_col3\" class=\"data row12 col3\" >0.010</td>\n      <td id=\"T_8301c_row12_col4\" class=\"data row12 col4\" >3,353</td>\n      <td id=\"T_8301c_row12_col5\" class=\"data row12 col5\" >OneHotEncoder()</td>\n      <td id=\"T_8301c_row12_col6\" class=\"data row12 col6\" >StandardScaler()</td>\n    </tr>\n    <tr>\n      <td id=\"T_8301c_row13_col0\" class=\"data row13 col0\" >0.761</td>\n      <td id=\"T_8301c_row13_col1\" class=\"data row13 col1\" >0.737</td>\n      <td id=\"T_8301c_row13_col2\" class=\"data row13 col2\" >0.785</td>\n      <td id=\"T_8301c_row13_col3\" class=\"data row13 col3\" >0.332</td>\n      <td id=\"T_8301c_row13_col4\" class=\"data row13 col4\" >4,986</td>\n      <td id=\"T_8301c_row13_col5\" class=\"data row13 col5\" >CustomOrdinalEncoder()</td>\n      <td id=\"T_8301c_row13_col6\" class=\"data row13 col6\" >MinMaxScaler()</td>\n    </tr>\n    <tr>\n      <td id=\"T_8301c_row14_col0\" class=\"data row14 col0\" >0.759</td>\n      <td id=\"T_8301c_row14_col1\" class=\"data row14 col1\" >0.747</td>\n      <td id=\"T_8301c_row14_col2\" class=\"data row14 col2\" >0.771</td>\n      <td id=\"T_8301c_row14_col3\" class=\"data row14 col3\" >0.015</td>\n      <td id=\"T_8301c_row14_col4\" class=\"data row14 col4\" >4,924</td>\n      <td id=\"T_8301c_row14_col5\" class=\"data row14 col5\" >OneHotEncoder()</td>\n      <td id=\"T_8301c_row14_col6\" class=\"data row14 col6\" >MinMaxScaler()</td>\n    </tr>\n    <tr>\n      <td id=\"T_8301c_row15_col0\" class=\"data row15 col0\" >0.757</td>\n      <td id=\"T_8301c_row15_col1\" class=\"data row15 col1\" >0.740</td>\n      <td id=\"T_8301c_row15_col2\" class=\"data row15 col2\" >0.773</td>\n      <td id=\"T_8301c_row15_col3\" class=\"data row15 col3\" >0.161</td>\n      <td id=\"T_8301c_row15_col4\" class=\"data row15 col4\" >3,699</td>\n      <td id=\"T_8301c_row15_col5\" class=\"data row15 col5\" >CustomOrdinalEncoder()</td>\n      <td id=\"T_8301c_row15_col6\" class=\"data row15 col6\" >StandardScaler()</td>\n    </tr>\n    <tr>\n      <td id=\"T_8301c_row16_col0\" class=\"data row16 col0\" >0.751</td>\n      <td id=\"T_8301c_row16_col1\" class=\"data row16 col1\" >0.728</td>\n      <td id=\"T_8301c_row16_col2\" class=\"data row16 col2\" >0.773</td>\n      <td id=\"T_8301c_row16_col3\" class=\"data row16 col3\" >0.615</td>\n      <td id=\"T_8301c_row16_col4\" class=\"data row16 col4\" >3,888</td>\n      <td id=\"T_8301c_row16_col5\" class=\"data row16 col5\" >OneHotEncoder()</td>\n      <td id=\"T_8301c_row16_col6\" class=\"data row16 col6\" >StandardScaler()</td>\n    </tr>\n    <tr>\n      <td id=\"T_8301c_row17_col0\" class=\"data row17 col0\" >0.750</td>\n      <td id=\"T_8301c_row17_col1\" class=\"data row17 col1\" >0.732</td>\n      <td id=\"T_8301c_row17_col2\" class=\"data row17 col2\" >0.768</td>\n      <td id=\"T_8301c_row17_col3\" class=\"data row17 col3\" >0.729</td>\n      <td id=\"T_8301c_row17_col4\" class=\"data row17 col4\" >4,700</td>\n      <td id=\"T_8301c_row17_col5\" class=\"data row17 col5\" >OneHotEncoder()</td>\n      <td id=\"T_8301c_row17_col6\" class=\"data row17 col6\" >StandardScaler()</td>\n    </tr>\n    <tr>\n      <td id=\"T_8301c_row18_col0\" class=\"data row18 col0\" >0.750</td>\n      <td id=\"T_8301c_row18_col1\" class=\"data row18 col1\" >0.728</td>\n      <td id=\"T_8301c_row18_col2\" class=\"data row18 col2\" >0.772</td>\n      <td id=\"T_8301c_row18_col3\" class=\"data row18 col3\" >0.990</td>\n      <td id=\"T_8301c_row18_col4\" class=\"data row18 col4\" >2,265</td>\n      <td id=\"T_8301c_row18_col5\" class=\"data row18 col5\" >OneHotEncoder()</td>\n      <td id=\"T_8301c_row18_col6\" class=\"data row18 col6\" >MinMaxScaler()</td>\n    </tr>\n    <tr>\n      <td id=\"T_8301c_row19_col0\" class=\"data row19 col0\" >0.749</td>\n      <td id=\"T_8301c_row19_col1\" class=\"data row19 col1\" >0.721</td>\n      <td id=\"T_8301c_row19_col2\" class=\"data row19 col2\" >0.777</td>\n      <td id=\"T_8301c_row19_col3\" class=\"data row19 col3\" >0.446</td>\n      <td id=\"T_8301c_row19_col4\" class=\"data row19 col4\" >4,598</td>\n      <td id=\"T_8301c_row19_col5\" class=\"data row19 col5\" >OneHotEncoder()</td>\n      <td id=\"T_8301c_row19_col6\" class=\"data row19 col6\" >MinMaxScaler()</td>\n    </tr>\n    <tr>\n      <td id=\"T_8301c_row20_col0\" class=\"data row20 col0\" >0.749</td>\n      <td id=\"T_8301c_row20_col1\" class=\"data row20 col1\" >0.727</td>\n      <td id=\"T_8301c_row20_col2\" class=\"data row20 col2\" >0.770</td>\n      <td id=\"T_8301c_row20_col3\" class=\"data row20 col3\" >0.831</td>\n      <td id=\"T_8301c_row20_col4\" class=\"data row20 col4\" >4,422</td>\n      <td id=\"T_8301c_row20_col5\" class=\"data row20 col5\" >OneHotEncoder()</td>\n      <td id=\"T_8301c_row20_col6\" class=\"data row20 col6\" >StandardScaler()</td>\n    </tr>\n    <tr>\n      <td id=\"T_8301c_row21_col0\" class=\"data row21 col0\" >0.748</td>\n      <td id=\"T_8301c_row21_col1\" class=\"data row21 col1\" >0.725</td>\n      <td id=\"T_8301c_row21_col2\" class=\"data row21 col2\" >0.771</td>\n      <td id=\"T_8301c_row21_col3\" class=\"data row21 col3\" >0.990</td>\n      <td id=\"T_8301c_row21_col4\" class=\"data row21 col4\" >50</td>\n      <td id=\"T_8301c_row21_col5\" class=\"data row21 col5\" >OneHotEncoder()</td>\n      <td id=\"T_8301c_row21_col6\" class=\"data row21 col6\" >MinMaxScaler()</td>\n    </tr>\n    <tr>\n      <td id=\"T_8301c_row22_col0\" class=\"data row22 col0\" >0.747</td>\n      <td id=\"T_8301c_row22_col1\" class=\"data row22 col1\" >0.717</td>\n      <td id=\"T_8301c_row22_col2\" class=\"data row22 col2\" >0.778</td>\n      <td id=\"T_8301c_row22_col3\" class=\"data row22 col3\" >0.543</td>\n      <td id=\"T_8301c_row22_col4\" class=\"data row22 col4\" >4,604</td>\n      <td id=\"T_8301c_row22_col5\" class=\"data row22 col5\" >OneHotEncoder()</td>\n      <td id=\"T_8301c_row22_col6\" class=\"data row22 col6\" >MinMaxScaler()</td>\n    </tr>\n    <tr>\n      <td id=\"T_8301c_row23_col0\" class=\"data row23 col0\" >0.746</td>\n      <td id=\"T_8301c_row23_col1\" class=\"data row23 col1\" >0.725</td>\n      <td id=\"T_8301c_row23_col2\" class=\"data row23 col2\" >0.767</td>\n      <td id=\"T_8301c_row23_col3\" class=\"data row23 col3\" >0.806</td>\n      <td id=\"T_8301c_row23_col4\" class=\"data row23 col4\" >901</td>\n      <td id=\"T_8301c_row23_col5\" class=\"data row23 col5\" >CustomOrdinalEncoder()</td>\n      <td id=\"T_8301c_row23_col6\" class=\"data row23 col6\" >StandardScaler()</td>\n    </tr>\n    <tr>\n      <td id=\"T_8301c_row24_col0\" class=\"data row24 col0\" >0.745</td>\n      <td id=\"T_8301c_row24_col1\" class=\"data row24 col1\" >0.718</td>\n      <td id=\"T_8301c_row24_col2\" class=\"data row24 col2\" >0.773</td>\n      <td id=\"T_8301c_row24_col3\" class=\"data row24 col3\" >0.976</td>\n      <td id=\"T_8301c_row24_col4\" class=\"data row24 col4\" >4,977</td>\n      <td id=\"T_8301c_row24_col5\" class=\"data row24 col5\" >CustomOrdinalEncoder()</td>\n      <td id=\"T_8301c_row24_col6\" class=\"data row24 col6\" >StandardScaler()</td>\n    </tr>\n    <tr>\n      <td id=\"T_8301c_row25_col0\" class=\"data row25 col0\" >0.742</td>\n      <td id=\"T_8301c_row25_col1\" class=\"data row25 col1\" >0.720</td>\n      <td id=\"T_8301c_row25_col2\" class=\"data row25 col2\" >0.764</td>\n      <td id=\"T_8301c_row25_col3\" class=\"data row25 col3\" >0.946</td>\n      <td id=\"T_8301c_row25_col4\" class=\"data row25 col4\" >3,518</td>\n      <td id=\"T_8301c_row25_col5\" class=\"data row25 col5\" >CustomOrdinalEncoder()</td>\n      <td id=\"T_8301c_row25_col6\" class=\"data row25 col6\" >MinMaxScaler()</td>\n    </tr>\n    <tr>\n      <td id=\"T_8301c_row26_col0\" class=\"data row26 col0\" >0.742</td>\n      <td id=\"T_8301c_row26_col1\" class=\"data row26 col1\" >0.716</td>\n      <td id=\"T_8301c_row26_col2\" class=\"data row26 col2\" >0.768</td>\n      <td id=\"T_8301c_row26_col3\" class=\"data row26 col3\" >0.794</td>\n      <td id=\"T_8301c_row26_col4\" class=\"data row26 col4\" >2,218</td>\n      <td id=\"T_8301c_row26_col5\" class=\"data row26 col5\" >CustomOrdinalEncoder()</td>\n      <td id=\"T_8301c_row26_col6\" class=\"data row26 col6\" >StandardScaler()</td>\n    </tr>\n    <tr>\n      <td id=\"T_8301c_row27_col0\" class=\"data row27 col0\" >0.738</td>\n      <td id=\"T_8301c_row27_col1\" class=\"data row27 col1\" >0.713</td>\n      <td id=\"T_8301c_row27_col2\" class=\"data row27 col2\" >0.763</td>\n      <td id=\"T_8301c_row27_col3\" class=\"data row27 col3\" >0.195</td>\n      <td id=\"T_8301c_row27_col4\" class=\"data row27 col4\" >56</td>\n      <td id=\"T_8301c_row27_col5\" class=\"data row27 col5\" >CustomOrdinalEncoder()</td>\n      <td id=\"T_8301c_row27_col6\" class=\"data row27 col6\" >MinMaxScaler()</td>\n    </tr>\n    <tr>\n      <td id=\"T_8301c_row28_col0\" class=\"data row28 col0\" >0.726</td>\n      <td id=\"T_8301c_row28_col1\" class=\"data row28 col1\" >0.699</td>\n      <td id=\"T_8301c_row28_col2\" class=\"data row28 col2\" >0.754</td>\n      <td id=\"T_8301c_row28_col3\" class=\"data row28 col3\" >0.984</td>\n      <td id=\"T_8301c_row28_col4\" class=\"data row28 col4\" >67</td>\n      <td id=\"T_8301c_row28_col5\" class=\"data row28 col5\" >CustomOrdinalEncoder()</td>\n      <td id=\"T_8301c_row28_col6\" class=\"data row28 col6\" >MinMaxScaler()</td>\n    </tr>\n    <tr>\n      <td id=\"T_8301c_row29_col0\" class=\"data row29 col0\" >0.720</td>\n      <td id=\"T_8301c_row29_col1\" class=\"data row29 col1\" >0.688</td>\n      <td id=\"T_8301c_row29_col2\" class=\"data row29 col2\" >0.753</td>\n      <td id=\"T_8301c_row29_col3\" class=\"data row29 col3\" >0.010</td>\n      <td id=\"T_8301c_row29_col4\" class=\"data row29 col4\" >50</td>\n      <td id=\"T_8301c_row29_col5\" class=\"data row29 col5\" >OneHotEncoder()</td>\n      <td id=\"T_8301c_row29_col6\" class=\"data row29 col6\" >StandardScaler()</td>\n    </tr>\n  </tbody>\n</table>\n"
     },
     "execution_count": 27,
     "metadata": {},
     "output_type": "execute_result"
    }
   ],
   "source": [
    "bayes_search_parsed.formatted_results()"
   ],
   "metadata": {
    "collapsed": false,
    "pycharm": {
     "name": "#%%\n"
    }
   }
  },
  {
   "cell_type": "code",
   "execution_count": 28,
   "outputs": [
    {
     "data": {
      "text/plain": "<Figure size 432x288 with 1 Axes>",
      "image/png": "[encoded data removed]"
     },
     "metadata": {
      "needs_background": "light"
     },
     "output_type": "display_data"
    }
   ],
   "source": [
    "sns.regplot(x=np.arange(0, len(bayes_search_parsed.results)), y=bayes_search_parsed.results.sort_index()['roc_auc Mean'], lowess=True)\n",
    "plt.title(\"Average ROC_AUC over all iterations\")\n",
    "plt.ylabel(\"Average ROC_AUC\")\n",
    "plt.xlabel(\"Iteration\")\n",
    "plt.tight_layout()"
   ],
   "metadata": {
    "collapsed": false,
    "pycharm": {
     "name": "#%%\n"
    }
   }
  },
  {
   "cell_type": "code",
   "execution_count": 29,
   "outputs": [
    {
     "data": {
      "text/plain": "<Figure size 432x288 with 1 Axes>",
      "image/png": "[encoded data removed]"
     },
     "metadata": {
      "needs_background": "light"
     },
     "output_type": "display_data"
    }
   ],
   "source": [
    "bayes_search_parsed.results.sort_index()['roc_auc Mean'].plot()\n",
    "plt.title(\"Average ROC_AUC over all iterations\")\n",
    "plt.ylabel(\"Average ROC_AUC\")\n",
    "plt.xlabel(\"Iteration\")\n",
    "plt.tight_layout()"
   ],
   "metadata": {
    "collapsed": false,
    "pycharm": {
     "name": "#%%\n"
    }
   }
  },
  {
   "cell_type": "code",
   "execution_count": 29,
   "outputs": [],
   "source": [],
   "metadata": {
    "collapsed": false,
    "pycharm": {
     "name": "#%%\n"
    }
   }
  }
 ],
 "metadata": {
  "kernelspec": {
   "display_name": "Python 3 (ipykernel)",
   "language": "python",
   "name": "python3"
  },
  "language_info": {
   "codemirror_mode": {
    "name": "ipython",
    "version": 3
   },
   "file_extension": ".py",
   "mimetype": "text/x-python",
   "name": "python",
   "nbconvert_exporter": "python",
   "pygments_lexer": "ipython3",
   "version": "3.9.6"
  },
  "toc": {
   "base_numbering": 1,
   "nav_menu": {},
   "number_sections": false,
   "sideBar": true,
   "skip_h1_title": false,
   "title_cell": "Table of Contents",
   "title_sidebar": "Contents",
   "toc_cell": false,
   "toc_position": {
    "height": "calc(100% - 180px)",
    "left": "10px",
    "top": "150px",
    "width": "298px"
   },
   "toc_section_display": true,
   "toc_window_display": true
  }
 },
 "nbformat": 4,
 "nbformat_minor": 5
}