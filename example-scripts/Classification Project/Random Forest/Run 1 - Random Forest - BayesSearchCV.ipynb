{
 "cells": [
  {
   "cell_type": "markdown",
   "source": [
    "This files contains an example of tuning a Random Forest model with BayesSearchCV\n",
    "\n",
    "It saves the BayesSearchCV object to the `cross-validation.pkl`"
   ],
   "metadata": {
    "collapsed": false,
    "pycharm": {
     "name": "#%% md\n"
    }
   }
  },
  {
   "cell_type": "code",
   "execution_count": 1,
   "id": "c5f3fe51",
   "metadata": {},
   "outputs": [],
   "source": [
    "import pickle\n",
    "import helpsk as hlp\n",
    "import matplotlib.pyplot as plt\n",
    "import pandas as pd\n",
    "import numpy as np\n",
    "from sklearn.datasets import fetch_openml\n",
    "import seaborn as sns\n",
    "\n",
    "from sklearn.pipeline import Pipeline\n",
    "from sklearn.preprocessing import StandardScaler, MinMaxScaler, OneHotEncoder\n",
    "from sklearn.impute import SimpleImputer\n",
    "from sklearn.model_selection import train_test_split\n",
    "\n",
    "%matplotlib inline"
   ]
  },
  {
   "cell_type": "markdown",
   "id": "8ff88fe0",
   "metadata": {},
   "source": [
    "# Load Data"
   ]
  },
  {
   "cell_type": "code",
   "execution_count": 2,
   "outputs": [],
   "source": [
    "with open('../../X_train.pkl', 'rb') as handle:\n",
    "    X_train = pickle.load(handle)\n",
    "\n",
    "with open('../../y_train.pkl', 'rb') as handle:\n",
    "    y_train = pickle.load(handle)"
   ],
   "metadata": {
    "collapsed": false,
    "pycharm": {
     "name": "#%%\n"
    }
   }
  },
  {
   "cell_type": "code",
   "execution_count": 3,
   "outputs": [
    {
     "data": {
      "text/plain": "<pandas.io.formats.style.Styler at 0x7fb8603bd6a0>",
      "text/html": "<style type=\"text/css\">\n#T_b0be4_row0_col1, #T_b0be4_row1_col3 {\n  background-color: #EBB13E;\n}\n#T_b0be4_row0_col2 {\n  width: 10em;\n  height: 80%;\n  background: linear-gradient(90deg,#CF3721 5.0%, transparent 5.0%);\n}\n#T_b0be4_row0_col4, #T_b0be4_row1_col2, #T_b0be4_row2_col2, #T_b0be4_row2_col4, #T_b0be4_row3_col2, #T_b0be4_row3_col4, #T_b0be4_row4_col2, #T_b0be4_row4_col4, #T_b0be4_row5_col2, #T_b0be4_row5_col4, #T_b0be4_row6_col2, #T_b0be4_row6_col4 {\n  width: 10em;\n  height: 80%;\n}\n#T_b0be4_row0_col7 {\n  width: 10em;\n  height: 80%;\n  background: linear-gradient(90deg,#B4B7B9 56.0%, transparent 56.0%);\n}\n#T_b0be4_row0_col8 {\n  width: 10em;\n  height: 80%;\n  background: linear-gradient(90deg, transparent 50.0%, #B4B7B9 50.0%, #B4B7B9 75.2%, transparent 75.2%);\n}\n#T_b0be4_row1_col4 {\n  width: 10em;\n  height: 80%;\n  background: linear-gradient(90deg,#B4B7B9 5.0%, transparent 5.0%);\n}\n#T_b0be4_row1_col7 {\n  width: 10em;\n  height: 80%;\n  background: linear-gradient(90deg,#B4B7B9 92.0%, transparent 92.0%);\n}\n#T_b0be4_row1_col8 {\n  width: 10em;\n  height: 80%;\n  background: linear-gradient(90deg, transparent 50.0%, #B4B7B9 50.0%, #B4B7B9 96.7%, transparent 96.7%);\n}\n#T_b0be4_row2_col7 {\n  width: 10em;\n  height: 80%;\n  background: linear-gradient(90deg,#B4B7B9 38.0%, transparent 38.0%);\n}\n#T_b0be4_row2_col8 {\n  width: 10em;\n  height: 80%;\n  background: linear-gradient(90deg, transparent 37.0%, #B4B7B9 37.0%, #B4B7B9 50.0%, transparent 50.0%);\n}\n#T_b0be4_row3_col7 {\n  width: 10em;\n  height: 80%;\n  background: linear-gradient(90deg,#B4B7B9 39.0%, transparent 39.0%);\n}\n#T_b0be4_row3_col8 {\n  width: 10em;\n  height: 80%;\n  background: linear-gradient(90deg, transparent 43.2%, #B4B7B9 43.2%, #B4B7B9 50.0%, transparent 50.0%);\n}\n#T_b0be4_row4_col7 {\n  width: 10em;\n  height: 80%;\n  background: linear-gradient(90deg,#B4B7B9 32.0%, transparent 32.0%);\n}\n#T_b0be4_row4_col8 {\n  width: 10em;\n  height: 80%;\n  background: linear-gradient(90deg, transparent 50.0%, #B4B7B9 50.0%, #B4B7B9 75.7%, transparent 75.7%);\n}\n#T_b0be4_row5_col7 {\n  width: 10em;\n  height: 80%;\n  background: linear-gradient(90deg,#B4B7B9 41.0%, transparent 41.0%);\n}\n#T_b0be4_row5_col8 {\n  width: 10em;\n  height: 80%;\n  background: linear-gradient(90deg, transparent 50.0%, #B4B7B9 50.0%, #B4B7B9 81.5%, transparent 81.5%);\n}\n#T_b0be4_row6_col7 {\n  width: 10em;\n  height: 80%;\n  background: linear-gradient(90deg,#B4B7B9 31.0%, transparent 31.0%);\n}\n#T_b0be4_row6_col8 {\n  width: 10em;\n  height: 80%;\n  background: linear-gradient(90deg, transparent 50.0%, #B4B7B9 50.0%, #B4B7B9 100.0%, transparent 100.0%);\n}\n</style>\n<table id=\"T_b0be4_\">\n  <thead>\n    <tr>\n      <th class=\"blank level0\" >&nbsp;</th>\n      <th class=\"col_heading level0 col0\" ># of Non-Nulls</th>\n      <th class=\"col_heading level0 col1\" ># of Nulls</th>\n      <th class=\"col_heading level0 col2\" >% Nulls</th>\n      <th class=\"col_heading level0 col3\" ># of Zeros</th>\n      <th class=\"col_heading level0 col4\" >% Zeros</th>\n      <th class=\"col_heading level0 col5\" >Mean</th>\n      <th class=\"col_heading level0 col6\" >St Dev.</th>\n      <th class=\"col_heading level0 col7\" >Coef of Var</th>\n      <th class=\"col_heading level0 col8\" >Skewness</th>\n      <th class=\"col_heading level0 col9\" >Kurtosis</th>\n      <th class=\"col_heading level0 col10\" >Min</th>\n      <th class=\"col_heading level0 col11\" >10%</th>\n      <th class=\"col_heading level0 col12\" >25%</th>\n      <th class=\"col_heading level0 col13\" >50%</th>\n      <th class=\"col_heading level0 col14\" >75%</th>\n      <th class=\"col_heading level0 col15\" >90%</th>\n      <th class=\"col_heading level0 col16\" >Max</th>\n    </tr>\n  </thead>\n  <tbody>\n    <tr>\n      <th id=\"T_b0be4_level0_row0\" class=\"row_heading level0 row0\" >duration</th>\n      <td id=\"T_b0be4_row0_col0\" class=\"data row0 col0\" >760</td>\n      <td id=\"T_b0be4_row0_col1\" class=\"data row0 col1\" >40</td>\n      <td id=\"T_b0be4_row0_col2\" class=\"data row0 col2\" >5.0%</td>\n      <td id=\"T_b0be4_row0_col3\" class=\"data row0 col3\" >0</td>\n      <td id=\"T_b0be4_row0_col4\" class=\"data row0 col4\" >0.0%</td>\n      <td id=\"T_b0be4_row0_col5\" class=\"data row0 col5\" >21.0</td>\n      <td id=\"T_b0be4_row0_col6\" class=\"data row0 col6\" >11.7</td>\n      <td id=\"T_b0be4_row0_col7\" class=\"data row0 col7\" >0.6</td>\n      <td id=\"T_b0be4_row0_col8\" class=\"data row0 col8\" >1.0</td>\n      <td id=\"T_b0be4_row0_col9\" class=\"data row0 col9\" >0.6</td>\n      <td id=\"T_b0be4_row0_col10\" class=\"data row0 col10\" >4.0</td>\n      <td id=\"T_b0be4_row0_col11\" class=\"data row0 col11\" >9.0</td>\n      <td id=\"T_b0be4_row0_col12\" class=\"data row0 col12\" >12.0</td>\n      <td id=\"T_b0be4_row0_col13\" class=\"data row0 col13\" >18.0</td>\n      <td id=\"T_b0be4_row0_col14\" class=\"data row0 col14\" >24.0</td>\n      <td id=\"T_b0be4_row0_col15\" class=\"data row0 col15\" >36.0</td>\n      <td id=\"T_b0be4_row0_col16\" class=\"data row0 col16\" >60.0</td>\n    </tr>\n    <tr>\n      <th id=\"T_b0be4_level0_row1\" class=\"row_heading level0 row1\" >credit_amount</th>\n      <td id=\"T_b0be4_row1_col0\" class=\"data row1 col0\" >800</td>\n      <td id=\"T_b0be4_row1_col1\" class=\"data row1 col1\" >0</td>\n      <td id=\"T_b0be4_row1_col2\" class=\"data row1 col2\" >0.0%</td>\n      <td id=\"T_b0be4_row1_col3\" class=\"data row1 col3\" >38</td>\n      <td id=\"T_b0be4_row1_col4\" class=\"data row1 col4\" >5.0%</td>\n      <td id=\"T_b0be4_row1_col5\" class=\"data row1 col5\" >3,203.9</td>\n      <td id=\"T_b0be4_row1_col6\" class=\"data row1 col6\" >2,932.3</td>\n      <td id=\"T_b0be4_row1_col7\" class=\"data row1 col7\" >0.9</td>\n      <td id=\"T_b0be4_row1_col8\" class=\"data row1 col8\" >1.9</td>\n      <td id=\"T_b0be4_row1_col9\" class=\"data row1 col9\" >3.9</td>\n      <td id=\"T_b0be4_row1_col10\" class=\"data row1 col10\" >0.0</td>\n      <td id=\"T_b0be4_row1_col11\" class=\"data row1 col11\" >753.9</td>\n      <td id=\"T_b0be4_row1_col12\" class=\"data row1 col12\" >1,300.8</td>\n      <td id=\"T_b0be4_row1_col13\" class=\"data row1 col13\" >2,236.5</td>\n      <td id=\"T_b0be4_row1_col14\" class=\"data row1 col14\" >3,951.5</td>\n      <td id=\"T_b0be4_row1_col15\" class=\"data row1 col15\" >7,394.6</td>\n      <td id=\"T_b0be4_row1_col16\" class=\"data row1 col16\" >18,424.0</td>\n    </tr>\n    <tr>\n      <th id=\"T_b0be4_level0_row2\" class=\"row_heading level0 row2\" >installment_commitment</th>\n      <td id=\"T_b0be4_row2_col0\" class=\"data row2 col0\" >800</td>\n      <td id=\"T_b0be4_row2_col1\" class=\"data row2 col1\" >0</td>\n      <td id=\"T_b0be4_row2_col2\" class=\"data row2 col2\" >0.0%</td>\n      <td id=\"T_b0be4_row2_col3\" class=\"data row2 col3\" >0</td>\n      <td id=\"T_b0be4_row2_col4\" class=\"data row2 col4\" >0.0%</td>\n      <td id=\"T_b0be4_row2_col5\" class=\"data row2 col5\" >3.0</td>\n      <td id=\"T_b0be4_row2_col6\" class=\"data row2 col6\" >1.1</td>\n      <td id=\"T_b0be4_row2_col7\" class=\"data row2 col7\" >0.4</td>\n      <td id=\"T_b0be4_row2_col8\" class=\"data row2 col8\" >-0.5</td>\n      <td id=\"T_b0be4_row2_col9\" class=\"data row2 col9\" >-1.2</td>\n      <td id=\"T_b0be4_row2_col10\" class=\"data row2 col10\" >1.0</td>\n      <td id=\"T_b0be4_row2_col11\" class=\"data row2 col11\" >1.0</td>\n      <td id=\"T_b0be4_row2_col12\" class=\"data row2 col12\" >2.0</td>\n      <td id=\"T_b0be4_row2_col13\" class=\"data row2 col13\" >3.0</td>\n      <td id=\"T_b0be4_row2_col14\" class=\"data row2 col14\" >4.0</td>\n      <td id=\"T_b0be4_row2_col15\" class=\"data row2 col15\" >4.0</td>\n      <td id=\"T_b0be4_row2_col16\" class=\"data row2 col16\" >4.0</td>\n    </tr>\n    <tr>\n      <th id=\"T_b0be4_level0_row3\" class=\"row_heading level0 row3\" >residence_since</th>\n      <td id=\"T_b0be4_row3_col0\" class=\"data row3 col0\" >800</td>\n      <td id=\"T_b0be4_row3_col1\" class=\"data row3 col1\" >0</td>\n      <td id=\"T_b0be4_row3_col2\" class=\"data row3 col2\" >0.0%</td>\n      <td id=\"T_b0be4_row3_col3\" class=\"data row3 col3\" >0</td>\n      <td id=\"T_b0be4_row3_col4\" class=\"data row3 col4\" >0.0%</td>\n      <td id=\"T_b0be4_row3_col5\" class=\"data row3 col5\" >2.9</td>\n      <td id=\"T_b0be4_row3_col6\" class=\"data row3 col6\" >1.1</td>\n      <td id=\"T_b0be4_row3_col7\" class=\"data row3 col7\" >0.4</td>\n      <td id=\"T_b0be4_row3_col8\" class=\"data row3 col8\" >-0.3</td>\n      <td id=\"T_b0be4_row3_col9\" class=\"data row3 col9\" >-1.4</td>\n      <td id=\"T_b0be4_row3_col10\" class=\"data row3 col10\" >1.0</td>\n      <td id=\"T_b0be4_row3_col11\" class=\"data row3 col11\" >1.0</td>\n      <td id=\"T_b0be4_row3_col12\" class=\"data row3 col12\" >2.0</td>\n      <td id=\"T_b0be4_row3_col13\" class=\"data row3 col13\" >3.0</td>\n      <td id=\"T_b0be4_row3_col14\" class=\"data row3 col14\" >4.0</td>\n      <td id=\"T_b0be4_row3_col15\" class=\"data row3 col15\" >4.0</td>\n      <td id=\"T_b0be4_row3_col16\" class=\"data row3 col16\" >4.0</td>\n    </tr>\n    <tr>\n      <th id=\"T_b0be4_level0_row4\" class=\"row_heading level0 row4\" >age</th>\n      <td id=\"T_b0be4_row4_col0\" class=\"data row4 col0\" >800</td>\n      <td id=\"T_b0be4_row4_col1\" class=\"data row4 col1\" >0</td>\n      <td id=\"T_b0be4_row4_col2\" class=\"data row4 col2\" >0.0%</td>\n      <td id=\"T_b0be4_row4_col3\" class=\"data row4 col3\" >0</td>\n      <td id=\"T_b0be4_row4_col4\" class=\"data row4 col4\" >0.0%</td>\n      <td id=\"T_b0be4_row4_col5\" class=\"data row4 col5\" >35.6</td>\n      <td id=\"T_b0be4_row4_col6\" class=\"data row4 col6\" >11.4</td>\n      <td id=\"T_b0be4_row4_col7\" class=\"data row4 col7\" >0.3</td>\n      <td id=\"T_b0be4_row4_col8\" class=\"data row4 col8\" >1.0</td>\n      <td id=\"T_b0be4_row4_col9\" class=\"data row4 col9\" >0.7</td>\n      <td id=\"T_b0be4_row4_col10\" class=\"data row4 col10\" >19.0</td>\n      <td id=\"T_b0be4_row4_col11\" class=\"data row4 col11\" >23.0</td>\n      <td id=\"T_b0be4_row4_col12\" class=\"data row4 col12\" >27.0</td>\n      <td id=\"T_b0be4_row4_col13\" class=\"data row4 col13\" >33.0</td>\n      <td id=\"T_b0be4_row4_col14\" class=\"data row4 col14\" >42.0</td>\n      <td id=\"T_b0be4_row4_col15\" class=\"data row4 col15\" >52.0</td>\n      <td id=\"T_b0be4_row4_col16\" class=\"data row4 col16\" >75.0</td>\n    </tr>\n    <tr>\n      <th id=\"T_b0be4_level0_row5\" class=\"row_heading level0 row5\" >existing_credits</th>\n      <td id=\"T_b0be4_row5_col0\" class=\"data row5 col0\" >800</td>\n      <td id=\"T_b0be4_row5_col1\" class=\"data row5 col1\" >0</td>\n      <td id=\"T_b0be4_row5_col2\" class=\"data row5 col2\" >0.0%</td>\n      <td id=\"T_b0be4_row5_col3\" class=\"data row5 col3\" >0</td>\n      <td id=\"T_b0be4_row5_col4\" class=\"data row5 col4\" >0.0%</td>\n      <td id=\"T_b0be4_row5_col5\" class=\"data row5 col5\" >1.4</td>\n      <td id=\"T_b0be4_row5_col6\" class=\"data row5 col6\" >0.6</td>\n      <td id=\"T_b0be4_row5_col7\" class=\"data row5 col7\" >0.4</td>\n      <td id=\"T_b0be4_row5_col8\" class=\"data row5 col8\" >1.3</td>\n      <td id=\"T_b0be4_row5_col9\" class=\"data row5 col9\" >1.6</td>\n      <td id=\"T_b0be4_row5_col10\" class=\"data row5 col10\" >1.0</td>\n      <td id=\"T_b0be4_row5_col11\" class=\"data row5 col11\" >1.0</td>\n      <td id=\"T_b0be4_row5_col12\" class=\"data row5 col12\" >1.0</td>\n      <td id=\"T_b0be4_row5_col13\" class=\"data row5 col13\" >1.0</td>\n      <td id=\"T_b0be4_row5_col14\" class=\"data row5 col14\" >2.0</td>\n      <td id=\"T_b0be4_row5_col15\" class=\"data row5 col15\" >2.0</td>\n      <td id=\"T_b0be4_row5_col16\" class=\"data row5 col16\" >4.0</td>\n    </tr>\n    <tr>\n      <th id=\"T_b0be4_level0_row6\" class=\"row_heading level0 row6\" >num_dependents</th>\n      <td id=\"T_b0be4_row6_col0\" class=\"data row6 col0\" >800</td>\n      <td id=\"T_b0be4_row6_col1\" class=\"data row6 col1\" >0</td>\n      <td id=\"T_b0be4_row6_col2\" class=\"data row6 col2\" >0.0%</td>\n      <td id=\"T_b0be4_row6_col3\" class=\"data row6 col3\" >0</td>\n      <td id=\"T_b0be4_row6_col4\" class=\"data row6 col4\" >0.0%</td>\n      <td id=\"T_b0be4_row6_col5\" class=\"data row6 col5\" >1.1</td>\n      <td id=\"T_b0be4_row6_col6\" class=\"data row6 col6\" >0.3</td>\n      <td id=\"T_b0be4_row6_col7\" class=\"data row6 col7\" >0.3</td>\n      <td id=\"T_b0be4_row6_col8\" class=\"data row6 col8\" >2.0</td>\n      <td id=\"T_b0be4_row6_col9\" class=\"data row6 col9\" >2.1</td>\n      <td id=\"T_b0be4_row6_col10\" class=\"data row6 col10\" >1.0</td>\n      <td id=\"T_b0be4_row6_col11\" class=\"data row6 col11\" >1.0</td>\n      <td id=\"T_b0be4_row6_col12\" class=\"data row6 col12\" >1.0</td>\n      <td id=\"T_b0be4_row6_col13\" class=\"data row6 col13\" >1.0</td>\n      <td id=\"T_b0be4_row6_col14\" class=\"data row6 col14\" >1.0</td>\n      <td id=\"T_b0be4_row6_col15\" class=\"data row6 col15\" >2.0</td>\n      <td id=\"T_b0be4_row6_col16\" class=\"data row6 col16\" >2.0</td>\n    </tr>\n  </tbody>\n</table>\n"
     },
     "execution_count": 3,
     "metadata": {},
     "output_type": "execute_result"
    }
   ],
   "source": [
    "hlp.pandas.numeric_summary(X_train, return_style=True)"
   ],
   "metadata": {
    "collapsed": false,
    "pycharm": {
     "name": "#%%\n"
    }
   }
  },
  {
   "cell_type": "code",
   "execution_count": 4,
   "outputs": [
    {
     "data": {
      "text/plain": "<pandas.io.formats.style.Styler at 0x7fb8524cc850>",
      "text/html": "<style type=\"text/css\">\n#T_b6757_row0_col1 {\n  background-color: #EBB13E;\n}\n#T_b6757_row0_col2 {\n  width: 10em;\n  height: 80%;\n  background: linear-gradient(90deg,#CF3721 4.6%, transparent 4.6%);\n}\n#T_b6757_row0_col5, #T_b6757_row5_col5, #T_b6757_row7_col5, #T_b6757_row10_col5 {\n  width: 10em;\n  height: 80%;\n  background: linear-gradient(90deg,#B4B7B9 0.5%, transparent 0.5%);\n}\n#T_b6757_row1_col2, #T_b6757_row2_col2, #T_b6757_row3_col2, #T_b6757_row4_col2, #T_b6757_row5_col2, #T_b6757_row6_col2, #T_b6757_row7_col2, #T_b6757_row8_col2, #T_b6757_row9_col2, #T_b6757_row10_col2, #T_b6757_row11_col2, #T_b6757_row12_col2 {\n  width: 10em;\n  height: 80%;\n}\n#T_b6757_row1_col5, #T_b6757_row3_col5, #T_b6757_row4_col5 {\n  width: 10em;\n  height: 80%;\n  background: linear-gradient(90deg,#B4B7B9 0.6%, transparent 0.6%);\n}\n#T_b6757_row2_col5 {\n  width: 10em;\n  height: 80%;\n  background: linear-gradient(90deg,#B4B7B9 1.2%, transparent 1.2%);\n}\n#T_b6757_row6_col5, #T_b6757_row8_col5, #T_b6757_row9_col5 {\n  width: 10em;\n  height: 80%;\n  background: linear-gradient(90deg,#B4B7B9 0.4%, transparent 0.4%);\n}\n#T_b6757_row11_col5, #T_b6757_row12_col5 {\n  width: 10em;\n  height: 80%;\n  background: linear-gradient(90deg,#B4B7B9 0.2%, transparent 0.2%);\n}\n</style>\n<table id=\"T_b6757_\">\n  <thead>\n    <tr>\n      <th class=\"blank level0\" >&nbsp;</th>\n      <th class=\"col_heading level0 col0\" ># of Non-Nulls</th>\n      <th class=\"col_heading level0 col1\" ># of Nulls</th>\n      <th class=\"col_heading level0 col2\" >% Nulls</th>\n      <th class=\"col_heading level0 col3\" >Most Freq. Value</th>\n      <th class=\"col_heading level0 col4\" ># of Unique</th>\n      <th class=\"col_heading level0 col5\" >% Unique</th>\n    </tr>\n  </thead>\n  <tbody>\n    <tr>\n      <th id=\"T_b6757_level0_row0\" class=\"row_heading level0 row0\" >checking_status</th>\n      <td id=\"T_b6757_row0_col0\" class=\"data row0 col0\" >763</td>\n      <td id=\"T_b6757_row0_col1\" class=\"data row0 col1\" >37</td>\n      <td id=\"T_b6757_row0_col2\" class=\"data row0 col2\" >4.6%</td>\n      <td id=\"T_b6757_row0_col3\" class=\"data row0 col3\" >no checking</td>\n      <td id=\"T_b6757_row0_col4\" class=\"data row0 col4\" >4</td>\n      <td id=\"T_b6757_row0_col5\" class=\"data row0 col5\" >0.5%</td>\n    </tr>\n    <tr>\n      <th id=\"T_b6757_level0_row1\" class=\"row_heading level0 row1\" >credit_history</th>\n      <td id=\"T_b6757_row1_col0\" class=\"data row1 col0\" >800</td>\n      <td id=\"T_b6757_row1_col1\" class=\"data row1 col1\" >0</td>\n      <td id=\"T_b6757_row1_col2\" class=\"data row1 col2\" >0.0%</td>\n      <td id=\"T_b6757_row1_col3\" class=\"data row1 col3\" >existing paid</td>\n      <td id=\"T_b6757_row1_col4\" class=\"data row1 col4\" >5</td>\n      <td id=\"T_b6757_row1_col5\" class=\"data row1 col5\" >0.6%</td>\n    </tr>\n    <tr>\n      <th id=\"T_b6757_level0_row2\" class=\"row_heading level0 row2\" >purpose</th>\n      <td id=\"T_b6757_row2_col0\" class=\"data row2 col0\" >800</td>\n      <td id=\"T_b6757_row2_col1\" class=\"data row2 col1\" >0</td>\n      <td id=\"T_b6757_row2_col2\" class=\"data row2 col2\" >0.0%</td>\n      <td id=\"T_b6757_row2_col3\" class=\"data row2 col3\" >radio/tv</td>\n      <td id=\"T_b6757_row2_col4\" class=\"data row2 col4\" >10</td>\n      <td id=\"T_b6757_row2_col5\" class=\"data row2 col5\" >1.2%</td>\n    </tr>\n    <tr>\n      <th id=\"T_b6757_level0_row3\" class=\"row_heading level0 row3\" >savings_status</th>\n      <td id=\"T_b6757_row3_col0\" class=\"data row3 col0\" >800</td>\n      <td id=\"T_b6757_row3_col1\" class=\"data row3 col1\" >0</td>\n      <td id=\"T_b6757_row3_col2\" class=\"data row3 col2\" >0.0%</td>\n      <td id=\"T_b6757_row3_col3\" class=\"data row3 col3\" >&lt;100</td>\n      <td id=\"T_b6757_row3_col4\" class=\"data row3 col4\" >5</td>\n      <td id=\"T_b6757_row3_col5\" class=\"data row3 col5\" >0.6%</td>\n    </tr>\n    <tr>\n      <th id=\"T_b6757_level0_row4\" class=\"row_heading level0 row4\" >employment</th>\n      <td id=\"T_b6757_row4_col0\" class=\"data row4 col0\" >800</td>\n      <td id=\"T_b6757_row4_col1\" class=\"data row4 col1\" >0</td>\n      <td id=\"T_b6757_row4_col2\" class=\"data row4 col2\" >0.0%</td>\n      <td id=\"T_b6757_row4_col3\" class=\"data row4 col3\" >1&lt;=X&lt;4</td>\n      <td id=\"T_b6757_row4_col4\" class=\"data row4 col4\" >5</td>\n      <td id=\"T_b6757_row4_col5\" class=\"data row4 col5\" >0.6%</td>\n    </tr>\n    <tr>\n      <th id=\"T_b6757_level0_row5\" class=\"row_heading level0 row5\" >personal_status</th>\n      <td id=\"T_b6757_row5_col0\" class=\"data row5 col0\" >800</td>\n      <td id=\"T_b6757_row5_col1\" class=\"data row5 col1\" >0</td>\n      <td id=\"T_b6757_row5_col2\" class=\"data row5 col2\" >0.0%</td>\n      <td id=\"T_b6757_row5_col3\" class=\"data row5 col3\" >male single</td>\n      <td id=\"T_b6757_row5_col4\" class=\"data row5 col4\" >4</td>\n      <td id=\"T_b6757_row5_col5\" class=\"data row5 col5\" >0.5%</td>\n    </tr>\n    <tr>\n      <th id=\"T_b6757_level0_row6\" class=\"row_heading level0 row6\" >other_parties</th>\n      <td id=\"T_b6757_row6_col0\" class=\"data row6 col0\" >800</td>\n      <td id=\"T_b6757_row6_col1\" class=\"data row6 col1\" >0</td>\n      <td id=\"T_b6757_row6_col2\" class=\"data row6 col2\" >0.0%</td>\n      <td id=\"T_b6757_row6_col3\" class=\"data row6 col3\" >none</td>\n      <td id=\"T_b6757_row6_col4\" class=\"data row6 col4\" >3</td>\n      <td id=\"T_b6757_row6_col5\" class=\"data row6 col5\" >0.4%</td>\n    </tr>\n    <tr>\n      <th id=\"T_b6757_level0_row7\" class=\"row_heading level0 row7\" >property_magnitude</th>\n      <td id=\"T_b6757_row7_col0\" class=\"data row7 col0\" >800</td>\n      <td id=\"T_b6757_row7_col1\" class=\"data row7 col1\" >0</td>\n      <td id=\"T_b6757_row7_col2\" class=\"data row7 col2\" >0.0%</td>\n      <td id=\"T_b6757_row7_col3\" class=\"data row7 col3\" >car</td>\n      <td id=\"T_b6757_row7_col4\" class=\"data row7 col4\" >4</td>\n      <td id=\"T_b6757_row7_col5\" class=\"data row7 col5\" >0.5%</td>\n    </tr>\n    <tr>\n      <th id=\"T_b6757_level0_row8\" class=\"row_heading level0 row8\" >other_payment_plans</th>\n      <td id=\"T_b6757_row8_col0\" class=\"data row8 col0\" >800</td>\n      <td id=\"T_b6757_row8_col1\" class=\"data row8 col1\" >0</td>\n      <td id=\"T_b6757_row8_col2\" class=\"data row8 col2\" >0.0%</td>\n      <td id=\"T_b6757_row8_col3\" class=\"data row8 col3\" >none</td>\n      <td id=\"T_b6757_row8_col4\" class=\"data row8 col4\" >3</td>\n      <td id=\"T_b6757_row8_col5\" class=\"data row8 col5\" >0.4%</td>\n    </tr>\n    <tr>\n      <th id=\"T_b6757_level0_row9\" class=\"row_heading level0 row9\" >housing</th>\n      <td id=\"T_b6757_row9_col0\" class=\"data row9 col0\" >800</td>\n      <td id=\"T_b6757_row9_col1\" class=\"data row9 col1\" >0</td>\n      <td id=\"T_b6757_row9_col2\" class=\"data row9 col2\" >0.0%</td>\n      <td id=\"T_b6757_row9_col3\" class=\"data row9 col3\" >own</td>\n      <td id=\"T_b6757_row9_col4\" class=\"data row9 col4\" >3</td>\n      <td id=\"T_b6757_row9_col5\" class=\"data row9 col5\" >0.4%</td>\n    </tr>\n    <tr>\n      <th id=\"T_b6757_level0_row10\" class=\"row_heading level0 row10\" >job</th>\n      <td id=\"T_b6757_row10_col0\" class=\"data row10 col0\" >800</td>\n      <td id=\"T_b6757_row10_col1\" class=\"data row10 col1\" >0</td>\n      <td id=\"T_b6757_row10_col2\" class=\"data row10 col2\" >0.0%</td>\n      <td id=\"T_b6757_row10_col3\" class=\"data row10 col3\" >skilled</td>\n      <td id=\"T_b6757_row10_col4\" class=\"data row10 col4\" >4</td>\n      <td id=\"T_b6757_row10_col5\" class=\"data row10 col5\" >0.5%</td>\n    </tr>\n    <tr>\n      <th id=\"T_b6757_level0_row11\" class=\"row_heading level0 row11\" >own_telephone</th>\n      <td id=\"T_b6757_row11_col0\" class=\"data row11 col0\" >800</td>\n      <td id=\"T_b6757_row11_col1\" class=\"data row11 col1\" >0</td>\n      <td id=\"T_b6757_row11_col2\" class=\"data row11 col2\" >0.0%</td>\n      <td id=\"T_b6757_row11_col3\" class=\"data row11 col3\" >none</td>\n      <td id=\"T_b6757_row11_col4\" class=\"data row11 col4\" >2</td>\n      <td id=\"T_b6757_row11_col5\" class=\"data row11 col5\" >0.2%</td>\n    </tr>\n    <tr>\n      <th id=\"T_b6757_level0_row12\" class=\"row_heading level0 row12\" >foreign_worker</th>\n      <td id=\"T_b6757_row12_col0\" class=\"data row12 col0\" >800</td>\n      <td id=\"T_b6757_row12_col1\" class=\"data row12 col1\" >0</td>\n      <td id=\"T_b6757_row12_col2\" class=\"data row12 col2\" >0.0%</td>\n      <td id=\"T_b6757_row12_col3\" class=\"data row12 col3\" >yes</td>\n      <td id=\"T_b6757_row12_col4\" class=\"data row12 col4\" >2</td>\n      <td id=\"T_b6757_row12_col5\" class=\"data row12 col5\" >0.2%</td>\n    </tr>\n  </tbody>\n</table>\n"
     },
     "execution_count": 4,
     "metadata": {},
     "output_type": "execute_result"
    }
   ],
   "source": [
    "hlp.pandas.non_numeric_summary(X_train, return_style=True)"
   ],
   "metadata": {
    "collapsed": false,
    "pycharm": {
     "name": "#%%\n"
    }
   }
  },
  {
   "cell_type": "code",
   "execution_count": 5,
   "id": "86f44647",
   "metadata": {},
   "outputs": [
    {
     "data": {
      "text/plain": "array([0, 0, 1, 0, 1, 0, 1, 0, 0, 1])"
     },
     "execution_count": 5,
     "metadata": {},
     "output_type": "execute_result"
    }
   ],
   "source": [
    "y_train[0:10]"
   ]
  },
  {
   "cell_type": "code",
   "execution_count": 6,
   "id": "1662bbac",
   "metadata": {},
   "outputs": [
    {
     "data": {
      "text/plain": "(array([0, 1]), array([241, 559]))"
     },
     "execution_count": 6,
     "metadata": {},
     "output_type": "execute_result"
    }
   ],
   "source": [
    "np.unique(y_train, return_counts=True)"
   ]
  },
  {
   "cell_type": "code",
   "execution_count": 7,
   "id": "bc038e2c",
   "metadata": {},
   "outputs": [
    {
     "data": {
      "text/plain": "array([0.30125, 0.69875])"
     },
     "execution_count": 7,
     "metadata": {},
     "output_type": "execute_result"
    }
   ],
   "source": [
    "np.unique(y_train, return_counts=True)[1] / np.sum(np.unique(y_train, return_counts=True)[1])"
   ]
  },
  {
   "cell_type": "markdown",
   "id": "259f5c13",
   "metadata": {},
   "source": [
    "# Transformation Pipeline"
   ]
  },
  {
   "cell_type": "code",
   "execution_count": 8,
   "id": "c9b24b17",
   "metadata": {},
   "outputs": [
    {
     "data": {
      "text/plain": "array([[0., 2.],\n       [2., 2.],\n       [9., 1.],\n       ...,\n       [9., 3.],\n       [6., 4.],\n       [6., 2.]])"
     },
     "execution_count": 8,
     "metadata": {},
     "output_type": "execute_result"
    }
   ],
   "source": [
    "from sklearn.preprocessing import OrdinalEncoder\n",
    "OrdinalEncoder().fit_transform(X_train[['purpose', 'savings_status']])"
   ]
  },
  {
   "cell_type": "code",
   "execution_count": 9,
   "id": "742c6bf1",
   "metadata": {},
   "outputs": [
    {
     "name": "stdout",
     "output_type": "stream",
     "text": [
      "['duration', 'credit_amount', 'installment_commitment', 'residence_since', 'age', 'existing_credits', 'num_dependents']\n",
      "['checking_status', 'credit_history', 'purpose', 'savings_status', 'employment', 'personal_status', 'other_parties', 'property_magnitude', 'other_payment_plans', 'housing', 'job', 'own_telephone', 'foreign_worker']\n"
     ]
    }
   ],
   "source": [
    "numeric_columns = hlp.pandas.get_numeric_columns(X_train)\n",
    "non_numeric_columns = hlp.pandas.get_non_numeric_columns(X_train)\n",
    "print(numeric_columns)\n",
    "print(non_numeric_columns)"
   ]
  },
  {
   "cell_type": "code",
   "execution_count": 10,
   "id": "740dc372",
   "metadata": {},
   "outputs": [],
   "source": [
    "numeric_pipeline = Pipeline([\n",
    "    #tune whether or not we want to impute or simply remove rows with missing values\n",
    "    ('impute', hlp.sklearn_pipeline.TransformerChooser()),\n",
    "    # this is here so that we can select between MinMax and Scaler\n",
    "    # if this pipeline is ran in a context outside of tuning, no transformation will take place\n",
    "    ('scaling', hlp.sklearn_pipeline.TransformerChooser()),\n",
    "])"
   ]
  },
  {
   "cell_type": "code",
   "execution_count": 11,
   "id": "4ed41bd2",
   "metadata": {},
   "outputs": [],
   "source": [
    "non_numeric_pipeline = Pipeline([\n",
    "    ('encoder', hlp.sklearn_pipeline.TransformerChooser()),\n",
    "])"
   ]
  },
  {
   "cell_type": "code",
   "execution_count": 12,
   "id": "8f7f94d0",
   "metadata": {},
   "outputs": [],
   "source": [
    "from sklearn.compose import ColumnTransformer\n",
    "transformations_pipeline = ColumnTransformer([\n",
    "    ('numeric', numeric_pipeline, numeric_columns),\n",
    "    ('non_numeric', non_numeric_pipeline, non_numeric_columns)\n",
    "])"
   ]
  },
  {
   "cell_type": "markdown",
   "id": "c215d60a",
   "metadata": {},
   "source": [
    "# Model"
   ]
  },
  {
   "cell_type": "code",
   "execution_count": 13,
   "id": "3b3ddb87",
   "metadata": {},
   "outputs": [],
   "source": [
    "from sklearn.ensemble import RandomForestClassifier\n",
    "random_forest_model = RandomForestClassifier(random_state=42)"
   ]
  },
  {
   "cell_type": "code",
   "execution_count": 14,
   "id": "d6a81445",
   "metadata": {},
   "outputs": [],
   "source": [
    "full_pipeline = Pipeline([\n",
    "    ('prep', transformations_pipeline),\n",
    "    ('model', random_forest_model)\n",
    "])"
   ]
  },
  {
   "cell_type": "code",
   "execution_count": 15,
   "id": "936a9d3f",
   "metadata": {
    "scrolled": true
   },
   "outputs": [
    {
     "data": {
      "text/plain": "{'prep': ColumnTransformer(transformers=[('numeric',\n                                  Pipeline(steps=[('impute',\n                                                   TransformerChooser()),\n                                                  ('scaling',\n                                                   TransformerChooser())]),\n                                  ['duration', 'credit_amount',\n                                   'installment_commitment', 'residence_since',\n                                   'age', 'existing_credits',\n                                   'num_dependents']),\n                                 ('non_numeric',\n                                  Pipeline(steps=[('encoder',\n                                                   TransformerChooser())]),\n                                  ['checking_status', 'credit_history',\n                                   'purpose', 'savings_status', 'employment',\n                                   'personal_status', 'other_parties',\n                                   'property_magnitude', 'other_payment_plans',\n                                   'housing', 'job', 'own_telephone',\n                                   'foreign_worker'])]),\n 'model': RandomForestClassifier(random_state=42)}"
     },
     "execution_count": 15,
     "metadata": {},
     "output_type": "execute_result"
    }
   ],
   "source": [
    "# Show the levels of pipelines/transformers/model\n",
    "full_pipeline.named_steps"
   ]
  },
  {
   "cell_type": "markdown",
   "source": [
    "# skopt.BayesSearchCV\n",
    "\n",
    "[https://scikit-optimize.github.io/stable/auto_examples/sklearn-gridsearchcv-replacement.html](https://scikit-optimize.github.io/stable/auto_examples/sklearn-gridsearchcv-replacement.html)"
   ],
   "metadata": {
    "collapsed": false
   }
  },
  {
   "cell_type": "code",
   "execution_count": 16,
   "id": "54a179db",
   "metadata": {},
   "outputs": [],
   "source": [
    "from sklearn.metrics import make_scorer, f1_score, precision_score, recall_score  # , roc_auc_score\n",
    "from sklearn.metrics import SCORERS\n",
    "\n",
    "# https://scikit-learn.org/stable/modules/generated/sklearn.metrics.make_scorer.html\n",
    "# https://stackoverflow.com/questions/60615281/different-result-roc-auc-score-and-plot-roc-curve\n",
    "scores = {\n",
    "    # https://github.com/scikit-learn/scikit-learn/blob/2beed5584/sklearn/metrics/_scorer.py#L537\n",
    "    'ROC/AUC':  SCORERS['roc_auc'],\n",
    "    'F1': make_scorer(f1_score, greater_is_better=True),\n",
    "    'Pos. Pred. Val': make_scorer(precision_score, greater_is_better=True),\n",
    "    'True Pos. Rate': make_scorer(recall_score, greater_is_better=True),\n",
    "}"
   ]
  },
  {
   "cell_type": "code",
   "execution_count": 17,
   "id": "e8414f95",
   "metadata": {},
   "outputs": [],
   "source": [
    "num_folds = 5\n",
    "num_repeats = 2"
   ]
  },
  {
   "cell_type": "code",
   "execution_count": 18,
   "outputs": [],
   "source": [
    "new_param_column_names = {'model | max_features': 'max_features',\n",
    "                          'model | n_estimators': 'n_estimators',\n",
    "                          'prep | non_numeric | encoder | transformer': 'encoder',\n",
    "                          'prep | numeric | impute | transformer': 'imputer',\n",
    "                          'prep | numeric | scaling | transformer': 'scaler'}"
   ],
   "metadata": {
    "collapsed": false,
    "pycharm": {
     "name": "#%%\n"
    }
   }
  },
  {
   "cell_type": "code",
   "execution_count": 19,
   "outputs": [],
   "source": [
    "# pip install scikit-optimize\n",
    "from skopt import BayesSearchCV\n",
    "from skopt.space import Real, Categorical, Integer\n",
    "from sklearn.model_selection import RepeatedKFold"
   ],
   "metadata": {
    "collapsed": false,
    "pycharm": {
     "name": "#%%\n"
    }
   }
  },
  {
   "cell_type": "code",
   "execution_count": 20,
   "outputs": [
    {
     "name": "stdout",
     "output_type": "stream",
     "text": [
      "Fitting 10 folds for each of 1 candidates, totalling 10 fits\n",
      "Fitting 10 folds for each of 1 candidates, totalling 10 fits\n",
      "Fitting 10 folds for each of 1 candidates, totalling 10 fits\n",
      "Fitting 10 folds for each of 1 candidates, totalling 10 fits\n",
      "Fitting 10 folds for each of 1 candidates, totalling 10 fits\n",
      "Fitting 10 folds for each of 1 candidates, totalling 10 fits\n",
      "Fitting 10 folds for each of 1 candidates, totalling 10 fits\n",
      "Fitting 10 folds for each of 1 candidates, totalling 10 fits\n",
      "Fitting 10 folds for each of 1 candidates, totalling 10 fits\n",
      "Fitting 10 folds for each of 1 candidates, totalling 10 fits\n",
      "Fitting 10 folds for each of 1 candidates, totalling 10 fits\n",
      "Fitting 10 folds for each of 1 candidates, totalling 10 fits\n",
      "Fitting 10 folds for each of 1 candidates, totalling 10 fits\n",
      "Fitting 10 folds for each of 1 candidates, totalling 10 fits\n",
      "Fitting 10 folds for each of 1 candidates, totalling 10 fits\n",
      "Fitting 10 folds for each of 1 candidates, totalling 10 fits\n",
      "Fitting 10 folds for each of 1 candidates, totalling 10 fits\n",
      "Fitting 10 folds for each of 1 candidates, totalling 10 fits\n",
      "Fitting 10 folds for each of 1 candidates, totalling 10 fits\n"
     ]
    },
    {
     "name": "stderr",
     "output_type": "stream",
     "text": [
      "/Users/shanekercheval/opt/anaconda3/envs/python-examples/lib/python3.9/site-packages/skopt/optimizer/optimizer.py:449: UserWarning: The objective has been evaluated at this point before.\n",
      "  warnings.warn(\"The objective has been evaluated \"\n"
     ]
    },
    {
     "name": "stdout",
     "output_type": "stream",
     "text": [
      "Fitting 10 folds for each of 1 candidates, totalling 10 fits\n"
     ]
    },
    {
     "name": "stderr",
     "output_type": "stream",
     "text": [
      "/Users/shanekercheval/opt/anaconda3/envs/python-examples/lib/python3.9/site-packages/skopt/optimizer/optimizer.py:449: UserWarning: The objective has been evaluated at this point before.\n",
      "  warnings.warn(\"The objective has been evaluated \"\n"
     ]
    },
    {
     "name": "stdout",
     "output_type": "stream",
     "text": [
      "Fitting 10 folds for each of 1 candidates, totalling 10 fits\n",
      "Fitting 10 folds for each of 1 candidates, totalling 10 fits\n",
      "Fitting 10 folds for each of 1 candidates, totalling 10 fits\n",
      "Fitting 10 folds for each of 1 candidates, totalling 10 fits\n"
     ]
    },
    {
     "name": "stderr",
     "output_type": "stream",
     "text": [
      "/Users/shanekercheval/opt/anaconda3/envs/python-examples/lib/python3.9/site-packages/skopt/optimizer/optimizer.py:449: UserWarning: The objective has been evaluated at this point before.\n",
      "  warnings.warn(\"The objective has been evaluated \"\n"
     ]
    },
    {
     "name": "stdout",
     "output_type": "stream",
     "text": [
      "Fitting 10 folds for each of 1 candidates, totalling 10 fits\n",
      "Fitting 10 folds for each of 1 candidates, totalling 10 fits\n",
      "Fitting 10 folds for each of 1 candidates, totalling 10 fits\n"
     ]
    },
    {
     "name": "stderr",
     "output_type": "stream",
     "text": [
      "/Users/shanekercheval/opt/anaconda3/envs/python-examples/lib/python3.9/site-packages/skopt/optimizer/optimizer.py:449: UserWarning: The objective has been evaluated at this point before.\n",
      "  warnings.warn(\"The objective has been evaluated \"\n"
     ]
    },
    {
     "name": "stdout",
     "output_type": "stream",
     "text": [
      "Fitting 10 folds for each of 1 candidates, totalling 10 fits\n"
     ]
    },
    {
     "name": "stderr",
     "output_type": "stream",
     "text": [
      "/Users/shanekercheval/opt/anaconda3/envs/python-examples/lib/python3.9/site-packages/skopt/optimizer/optimizer.py:449: UserWarning: The objective has been evaluated at this point before.\n",
      "  warnings.warn(\"The objective has been evaluated \"\n"
     ]
    },
    {
     "name": "stdout",
     "output_type": "stream",
     "text": [
      "Fitting 10 folds for each of 1 candidates, totalling 10 fits\n",
      "Fitting 10 folds for each of 1 candidates, totalling 10 fits\n"
     ]
    }
   ],
   "source": [
    "search_space = {\n",
    "    'prep__numeric__impute__transformer': Categorical([SimpleImputer(strategy='mean')]),\n",
    "    'prep__numeric__scaling__transformer': Categorical([MinMaxScaler(), StandardScaler()]),\n",
    "    'prep__non_numeric__encoder__transformer': Categorical([\n",
    "        OneHotEncoder(),\n",
    "        hlp.sklearn_pipeline.CustomOrdinalEncoder()\n",
    "    ]),\n",
    "    'model__n_estimators': Integer(50, 5000),\n",
    "    # If float, then max_features is a fraction and round(max_features * n_features) features are considered at each split.\n",
    "    'model__max_features':  Real(.01, .99),\n",
    "}\n",
    "\n",
    "bayes_search = BayesSearchCV(\n",
    "    estimator=full_pipeline,\n",
    "    search_spaces=search_space,\n",
    "    n_iter=30,\n",
    "    cv=RepeatedKFold(n_splits=num_folds, n_repeats=num_repeats),\n",
    "    scoring='roc_auc',\n",
    "    #return_train_score=True,\n",
    "    n_jobs=-1,\n",
    "    verbose=1,\n",
    "    random_state=42,\n",
    ")\n",
    "bayes_search.fit(X_train, y_train)\n",
    "\n",
    "del search_space"
   ],
   "metadata": {
    "collapsed": false,
    "pycharm": {
     "name": "#%%\n"
    }
   }
  },
  {
   "cell_type": "code",
   "execution_count": 1,
   "outputs": [
    {
     "ename": "NameError",
     "evalue": "name 'bayes_search' is not defined",
     "output_type": "error",
     "traceback": [
      "\u001B[0;31m---------------------------------------------------------------------------\u001B[0m",
      "\u001B[0;31mNameError\u001B[0m                                 Traceback (most recent call last)",
      "\u001B[0;32m/var/folders/7x/wc3jx_91337bggbzk01kpvs40000gn/T/ipykernel_26797/1370503965.py\u001B[0m in \u001B[0;36m<module>\u001B[0;34m\u001B[0m\n\u001B[0;32m----> 1\u001B[0;31m \u001B[0mprint\u001B[0m\u001B[0;34m(\u001B[0m\u001B[0mbayes_search\u001B[0m\u001B[0;34m.\u001B[0m\u001B[0mcv_results_\u001B[0m\u001B[0;34m)\u001B[0m\u001B[0;34m\u001B[0m\u001B[0;34m\u001B[0m\u001B[0m\n\u001B[0m",
      "\u001B[0;31mNameError\u001B[0m: name 'bayes_search' is not defined"
     ]
    }
   ],
   "source": [
    "print(bayes_search.cv_results_)"
   ],
   "metadata": {
    "collapsed": false,
    "pycharm": {
     "name": "#%%\n"
    }
   }
  },
  {
   "cell_type": "code",
   "execution_count": 32,
   "outputs": [
    {
     "data": {
      "text/plain": "RepeatedKFold(n_repeats=2, n_splits=5, random_state=None)"
     },
     "execution_count": 32,
     "metadata": {},
     "output_type": "execute_result"
    }
   ],
   "source": [
    "bayes_search.cv"
   ],
   "metadata": {
    "collapsed": false,
    "pycharm": {
     "name": "#%%\n"
    }
   }
  },
  {
   "cell_type": "markdown",
   "source": [
    "## Results"
   ],
   "metadata": {
    "collapsed": false,
    "pycharm": {
     "name": "#%% md\n"
    }
   }
  },
  {
   "cell_type": "code",
   "execution_count": 21,
   "outputs": [
    {
     "name": "stdout",
     "output_type": "stream",
     "text": [
      "2\n",
      "5\n"
     ]
    }
   ],
   "source": [
    "print(bayes_search.cv.n_repeats)\n",
    "print(bayes_search.cv.cvargs['n_splits'])"
   ],
   "metadata": {
    "collapsed": false,
    "pycharm": {
     "name": "#%%\n"
    }
   }
  },
  {
   "cell_type": "code",
   "execution_count": 22,
   "outputs": [
    {
     "name": "stdout",
     "output_type": "stream",
     "text": [
      "0.7769223480572486\n",
      "OrderedDict([('model__max_features', 0.013031427440264018), ('model__n_estimators', 4976), ('prep__non_numeric__encoder__transformer', CustomOrdinalEncoder()), ('prep__numeric__impute__transformer', SimpleImputer()), ('prep__numeric__scaling__transformer', MinMaxScaler())])\n"
     ]
    }
   ],
   "source": [
    "print(bayes_search.best_score_)\n",
    "print(bayes_search.best_params_)"
   ],
   "metadata": {
    "collapsed": false,
    "pycharm": {
     "name": "#%%\n"
    }
   }
  },
  {
   "cell_type": "code",
   "execution_count": 23,
   "outputs": [
    {
     "data": {
      "text/plain": "{'model | max_features': 'max_features',\n 'model | n_estimators': 'n_estimators',\n 'prep | non_numeric | encoder | transformer': 'encoder',\n 'prep | numeric | impute | transformer': 'imputer',\n 'prep | numeric | scaling | transformer': 'scaler'}"
     },
     "execution_count": 23,
     "metadata": {},
     "output_type": "execute_result"
    }
   ],
   "source": [
    "new_param_column_names"
   ],
   "metadata": {
    "collapsed": false,
    "pycharm": {
     "name": "#%%\n"
    }
   }
  },
  {
   "cell_type": "code",
   "execution_count": 24,
   "outputs": [],
   "source": [
    "bayes_search_parsed = hlp.sklearn_eval.SearchCVParser(searcher=bayes_search,\n",
    "                                                      higher_score_is_better = True,\n",
    "                                                      new_param_column_names=new_param_column_names)"
   ],
   "metadata": {
    "collapsed": false,
    "pycharm": {
     "name": "#%%\n"
    }
   }
  },
  {
   "cell_type": "code",
   "execution_count": 25,
   "outputs": [
    {
     "data": {
      "text/plain": "<pandas.io.formats.style.Styler at 0x7fb85107ceb0>",
      "text/html": "<style type=\"text/css\">\n#T_3bb97_row0_col0 {\n  width: 10em;\n  height: 80%;\n  background: linear-gradient(90deg,#1AAF54 100.0%, transparent 100.0%);\n}\n#T_3bb97_row0_col1, #T_3bb97_row1_col1 {\n  width: 10em;\n  height: 80%;\n  background: linear-gradient(90deg,transparent 100.0%, #B4B7B9 100.0%);\n}\n#T_3bb97_row0_col2 {\n  width: 10em;\n  height: 80%;\n  background: linear-gradient(90deg,#B4B7B9 95.3%, transparent 95.3%);\n}\n#T_3bb97_row0_col3, #T_3bb97_row0_col4, #T_3bb97_row0_col5, #T_3bb97_row0_col6, #T_3bb97_row1_col3, #T_3bb97_row1_col4, #T_3bb97_row1_col5, #T_3bb97_row1_col6, #T_3bb97_row2_col3, #T_3bb97_row2_col4, #T_3bb97_row2_col5, #T_3bb97_row2_col6, #T_3bb97_row3_col3, #T_3bb97_row3_col4, #T_3bb97_row3_col5, #T_3bb97_row3_col6, #T_3bb97_row4_col3, #T_3bb97_row4_col4, #T_3bb97_row4_col5, #T_3bb97_row4_col6 {\n  background-color: #7AA9CF;\n}\n#T_3bb97_row1_col0 {\n  width: 10em;\n  height: 80%;\n  background: linear-gradient(90deg,#1AAF54 82.1%, transparent 82.1%);\n}\n#T_3bb97_row1_col2 {\n  width: 10em;\n  height: 80%;\n  background: linear-gradient(90deg,#B4B7B9 65.1%, transparent 65.1%);\n}\n#T_3bb97_row2_col0, #T_3bb97_row3_col0 {\n  width: 10em;\n  height: 80%;\n  background: linear-gradient(90deg,#1AAF54 76.9%, transparent 76.9%);\n}\n#T_3bb97_row2_col1 {\n  width: 10em;\n  height: 80%;\n  background: linear-gradient(90deg,transparent 75.5%, #B4B7B9 75.5%);\n}\n#T_3bb97_row2_col2 {\n  width: 10em;\n  height: 80%;\n  background: linear-gradient(90deg,#B4B7B9 86.0%, transparent 86.0%);\n}\n#T_3bb97_row3_col1 {\n  width: 10em;\n  height: 80%;\n  background: linear-gradient(90deg,transparent 81.1%, #B4B7B9 81.1%);\n}\n#T_3bb97_row3_col2 {\n  width: 10em;\n  height: 80%;\n  background: linear-gradient(90deg,#B4B7B9 76.7%, transparent 76.7%);\n}\n#T_3bb97_row4_col0 {\n  width: 10em;\n  height: 80%;\n  background: linear-gradient(90deg,#1AAF54 74.4%, transparent 74.4%);\n}\n#T_3bb97_row4_col1, #T_3bb97_row11_col1 {\n  width: 10em;\n  height: 80%;\n  background: linear-gradient(90deg,transparent 73.6%, #B4B7B9 73.6%);\n}\n#T_3bb97_row4_col2 {\n  width: 10em;\n  height: 80%;\n  background: linear-gradient(90deg,#B4B7B9 81.4%, transparent 81.4%);\n}\n#T_3bb97_row5_col0, #T_3bb97_row6_col0, #T_3bb97_row7_col0 {\n  width: 10em;\n  height: 80%;\n  background: linear-gradient(90deg,#1AAF54 69.2%, transparent 69.2%);\n}\n#T_3bb97_row5_col1 {\n  width: 10em;\n  height: 80%;\n  background: linear-gradient(90deg,transparent 60.4%, #B4B7B9 60.4%);\n}\n#T_3bb97_row5_col2 {\n  width: 10em;\n  height: 80%;\n  background: linear-gradient(90deg,#B4B7B9 90.7%, transparent 90.7%);\n}\n#T_3bb97_row6_col1 {\n  width: 10em;\n  height: 80%;\n  background: linear-gradient(90deg,transparent 83.0%, #B4B7B9 83.0%);\n}\n#T_3bb97_row6_col2, #T_3bb97_row12_col2 {\n  width: 10em;\n  height: 80%;\n  background: linear-gradient(90deg,#B4B7B9 60.5%, transparent 60.5%);\n}\n#T_3bb97_row7_col1 {\n  width: 10em;\n  height: 80%;\n  background: linear-gradient(90deg,transparent 94.3%, #B4B7B9 94.3%);\n}\n#T_3bb97_row7_col2, #T_3bb97_row15_col2 {\n  width: 10em;\n  height: 80%;\n  background: linear-gradient(90deg,#B4B7B9 46.5%, transparent 46.5%);\n}\n#T_3bb97_row8_col0 {\n  width: 10em;\n  height: 80%;\n  background: linear-gradient(90deg,#1AAF54 66.7%, transparent 66.7%);\n}\n#T_3bb97_row8_col1 {\n  width: 10em;\n  height: 80%;\n  background: linear-gradient(90deg,transparent 86.8%, #B4B7B9 86.8%);\n}\n#T_3bb97_row8_col2 {\n  width: 10em;\n  height: 80%;\n  background: linear-gradient(90deg,#B4B7B9 51.2%, transparent 51.2%);\n}\n#T_3bb97_row9_col0, #T_3bb97_row10_col0, #T_3bb97_row11_col0 {\n  width: 10em;\n  height: 80%;\n  background: linear-gradient(90deg,#1AAF54 64.1%, transparent 64.1%);\n}\n#T_3bb97_row9_col1, #T_3bb97_row12_col1 {\n  width: 10em;\n  height: 80%;\n  background: linear-gradient(90deg,transparent 69.8%, #B4B7B9 69.8%);\n}\n#T_3bb97_row9_col2 {\n  width: 10em;\n  height: 80%;\n  background: linear-gradient(90deg,#B4B7B9 67.4%, transparent 67.4%);\n}\n#T_3bb97_row10_col1, #T_3bb97_row27_col1 {\n  width: 10em;\n  height: 80%;\n  background: linear-gradient(90deg,transparent 43.4%, #B4B7B9 43.4%);\n}\n#T_3bb97_row10_col2 {\n  width: 10em;\n  height: 80%;\n  background: linear-gradient(90deg,#B4B7B9 100.0%, transparent 100.0%);\n}\n#T_3bb97_row11_col2 {\n  width: 10em;\n  height: 80%;\n  background: linear-gradient(90deg,#B4B7B9 62.8%, transparent 62.8%);\n}\n#T_3bb97_row12_col0 {\n  width: 10em;\n  height: 80%;\n  background: linear-gradient(90deg,#1AAF54 61.5%, transparent 61.5%);\n}\n#T_3bb97_row13_col0 {\n  width: 10em;\n  height: 80%;\n  background: linear-gradient(90deg,#1AAF54 59.0%, transparent 59.0%);\n}\n#T_3bb97_row13_col1 {\n  width: 10em;\n  height: 80%;\n  background: linear-gradient(90deg,transparent 54.7%, #B4B7B9 54.7%);\n}\n#T_3bb97_row13_col2 {\n  width: 10em;\n  height: 80%;\n  background: linear-gradient(90deg,#B4B7B9 79.1%, transparent 79.1%);\n}\n#T_3bb97_row14_col0 {\n  width: 10em;\n  height: 80%;\n  background: linear-gradient(90deg,#1AAF54 46.2%, transparent 46.2%);\n}\n#T_3bb97_row14_col1 {\n  width: 10em;\n  height: 80%;\n  background: linear-gradient(90deg,transparent 39.6%, #B4B7B9 39.6%);\n}\n#T_3bb97_row14_col2 {\n  width: 10em;\n  height: 80%;\n  background: linear-gradient(90deg,#B4B7B9 72.1%, transparent 72.1%);\n}\n#T_3bb97_row15_col0 {\n  width: 10em;\n  height: 80%;\n  background: linear-gradient(90deg,#1AAF54 35.9%, transparent 35.9%);\n}\n#T_3bb97_row15_col1, #T_3bb97_row18_col1 {\n  width: 10em;\n  height: 80%;\n  background: linear-gradient(90deg,transparent 45.3%, #B4B7B9 45.3%);\n}\n#T_3bb97_row16_col0, #T_3bb97_row17_col0 {\n  width: 10em;\n  height: 80%;\n  background: linear-gradient(90deg,#1AAF54 30.8%, transparent 30.8%);\n}\n#T_3bb97_row16_col1 {\n  width: 10em;\n  height: 80%;\n  background: linear-gradient(90deg,transparent 37.7%, #B4B7B9 37.7%);\n}\n#T_3bb97_row16_col2 {\n  width: 10em;\n  height: 80%;\n  background: linear-gradient(90deg,#B4B7B9 48.8%, transparent 48.8%);\n}\n#T_3bb97_row17_col1, #T_3bb97_row21_col1 {\n  width: 10em;\n  height: 80%;\n  background: linear-gradient(90deg,transparent 52.8%, #B4B7B9 52.8%);\n}\n#T_3bb97_row17_col2, #T_3bb97_row25_col2 {\n  width: 10em;\n  height: 80%;\n  background: linear-gradient(90deg,#B4B7B9 27.9%, transparent 27.9%);\n}\n#T_3bb97_row18_col0, #T_3bb97_row19_col0 {\n  width: 10em;\n  height: 80%;\n  background: linear-gradient(90deg,#1AAF54 25.6%, transparent 25.6%);\n}\n#T_3bb97_row18_col2 {\n  width: 10em;\n  height: 80%;\n  background: linear-gradient(90deg,#B4B7B9 30.2%, transparent 30.2%);\n}\n#T_3bb97_row19_col1 {\n  width: 10em;\n  height: 80%;\n  background: linear-gradient(90deg,transparent 64.2%, #B4B7B9 64.2%);\n}\n#T_3bb97_row19_col2 {\n  width: 10em;\n  height: 80%;\n  background: linear-gradient(90deg,#B4B7B9 4.7%, transparent 4.7%);\n}\n#T_3bb97_row20_col0, #T_3bb97_row21_col0, #T_3bb97_row22_col0 {\n  width: 10em;\n  height: 80%;\n  background: linear-gradient(90deg,#1AAF54 20.5%, transparent 20.5%);\n}\n#T_3bb97_row20_col1 {\n  width: 10em;\n  height: 80%;\n  background: linear-gradient(90deg,transparent 26.4%, #B4B7B9 26.4%);\n}\n#T_3bb97_row20_col2, #T_3bb97_row28_col2 {\n  width: 10em;\n  height: 80%;\n  background: linear-gradient(90deg,#B4B7B9 41.9%, transparent 41.9%);\n}\n#T_3bb97_row21_col2, #T_3bb97_row29_col2 {\n  width: 10em;\n  height: 80%;\n  background: linear-gradient(90deg,#B4B7B9 7.0%, transparent 7.0%);\n}\n#T_3bb97_row22_col1, #T_3bb97_row26_col1 {\n  width: 10em;\n  height: 80%;\n  background: linear-gradient(90deg,transparent 34.0%, #B4B7B9 34.0%);\n}\n#T_3bb97_row22_col2, #T_3bb97_row23_col2 {\n  width: 10em;\n  height: 80%;\n  background: linear-gradient(90deg,#B4B7B9 32.6%, transparent 32.6%);\n}\n#T_3bb97_row23_col0, #T_3bb97_row24_col0 {\n  width: 10em;\n  height: 80%;\n  background: linear-gradient(90deg,#1AAF54 17.9%, transparent 17.9%);\n}\n#T_3bb97_row23_col1, #T_3bb97_row25_col1 {\n  width: 10em;\n  height: 80%;\n  background: linear-gradient(90deg,transparent 32.1%, #B4B7B9 32.1%);\n}\n#T_3bb97_row24_col1 {\n  width: 10em;\n  height: 80%;\n  background: linear-gradient(90deg,transparent 50.9%, #B4B7B9 50.9%);\n}\n#T_3bb97_row24_col2 {\n  width: 10em;\n  height: 80%;\n  background: linear-gradient(90deg,#B4B7B9 9.3%, transparent 9.3%);\n}\n#T_3bb97_row25_col0 {\n  width: 10em;\n  height: 80%;\n  background: linear-gradient(90deg,#1AAF54 15.4%, transparent 15.4%);\n}\n#T_3bb97_row26_col0 {\n  width: 10em;\n  height: 80%;\n  background: linear-gradient(90deg,#1AAF54 10.3%, transparent 10.3%);\n}\n#T_3bb97_row26_col2 {\n  width: 10em;\n  height: 80%;\n  background: linear-gradient(90deg,#B4B7B9 14.0%, transparent 14.0%);\n}\n#T_3bb97_row27_col0 {\n  width: 10em;\n  height: 80%;\n  background: linear-gradient(90deg,#1AAF54 7.7%, transparent 7.7%);\n}\n#T_3bb97_row27_col2, #T_3bb97_row29_col0 {\n  width: 10em;\n  height: 80%;\n}\n#T_3bb97_row28_col0 {\n  width: 10em;\n  height: 80%;\n  background: linear-gradient(90deg,#1AAF54 2.6%, transparent 2.6%);\n}\n#T_3bb97_row28_col1 {\n  width: 10em;\n  height: 80%;\n  background: linear-gradient(90deg, #B4B7B9 100.0%, transparent 100.0%, transparent 100.0%, #B4B7B9 100.0%);\n}\n#T_3bb97_row29_col1 {\n  width: 10em;\n  height: 80%;\n  background: linear-gradient(90deg,transparent 22.6%, #B4B7B9 22.6%);\n}\n</style>\n<table id=\"T_3bb97_\">\n  <thead>\n    <tr>\n      <th class=\"col_heading level0 col0\" >roc_auc Mean</th>\n      <th class=\"col_heading level0 col1\" >roc_auc 95CI.LO</th>\n      <th class=\"col_heading level0 col2\" >roc_auc 95CI.HI</th>\n      <th class=\"col_heading level0 col3\" >max_features</th>\n      <th class=\"col_heading level0 col4\" >n_estimators</th>\n      <th class=\"col_heading level0 col5\" >encoder</th>\n      <th class=\"col_heading level0 col6\" >scaler</th>\n    </tr>\n  </thead>\n  <tbody>\n    <tr>\n      <td id=\"T_3bb97_row0_col0\" class=\"data row0 col0\" >0.777</td>\n      <td id=\"T_3bb97_row0_col1\" class=\"data row0 col1\" >0.753</td>\n      <td id=\"T_3bb97_row0_col2\" class=\"data row0 col2\" >0.801</td>\n      <td id=\"T_3bb97_row0_col3\" class=\"data row0 col3\" >0.013</td>\n      <td id=\"T_3bb97_row0_col4\" class=\"data row0 col4\" >4,976</td>\n      <td id=\"T_3bb97_row0_col5\" class=\"data row0 col5\" >CustomOrdinalEncoder()</td>\n      <td id=\"T_3bb97_row0_col6\" class=\"data row0 col6\" >MinMaxScaler()</td>\n    </tr>\n    <tr>\n      <td id=\"T_3bb97_row1_col0\" class=\"data row1 col0\" >0.770</td>\n      <td id=\"T_3bb97_row1_col1\" class=\"data row1 col1\" >0.753</td>\n      <td id=\"T_3bb97_row1_col2\" class=\"data row1 col2\" >0.788</td>\n      <td id=\"T_3bb97_row1_col3\" class=\"data row1 col3\" >0.010</td>\n      <td id=\"T_3bb97_row1_col4\" class=\"data row1 col4\" >5,000</td>\n      <td id=\"T_3bb97_row1_col5\" class=\"data row1 col5\" >CustomOrdinalEncoder()</td>\n      <td id=\"T_3bb97_row1_col6\" class=\"data row1 col6\" >StandardScaler()</td>\n    </tr>\n    <tr>\n      <td id=\"T_3bb97_row2_col0\" class=\"data row2 col0\" >0.768</td>\n      <td id=\"T_3bb97_row2_col1\" class=\"data row2 col1\" >0.740</td>\n      <td id=\"T_3bb97_row2_col2\" class=\"data row2 col2\" >0.797</td>\n      <td id=\"T_3bb97_row2_col3\" class=\"data row2 col3\" >0.186</td>\n      <td id=\"T_3bb97_row2_col4\" class=\"data row2 col4\" >4,978</td>\n      <td id=\"T_3bb97_row2_col5\" class=\"data row2 col5\" >CustomOrdinalEncoder()</td>\n      <td id=\"T_3bb97_row2_col6\" class=\"data row2 col6\" >StandardScaler()</td>\n    </tr>\n    <tr>\n      <td id=\"T_3bb97_row3_col0\" class=\"data row3 col0\" >0.768</td>\n      <td id=\"T_3bb97_row3_col1\" class=\"data row3 col1\" >0.743</td>\n      <td id=\"T_3bb97_row3_col2\" class=\"data row3 col2\" >0.793</td>\n      <td id=\"T_3bb97_row3_col3\" class=\"data row3 col3\" >0.011</td>\n      <td id=\"T_3bb97_row3_col4\" class=\"data row3 col4\" >2,669</td>\n      <td id=\"T_3bb97_row3_col5\" class=\"data row3 col5\" >CustomOrdinalEncoder()</td>\n      <td id=\"T_3bb97_row3_col6\" class=\"data row3 col6\" >MinMaxScaler()</td>\n    </tr>\n    <tr>\n      <td id=\"T_3bb97_row4_col0\" class=\"data row4 col0\" >0.767</td>\n      <td id=\"T_3bb97_row4_col1\" class=\"data row4 col1\" >0.739</td>\n      <td id=\"T_3bb97_row4_col2\" class=\"data row4 col2\" >0.795</td>\n      <td id=\"T_3bb97_row4_col3\" class=\"data row4 col3\" >0.010</td>\n      <td id=\"T_3bb97_row4_col4\" class=\"data row4 col4\" >5,000</td>\n      <td id=\"T_3bb97_row4_col5\" class=\"data row4 col5\" >OneHotEncoder()</td>\n      <td id=\"T_3bb97_row4_col6\" class=\"data row4 col6\" >MinMaxScaler()</td>\n    </tr>\n    <tr>\n      <td id=\"T_3bb97_row5_col0\" class=\"data row5 col0\" >0.765</td>\n      <td id=\"T_3bb97_row5_col1\" class=\"data row5 col1\" >0.732</td>\n      <td id=\"T_3bb97_row5_col2\" class=\"data row5 col2\" >0.799</td>\n      <td id=\"T_3bb97_row5_col3\" class=\"data row5 col3\" >0.010</td>\n      <td id=\"T_3bb97_row5_col4\" class=\"data row5 col4\" >5,000</td>\n      <td id=\"T_3bb97_row5_col5\" class=\"data row5 col5\" >CustomOrdinalEncoder()</td>\n      <td id=\"T_3bb97_row5_col6\" class=\"data row5 col6\" >MinMaxScaler()</td>\n    </tr>\n    <tr>\n      <td id=\"T_3bb97_row6_col0\" class=\"data row6 col0\" >0.765</td>\n      <td id=\"T_3bb97_row6_col1\" class=\"data row6 col1\" >0.744</td>\n      <td id=\"T_3bb97_row6_col2\" class=\"data row6 col2\" >0.786</td>\n      <td id=\"T_3bb97_row6_col3\" class=\"data row6 col3\" >0.012</td>\n      <td id=\"T_3bb97_row6_col4\" class=\"data row6 col4\" >2,683</td>\n      <td id=\"T_3bb97_row6_col5\" class=\"data row6 col5\" >OneHotEncoder()</td>\n      <td id=\"T_3bb97_row6_col6\" class=\"data row6 col6\" >StandardScaler()</td>\n    </tr>\n    <tr>\n      <td id=\"T_3bb97_row7_col0\" class=\"data row7 col0\" >0.765</td>\n      <td id=\"T_3bb97_row7_col1\" class=\"data row7 col1\" >0.750</td>\n      <td id=\"T_3bb97_row7_col2\" class=\"data row7 col2\" >0.780</td>\n      <td id=\"T_3bb97_row7_col3\" class=\"data row7 col3\" >0.010</td>\n      <td id=\"T_3bb97_row7_col4\" class=\"data row7 col4\" >5,000</td>\n      <td id=\"T_3bb97_row7_col5\" class=\"data row7 col5\" >OneHotEncoder()</td>\n      <td id=\"T_3bb97_row7_col6\" class=\"data row7 col6\" >MinMaxScaler()</td>\n    </tr>\n    <tr>\n      <td id=\"T_3bb97_row8_col0\" class=\"data row8 col0\" >0.764</td>\n      <td id=\"T_3bb97_row8_col1\" class=\"data row8 col1\" >0.746</td>\n      <td id=\"T_3bb97_row8_col2\" class=\"data row8 col2\" >0.782</td>\n      <td id=\"T_3bb97_row8_col3\" class=\"data row8 col3\" >0.010</td>\n      <td id=\"T_3bb97_row8_col4\" class=\"data row8 col4\" >5,000</td>\n      <td id=\"T_3bb97_row8_col5\" class=\"data row8 col5\" >OneHotEncoder()</td>\n      <td id=\"T_3bb97_row8_col6\" class=\"data row8 col6\" >MinMaxScaler()</td>\n    </tr>\n    <tr>\n      <td id=\"T_3bb97_row9_col0\" class=\"data row9 col0\" >0.763</td>\n      <td id=\"T_3bb97_row9_col1\" class=\"data row9 col1\" >0.737</td>\n      <td id=\"T_3bb97_row9_col2\" class=\"data row9 col2\" >0.789</td>\n      <td id=\"T_3bb97_row9_col3\" class=\"data row9 col3\" >0.010</td>\n      <td id=\"T_3bb97_row9_col4\" class=\"data row9 col4\" >5,000</td>\n      <td id=\"T_3bb97_row9_col5\" class=\"data row9 col5\" >OneHotEncoder()</td>\n      <td id=\"T_3bb97_row9_col6\" class=\"data row9 col6\" >StandardScaler()</td>\n    </tr>\n    <tr>\n      <td id=\"T_3bb97_row10_col0\" class=\"data row10 col0\" >0.763</td>\n      <td id=\"T_3bb97_row10_col1\" class=\"data row10 col1\" >0.723</td>\n      <td id=\"T_3bb97_row10_col2\" class=\"data row10 col2\" >0.803</td>\n      <td id=\"T_3bb97_row10_col3\" class=\"data row10 col3\" >0.010</td>\n      <td id=\"T_3bb97_row10_col4\" class=\"data row10 col4\" >5,000</td>\n      <td id=\"T_3bb97_row10_col5\" class=\"data row10 col5\" >CustomOrdinalEncoder()</td>\n      <td id=\"T_3bb97_row10_col6\" class=\"data row10 col6\" >MinMaxScaler()</td>\n    </tr>\n    <tr>\n      <td id=\"T_3bb97_row11_col0\" class=\"data row11 col0\" >0.763</td>\n      <td id=\"T_3bb97_row11_col1\" class=\"data row11 col1\" >0.739</td>\n      <td id=\"T_3bb97_row11_col2\" class=\"data row11 col2\" >0.787</td>\n      <td id=\"T_3bb97_row11_col3\" class=\"data row11 col3\" >0.010</td>\n      <td id=\"T_3bb97_row11_col4\" class=\"data row11 col4\" >2,833</td>\n      <td id=\"T_3bb97_row11_col5\" class=\"data row11 col5\" >OneHotEncoder()</td>\n      <td id=\"T_3bb97_row11_col6\" class=\"data row11 col6\" >StandardScaler()</td>\n    </tr>\n    <tr>\n      <td id=\"T_3bb97_row12_col0\" class=\"data row12 col0\" >0.762</td>\n      <td id=\"T_3bb97_row12_col1\" class=\"data row12 col1\" >0.737</td>\n      <td id=\"T_3bb97_row12_col2\" class=\"data row12 col2\" >0.786</td>\n      <td id=\"T_3bb97_row12_col3\" class=\"data row12 col3\" >0.014</td>\n      <td id=\"T_3bb97_row12_col4\" class=\"data row12 col4\" >4,098</td>\n      <td id=\"T_3bb97_row12_col5\" class=\"data row12 col5\" >CustomOrdinalEncoder()</td>\n      <td id=\"T_3bb97_row12_col6\" class=\"data row12 col6\" >StandardScaler()</td>\n    </tr>\n    <tr>\n      <td id=\"T_3bb97_row13_col0\" class=\"data row13 col0\" >0.761</td>\n      <td id=\"T_3bb97_row13_col1\" class=\"data row13 col1\" >0.729</td>\n      <td id=\"T_3bb97_row13_col2\" class=\"data row13 col2\" >0.794</td>\n      <td id=\"T_3bb97_row13_col3\" class=\"data row13 col3\" >0.010</td>\n      <td id=\"T_3bb97_row13_col4\" class=\"data row13 col4\" >5,000</td>\n      <td id=\"T_3bb97_row13_col5\" class=\"data row13 col5\" >OneHotEncoder()</td>\n      <td id=\"T_3bb97_row13_col6\" class=\"data row13 col6\" >StandardScaler()</td>\n    </tr>\n    <tr>\n      <td id=\"T_3bb97_row14_col0\" class=\"data row14 col0\" >0.756</td>\n      <td id=\"T_3bb97_row14_col1\" class=\"data row14 col1\" >0.721</td>\n      <td id=\"T_3bb97_row14_col2\" class=\"data row14 col2\" >0.791</td>\n      <td id=\"T_3bb97_row14_col3\" class=\"data row14 col3\" >0.010</td>\n      <td id=\"T_3bb97_row14_col4\" class=\"data row14 col4\" >5,000</td>\n      <td id=\"T_3bb97_row14_col5\" class=\"data row14 col5\" >CustomOrdinalEncoder()</td>\n      <td id=\"T_3bb97_row14_col6\" class=\"data row14 col6\" >StandardScaler()</td>\n    </tr>\n    <tr>\n      <td id=\"T_3bb97_row15_col0\" class=\"data row15 col0\" >0.752</td>\n      <td id=\"T_3bb97_row15_col1\" class=\"data row15 col1\" >0.724</td>\n      <td id=\"T_3bb97_row15_col2\" class=\"data row15 col2\" >0.780</td>\n      <td id=\"T_3bb97_row15_col3\" class=\"data row15 col3\" >0.206</td>\n      <td id=\"T_3bb97_row15_col4\" class=\"data row15 col4\" >4,993</td>\n      <td id=\"T_3bb97_row15_col5\" class=\"data row15 col5\" >CustomOrdinalEncoder()</td>\n      <td id=\"T_3bb97_row15_col6\" class=\"data row15 col6\" >MinMaxScaler()</td>\n    </tr>\n    <tr>\n      <td id=\"T_3bb97_row16_col0\" class=\"data row16 col0\" >0.750</td>\n      <td id=\"T_3bb97_row16_col1\" class=\"data row16 col1\" >0.720</td>\n      <td id=\"T_3bb97_row16_col2\" class=\"data row16 col2\" >0.781</td>\n      <td id=\"T_3bb97_row16_col3\" class=\"data row16 col3\" >0.446</td>\n      <td id=\"T_3bb97_row16_col4\" class=\"data row16 col4\" >4,598</td>\n      <td id=\"T_3bb97_row16_col5\" class=\"data row16 col5\" >OneHotEncoder()</td>\n      <td id=\"T_3bb97_row16_col6\" class=\"data row16 col6\" >MinMaxScaler()</td>\n    </tr>\n    <tr>\n      <td id=\"T_3bb97_row17_col0\" class=\"data row17 col0\" >0.750</td>\n      <td id=\"T_3bb97_row17_col1\" class=\"data row17 col1\" >0.728</td>\n      <td id=\"T_3bb97_row17_col2\" class=\"data row17 col2\" >0.772</td>\n      <td id=\"T_3bb97_row17_col3\" class=\"data row17 col3\" >0.831</td>\n      <td id=\"T_3bb97_row17_col4\" class=\"data row17 col4\" >4,422</td>\n      <td id=\"T_3bb97_row17_col5\" class=\"data row17 col5\" >OneHotEncoder()</td>\n      <td id=\"T_3bb97_row17_col6\" class=\"data row17 col6\" >StandardScaler()</td>\n    </tr>\n    <tr>\n      <td id=\"T_3bb97_row18_col0\" class=\"data row18 col0\" >0.748</td>\n      <td id=\"T_3bb97_row18_col1\" class=\"data row18 col1\" >0.724</td>\n      <td id=\"T_3bb97_row18_col2\" class=\"data row18 col2\" >0.773</td>\n      <td id=\"T_3bb97_row18_col3\" class=\"data row18 col3\" >0.010</td>\n      <td id=\"T_3bb97_row18_col4\" class=\"data row18 col4\" >50</td>\n      <td id=\"T_3bb97_row18_col5\" class=\"data row18 col5\" >CustomOrdinalEncoder()</td>\n      <td id=\"T_3bb97_row18_col6\" class=\"data row18 col6\" >MinMaxScaler()</td>\n    </tr>\n    <tr>\n      <td id=\"T_3bb97_row19_col0\" class=\"data row19 col0\" >0.748</td>\n      <td id=\"T_3bb97_row19_col1\" class=\"data row19 col1\" >0.734</td>\n      <td id=\"T_3bb97_row19_col2\" class=\"data row19 col2\" >0.762</td>\n      <td id=\"T_3bb97_row19_col3\" class=\"data row19 col3\" >0.946</td>\n      <td id=\"T_3bb97_row19_col4\" class=\"data row19 col4\" >3,518</td>\n      <td id=\"T_3bb97_row19_col5\" class=\"data row19 col5\" >CustomOrdinalEncoder()</td>\n      <td id=\"T_3bb97_row19_col6\" class=\"data row19 col6\" >MinMaxScaler()</td>\n    </tr>\n    <tr>\n      <td id=\"T_3bb97_row20_col0\" class=\"data row20 col0\" >0.746</td>\n      <td id=\"T_3bb97_row20_col1\" class=\"data row20 col1\" >0.714</td>\n      <td id=\"T_3bb97_row20_col2\" class=\"data row20 col2\" >0.778</td>\n      <td id=\"T_3bb97_row20_col3\" class=\"data row20 col3\" >0.990</td>\n      <td id=\"T_3bb97_row20_col4\" class=\"data row20 col4\" >4,964</td>\n      <td id=\"T_3bb97_row20_col5\" class=\"data row20 col5\" >CustomOrdinalEncoder()</td>\n      <td id=\"T_3bb97_row20_col6\" class=\"data row20 col6\" >MinMaxScaler()</td>\n    </tr>\n    <tr>\n      <td id=\"T_3bb97_row21_col0\" class=\"data row21 col0\" >0.746</td>\n      <td id=\"T_3bb97_row21_col1\" class=\"data row21 col1\" >0.728</td>\n      <td id=\"T_3bb97_row21_col2\" class=\"data row21 col2\" >0.763</td>\n      <td id=\"T_3bb97_row21_col3\" class=\"data row21 col3\" >0.615</td>\n      <td id=\"T_3bb97_row21_col4\" class=\"data row21 col4\" >3,888</td>\n      <td id=\"T_3bb97_row21_col5\" class=\"data row21 col5\" >OneHotEncoder()</td>\n      <td id=\"T_3bb97_row21_col6\" class=\"data row21 col6\" >StandardScaler()</td>\n    </tr>\n    <tr>\n      <td id=\"T_3bb97_row22_col0\" class=\"data row22 col0\" >0.746</td>\n      <td id=\"T_3bb97_row22_col1\" class=\"data row22 col1\" >0.718</td>\n      <td id=\"T_3bb97_row22_col2\" class=\"data row22 col2\" >0.774</td>\n      <td id=\"T_3bb97_row22_col3\" class=\"data row22 col3\" >0.412</td>\n      <td id=\"T_3bb97_row22_col4\" class=\"data row22 col4\" >3,652</td>\n      <td id=\"T_3bb97_row22_col5\" class=\"data row22 col5\" >CustomOrdinalEncoder()</td>\n      <td id=\"T_3bb97_row22_col6\" class=\"data row22 col6\" >StandardScaler()</td>\n    </tr>\n    <tr>\n      <td id=\"T_3bb97_row23_col0\" class=\"data row23 col0\" >0.745</td>\n      <td id=\"T_3bb97_row23_col1\" class=\"data row23 col1\" >0.717</td>\n      <td id=\"T_3bb97_row23_col2\" class=\"data row23 col2\" >0.774</td>\n      <td id=\"T_3bb97_row23_col3\" class=\"data row23 col3\" >0.985</td>\n      <td id=\"T_3bb97_row23_col4\" class=\"data row23 col4\" >72</td>\n      <td id=\"T_3bb97_row23_col5\" class=\"data row23 col5\" >CustomOrdinalEncoder()</td>\n      <td id=\"T_3bb97_row23_col6\" class=\"data row23 col6\" >MinMaxScaler()</td>\n    </tr>\n    <tr>\n      <td id=\"T_3bb97_row24_col0\" class=\"data row24 col0\" >0.745</td>\n      <td id=\"T_3bb97_row24_col1\" class=\"data row24 col1\" >0.727</td>\n      <td id=\"T_3bb97_row24_col2\" class=\"data row24 col2\" >0.764</td>\n      <td id=\"T_3bb97_row24_col3\" class=\"data row24 col3\" >0.543</td>\n      <td id=\"T_3bb97_row24_col4\" class=\"data row24 col4\" >4,604</td>\n      <td id=\"T_3bb97_row24_col5\" class=\"data row24 col5\" >OneHotEncoder()</td>\n      <td id=\"T_3bb97_row24_col6\" class=\"data row24 col6\" >MinMaxScaler()</td>\n    </tr>\n    <tr>\n      <td id=\"T_3bb97_row25_col0\" class=\"data row25 col0\" >0.744</td>\n      <td id=\"T_3bb97_row25_col1\" class=\"data row25 col1\" >0.717</td>\n      <td id=\"T_3bb97_row25_col2\" class=\"data row25 col2\" >0.772</td>\n      <td id=\"T_3bb97_row25_col3\" class=\"data row25 col3\" >0.729</td>\n      <td id=\"T_3bb97_row25_col4\" class=\"data row25 col4\" >4,700</td>\n      <td id=\"T_3bb97_row25_col5\" class=\"data row25 col5\" >OneHotEncoder()</td>\n      <td id=\"T_3bb97_row25_col6\" class=\"data row25 col6\" >StandardScaler()</td>\n    </tr>\n    <tr>\n      <td id=\"T_3bb97_row26_col0\" class=\"data row26 col0\" >0.742</td>\n      <td id=\"T_3bb97_row26_col1\" class=\"data row26 col1\" >0.718</td>\n      <td id=\"T_3bb97_row26_col2\" class=\"data row26 col2\" >0.766</td>\n      <td id=\"T_3bb97_row26_col3\" class=\"data row26 col3\" >0.363</td>\n      <td id=\"T_3bb97_row26_col4\" class=\"data row26 col4\" >53</td>\n      <td id=\"T_3bb97_row26_col5\" class=\"data row26 col5\" >OneHotEncoder()</td>\n      <td id=\"T_3bb97_row26_col6\" class=\"data row26 col6\" >MinMaxScaler()</td>\n    </tr>\n    <tr>\n      <td id=\"T_3bb97_row27_col0\" class=\"data row27 col0\" >0.741</td>\n      <td id=\"T_3bb97_row27_col1\" class=\"data row27 col1\" >0.723</td>\n      <td id=\"T_3bb97_row27_col2\" class=\"data row27 col2\" >0.760</td>\n      <td id=\"T_3bb97_row27_col3\" class=\"data row27 col3\" >0.794</td>\n      <td id=\"T_3bb97_row27_col4\" class=\"data row27 col4\" >2,218</td>\n      <td id=\"T_3bb97_row27_col5\" class=\"data row27 col5\" >CustomOrdinalEncoder()</td>\n      <td id=\"T_3bb97_row27_col6\" class=\"data row27 col6\" >StandardScaler()</td>\n    </tr>\n    <tr>\n      <td id=\"T_3bb97_row28_col0\" class=\"data row28 col0\" >0.739</td>\n      <td id=\"T_3bb97_row28_col1\" class=\"data row28 col1\" >0.700</td>\n      <td id=\"T_3bb97_row28_col2\" class=\"data row28 col2\" >0.778</td>\n      <td id=\"T_3bb97_row28_col3\" class=\"data row28 col3\" >0.019</td>\n      <td id=\"T_3bb97_row28_col4\" class=\"data row28 col4\" >71</td>\n      <td id=\"T_3bb97_row28_col5\" class=\"data row28 col5\" >OneHotEncoder()</td>\n      <td id=\"T_3bb97_row28_col6\" class=\"data row28 col6\" >StandardScaler()</td>\n    </tr>\n    <tr>\n      <td id=\"T_3bb97_row29_col0\" class=\"data row29 col0\" >0.738</td>\n      <td id=\"T_3bb97_row29_col1\" class=\"data row29 col1\" >0.712</td>\n      <td id=\"T_3bb97_row29_col2\" class=\"data row29 col2\" >0.763</td>\n      <td id=\"T_3bb97_row29_col3\" class=\"data row29 col3\" >0.806</td>\n      <td id=\"T_3bb97_row29_col4\" class=\"data row29 col4\" >901</td>\n      <td id=\"T_3bb97_row29_col5\" class=\"data row29 col5\" >CustomOrdinalEncoder()</td>\n      <td id=\"T_3bb97_row29_col6\" class=\"data row29 col6\" >StandardScaler()</td>\n    </tr>\n  </tbody>\n</table>\n"
     },
     "execution_count": 25,
     "metadata": {},
     "output_type": "execute_result"
    }
   ],
   "source": [
    "bayes_search_parsed.formatted_results()"
   ],
   "metadata": {
    "collapsed": false,
    "pycharm": {
     "name": "#%%\n"
    }
   }
  },
  {
   "cell_type": "code",
   "execution_count": 26,
   "outputs": [
    {
     "data": {
      "text/plain": "<Figure size 432x288 with 1 Axes>",
      "image/png": "[encoded data removed]"
     },
     "metadata": {
      "needs_background": "light"
     },
     "output_type": "display_data"
    }
   ],
   "source": [
    "sns.regplot(x=np.arange(0, len(bayes_search_parsed.results)), y=bayes_search_parsed.results.sort_index()['roc_auc Mean'], lowess=True)\n",
    "plt.title(\"Average ROC_AUC over all iterations\")\n",
    "plt.ylabel(\"Average ROC_AUC\")\n",
    "plt.xlabel(\"Iteration\")\n",
    "plt.tight_layout()"
   ],
   "metadata": {
    "collapsed": false,
    "pycharm": {
     "name": "#%%\n"
    }
   }
  },
  {
   "cell_type": "code",
   "execution_count": 27,
   "outputs": [
    {
     "data": {
      "text/plain": "<Figure size 432x288 with 1 Axes>",
      "image/png": "[encoded data removed]"
     },
     "metadata": {
      "needs_background": "light"
     },
     "output_type": "display_data"
    }
   ],
   "source": [
    "bayes_search_parsed.results.sort_index()['roc_auc Mean'].plot()\n",
    "plt.title(\"Average ROC_AUC over all iterations\")\n",
    "plt.ylabel(\"Average ROC_AUC\")\n",
    "plt.xlabel(\"Iteration\")\n",
    "plt.tight_layout()"
   ],
   "metadata": {
    "collapsed": false,
    "pycharm": {
     "name": "#%%\n"
    }
   }
  }
 ],
 "metadata": {
  "kernelspec": {
   "display_name": "Python 3 (ipykernel)",
   "language": "python",
   "name": "python3"
  },
  "language_info": {
   "codemirror_mode": {
    "name": "ipython",
    "version": 3
   },
   "file_extension": ".py",
   "mimetype": "text/x-python",
   "name": "python",
   "nbconvert_exporter": "python",
   "pygments_lexer": "ipython3",
   "version": "3.9.6"
  },
  "toc": {
   "base_numbering": 1,
   "nav_menu": {},
   "number_sections": false,
   "sideBar": true,
   "skip_h1_title": false,
   "title_cell": "Table of Contents",
   "title_sidebar": "Contents",
   "toc_cell": false,
   "toc_position": {
    "height": "calc(100% - 180px)",
    "left": "10px",
    "top": "150px",
    "width": "298px"
   },
   "toc_section_display": true,
   "toc_window_display": true
  }
 },
 "nbformat": 4,
 "nbformat_minor": 5
}