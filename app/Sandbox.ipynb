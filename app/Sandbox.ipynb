{
 "cells": [
  {
   "cell_type": "code",
   "execution_count": 1,
   "id": "8d1b1d32",
   "metadata": {},
   "outputs": [],
   "source": [
    "import os"
   ]
  },
  {
   "cell_type": "code",
   "execution_count": 2,
   "id": "1671944c",
   "metadata": {},
   "outputs": [
    {
     "data": {
      "text/plain": [
       "['Classification Project',\n",
       " 'Clustering Project',\n",
       " 'Regression Project',\n",
       " 'Time Series Forecasting Project']"
      ]
     },
     "execution_count": 2,
     "metadata": {},
     "output_type": "execute_result"
    }
   ],
   "source": [
    "project_names = [name for name in os.listdir('../projects') if os.path.isdir('../projects/' + name)]\n",
    "project_names.sort()\n",
    "project_names"
   ]
  },
  {
   "cell_type": "code",
   "execution_count": 3,
   "id": "301cd82f",
   "metadata": {},
   "outputs": [
    {
     "data": {
      "text/plain": [
       "'Classification+Project'"
      ]
     },
     "execution_count": 3,
     "metadata": {},
     "output_type": "execute_result"
    }
   ],
   "source": [
    "import urllib.parse\n",
    "safe_string = urllib.parse.quote_plus(project_names[0])\n",
    "safe_string"
   ]
  },
  {
   "cell_type": "code",
   "execution_count": 4,
   "id": "9c676bcf",
   "metadata": {},
   "outputs": [
    {
     "data": {
      "text/plain": [
       "'Classification%20Project'"
      ]
     },
     "execution_count": 4,
     "metadata": {},
     "output_type": "execute_result"
    }
   ],
   "source": [
    "urllib.parse.quote(project_names[0])"
   ]
  },
  {
   "cell_type": "code",
   "execution_count": 17,
   "id": "4ba9cdf8",
   "metadata": {},
   "outputs": [
    {
     "data": {
      "text/plain": [
       "['Classification%20Project',\n",
       " 'Clustering%20Project',\n",
       " 'Regression%20Project',\n",
       " 'Time%20Series%20Forecasting%20Project']"
      ]
     },
     "execution_count": 17,
     "metadata": {},
     "output_type": "execute_result"
    }
   ],
   "source": [
    "encoded_urls = [urllib.parse.quote(x) for x in project_names]\n",
    "encoded_urls"
   ]
  },
  {
   "cell_type": "code",
   "execution_count": 18,
   "id": "ea531e61",
   "metadata": {},
   "outputs": [
    {
     "data": {
      "text/plain": [
       "'Classification Project'"
      ]
     },
     "execution_count": 18,
     "metadata": {},
     "output_type": "execute_result"
    }
   ],
   "source": [
    "urllib.parse.unquote(encoded_urls[0])"
   ]
  },
  {
   "cell_type": "code",
   "execution_count": null,
   "id": "2cfdd576",
   "metadata": {},
   "outputs": [],
   "source": []
  },
  {
   "cell_type": "code",
   "execution_count": 6,
   "id": "e44d59cc",
   "metadata": {},
   "outputs": [
    {
     "data": {
      "text/plain": [
       "'Classification Project'"
      ]
     },
     "execution_count": 6,
     "metadata": {},
     "output_type": "execute_result"
    }
   ],
   "source": [
    "project_names_dropdown_value = project_names[0]\n",
    "project_names_dropdown_value"
   ]
  },
  {
   "cell_type": "code",
   "execution_count": 8,
   "id": "2bc92d67",
   "metadata": {},
   "outputs": [],
   "source": [
    "project_path = '../projects/' + project_names_dropdown_value"
   ]
  },
  {
   "cell_type": "code",
   "execution_count": null,
   "id": "f63a80fd",
   "metadata": {},
   "outputs": [],
   "source": []
  },
  {
   "cell_type": "code",
   "execution_count": 16,
   "id": "0fe027fa",
   "metadata": {},
   "outputs": [
    {
     "data": {
      "text/plain": [
       "['Logistic Regression', 'Random Forest', 'Stacking', 'XGBoost']"
      ]
     },
     "execution_count": 16,
     "metadata": {},
     "output_type": "execute_result"
    }
   ],
   "source": [
    "run_file_names = [name for name in os.listdir('../projects/' + project_names_dropdown_value)\n",
    "                  if os.path.isdir('../projects/' + project_names_dropdown_value + '/' + name)]\n",
    "run_file_names.sort()\n",
    "run_file_names"
   ]
  },
  {
   "cell_type": "code",
   "execution_count": null,
   "id": "10f6dbc2",
   "metadata": {},
   "outputs": [],
   "source": []
  },
  {
   "cell_type": "code",
   "execution_count": 19,
   "id": "e09003f8",
   "metadata": {},
   "outputs": [
    {
     "data": {
      "text/plain": [
       "'/Classification Project/Summary of Models'"
      ]
     },
     "execution_count": 19,
     "metadata": {},
     "output_type": "execute_result"
    }
   ],
   "source": [
    "urllib.parse.unquote('/Classification%20Project/Summary%20of%20Models')"
   ]
  },
  {
   "cell_type": "code",
   "execution_count": 27,
   "id": "a2a203e4",
   "metadata": {},
   "outputs": [
    {
     "data": {
      "text/plain": [
       "['Classification Project', 'Summary of Models']"
      ]
     },
     "execution_count": 27,
     "metadata": {},
     "output_type": "execute_result"
    }
   ],
   "source": [
    "path_name = urllib.parse.unquote('/Classification%20Project/Summary%20of%20Models')\n",
    "paths = path_name.split('/')\n",
    "paths.remove('')\n",
    "paths"
   ]
  },
  {
   "cell_type": "code",
   "execution_count": 28,
   "id": "2e9789c1",
   "metadata": {},
   "outputs": [
    {
     "name": "stdout",
     "output_type": "stream",
     "text": [
      "Classification Project\n",
      "Summary of Models\n"
     ]
    }
   ],
   "source": [
    "current_project = paths[0]\n",
    "print(current_project)\n",
    "current_model = paths[1]"
   ]
  },
  {
   "cell_type": "code",
   "execution_count": 13,
   "id": "b3cf8b68",
   "metadata": {},
   "outputs": [
    {
     "data": {
      "text/plain": [
       "['project-metadata.yaml']"
      ]
     },
     "execution_count": 13,
     "metadata": {},
     "output_type": "execute_result"
    }
   ],
   "source": [
    "from os import listdir\n",
    "from os.path import isfile, join\n",
    "\n",
    "project_file = [f for f in listdir(project_path) if isfile(join(project_path, f)) and f.endswith('.yaml')]\n",
    "project_file"
   ]
  },
  {
   "cell_type": "code",
   "execution_count": null,
   "id": "df5a906c",
   "metadata": {},
   "outputs": [],
   "source": [
    "project_file = [f for f in listdir(project_path) if isfile(join(project_path, f)) and f.endswith('.yaml')]"
   ]
  },
  {
   "cell_type": "code",
   "execution_count": null,
   "id": "8c938d41",
   "metadata": {},
   "outputs": [],
   "source": []
  },
  {
   "cell_type": "code",
   "execution_count": 29,
   "id": "0b38d7a7",
   "metadata": {},
   "outputs": [
    {
     "data": {
      "text/plain": [
       "'../projects/Classification Project'"
      ]
     },
     "execution_count": 29,
     "metadata": {},
     "output_type": "execute_result"
    }
   ],
   "source": [
    "project_path + '/project-metadata.yaml'"
   ]
  },
  {
   "cell_type": "code",
   "execution_count": 37,
   "id": "702abef1",
   "metadata": {},
   "outputs": [
    {
     "data": {
      "text/plain": [
       "True"
      ]
     },
     "execution_count": 37,
     "metadata": {},
     "output_type": "execute_result"
    }
   ],
   "source": [
    "from os.path import exists\n",
    "exists(project_path + '/project-metadata.yaml')"
   ]
  },
  {
   "cell_type": "code",
   "execution_count": null,
   "id": "cf2c2a81",
   "metadata": {},
   "outputs": [],
   "source": [
    "pd.DataFrame.from_dict(metadata_dict,orient='index')"
   ]
  },
  {
   "cell_type": "code",
   "execution_count": 61,
   "id": "13f764bf",
   "metadata": {},
   "outputs": [],
   "source": [
    "import yaml\n",
    "import pandas as pd\n",
    "with open(project_path + '/project-metadata.yaml', \"r\") as stream:\n",
    "    try:\n",
    "        yaml_dict =  pd.DataFrame.from_dict(yaml.safe_load(stream)['project'],orient='index')\n",
    "    except yaml.YAMLError as exc:\n",
    "        print(exc)"
   ]
  },
  {
   "cell_type": "code",
   "execution_count": 62,
   "id": "cf7cbb0d",
   "metadata": {},
   "outputs": [
    {
     "data": {
      "text/html": [
       "<div>\n",
       "<style scoped>\n",
       "    .dataframe tbody tr th:only-of-type {\n",
       "        vertical-align: middle;\n",
       "    }\n",
       "\n",
       "    .dataframe tbody tr th {\n",
       "        vertical-align: top;\n",
       "    }\n",
       "\n",
       "    .dataframe thead th {\n",
       "        text-align: right;\n",
       "    }\n",
       "</style>\n",
       "<table border=\"1\" class=\"dataframe\">\n",
       "  <thead>\n",
       "    <tr style=\"text-align: right;\">\n",
       "      <th></th>\n",
       "      <th>name</th>\n",
       "      <th>values</th>\n",
       "    </tr>\n",
       "  </thead>\n",
       "  <tbody>\n",
       "    <tr>\n",
       "      <th>0</th>\n",
       "      <td>name</td>\n",
       "      <td>Classification Example</td>\n",
       "    </tr>\n",
       "    <tr>\n",
       "      <th>1</th>\n",
       "      <td>descripton</td>\n",
       "      <td>This is the description.</td>\n",
       "    </tr>\n",
       "    <tr>\n",
       "      <th>2</th>\n",
       "      <td>type</td>\n",
       "      <td>classification</td>\n",
       "    </tr>\n",
       "    <tr>\n",
       "      <th>3</th>\n",
       "      <td>higher_score_is_better</td>\n",
       "      <td>True</td>\n",
       "    </tr>\n",
       "  </tbody>\n",
       "</table>\n",
       "</div>"
      ],
      "text/plain": [
       "                     name                    values\n",
       "0                    name    Classification Example\n",
       "1              descripton  This is the description.\n",
       "2                    type            classification\n",
       "3  higher_score_is_better                      True"
      ]
     },
     "execution_count": 62,
     "metadata": {},
     "output_type": "execute_result"
    }
   ],
   "source": [
    "yaml_dict=yaml_dict.reset_index()\n",
    "yaml_dict.columns=['name', 'values']\n",
    "yaml_dict"
   ]
  },
  {
   "cell_type": "code",
   "execution_count": null,
   "id": "123ee4a8",
   "metadata": {},
   "outputs": [],
   "source": []
  },
  {
   "cell_type": "code",
   "execution_count": 63,
   "id": "cc6f98ef",
   "metadata": {},
   "outputs": [],
   "source": [
    "CURRENT_MODEL_DIRECTORY = '../projects/Classification Project/Random Forest'"
   ]
  },
  {
   "cell_type": "code",
   "execution_count": 70,
   "id": "c16f4490",
   "metadata": {},
   "outputs": [],
   "source": [
    "project_files = [f for f in listdir(CURRENT_MODEL_DIRECTORY)\n",
    "                 if isfile(join(CURRENT_MODEL_DIRECTORY, f)) and f.endswith('.yaml')]"
   ]
  },
  {
   "cell_type": "code",
   "execution_count": 71,
   "id": "57a5708f",
   "metadata": {},
   "outputs": [
    {
     "data": {
      "text/plain": [
       "['Run 1 - Random Forest - BayesSearchCV.yaml']"
      ]
     },
     "execution_count": 71,
     "metadata": {},
     "output_type": "execute_result"
    }
   ],
   "source": [
    "project_files"
   ]
  },
  {
   "cell_type": "code",
   "execution_count": 73,
   "id": "5417df78",
   "metadata": {},
   "outputs": [
    {
     "data": {
      "text/plain": [
       "'/3/2'"
      ]
     },
     "execution_count": 73,
     "metadata": {},
     "output_type": "execute_result"
    }
   ],
   "source": [
    "os.path.join('asdf/', '/3', '2')\n"
   ]
  },
  {
   "cell_type": "code",
   "execution_count": 77,
   "id": "1afe80f5",
   "metadata": {},
   "outputs": [
    {
     "data": {
      "text/plain": [
       "'../asdf'"
      ]
     },
     "execution_count": 77,
     "metadata": {},
     "output_type": "execute_result"
    }
   ],
   "source": [
    "os.path.join('../asdf')"
   ]
  },
  {
   "cell_type": "code",
   "execution_count": 78,
   "id": "d792ec60",
   "metadata": {},
   "outputs": [
    {
     "data": {
      "text/plain": [
       "'/adfs'"
      ]
     },
     "execution_count": 78,
     "metadata": {},
     "output_type": "execute_result"
    }
   ],
   "source": [
    "os.path.join('/', 'adfs')\n"
   ]
  },
  {
   "cell_type": "code",
   "execution_count": null,
   "id": "e97b7054",
   "metadata": {},
   "outputs": [],
   "source": []
  }
 ],
 "metadata": {
  "kernelspec": {
   "display_name": "Python 3 (ipykernel)",
   "language": "python",
   "name": "python3"
  },
  "language_info": {
   "codemirror_mode": {
    "name": "ipython",
    "version": 3
   },
   "file_extension": ".py",
   "mimetype": "text/x-python",
   "name": "python",
   "nbconvert_exporter": "python",
   "pygments_lexer": "ipython3",
   "version": "3.9.6"
  },
  "toc": {
   "base_numbering": 1,
   "nav_menu": {},
   "number_sections": false,
   "sideBar": true,
   "skip_h1_title": false,
   "title_cell": "Table of Contents",
   "title_sidebar": "Contents",
   "toc_cell": false,
   "toc_position": {},
   "toc_section_display": true,
   "toc_window_display": false
  }
 },
 "nbformat": 4,
 "nbformat_minor": 5
}
