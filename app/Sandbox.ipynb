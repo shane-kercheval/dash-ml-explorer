{
 "cells": [
  {
   "cell_type": "code",
   "execution_count": 1,
   "id": "8d1b1d32",
   "metadata": {},
   "outputs": [],
   "source": [
    "import os"
   ]
  },
  {
   "cell_type": "code",
   "execution_count": 2,
   "id": "1671944c",
   "metadata": {},
   "outputs": [
    {
     "data": {
      "text/plain": [
       "['Classification Project',\n",
       " 'Clustering Project',\n",
       " 'Regression Project',\n",
       " 'Time Series Forecasting Project']"
      ]
     },
     "execution_count": 2,
     "metadata": {},
     "output_type": "execute_result"
    }
   ],
   "source": [
    "project_names = [name for name in os.listdir('../projects') if os.path.isdir('../projects/' + name)]\n",
    "project_names.sort()\n",
    "project_names"
   ]
  },
  {
   "cell_type": "code",
   "execution_count": 3,
   "id": "301cd82f",
   "metadata": {},
   "outputs": [
    {
     "data": {
      "text/plain": [
       "'Classification+Project'"
      ]
     },
     "execution_count": 3,
     "metadata": {},
     "output_type": "execute_result"
    }
   ],
   "source": [
    "import urllib.parse\n",
    "safe_string = urllib.parse.quote_plus(project_names[0])\n",
    "safe_string"
   ]
  },
  {
   "cell_type": "code",
   "execution_count": 4,
   "id": "9c676bcf",
   "metadata": {},
   "outputs": [
    {
     "data": {
      "text/plain": [
       "'Classification%20Project'"
      ]
     },
     "execution_count": 4,
     "metadata": {},
     "output_type": "execute_result"
    }
   ],
   "source": [
    "urllib.parse.quote(project_names[0])"
   ]
  },
  {
   "cell_type": "code",
   "execution_count": 17,
   "id": "4ba9cdf8",
   "metadata": {},
   "outputs": [
    {
     "data": {
      "text/plain": [
       "['Classification%20Project',\n",
       " 'Clustering%20Project',\n",
       " 'Regression%20Project',\n",
       " 'Time%20Series%20Forecasting%20Project']"
      ]
     },
     "execution_count": 17,
     "metadata": {},
     "output_type": "execute_result"
    }
   ],
   "source": [
    "encoded_urls = [urllib.parse.quote(x) for x in project_names]\n",
    "encoded_urls"
   ]
  },
  {
   "cell_type": "code",
   "execution_count": 18,
   "id": "e11fcd05",
   "metadata": {},
   "outputs": [
    {
     "data": {
      "text/plain": [
       "'Classification Project'"
      ]
     },
     "execution_count": 18,
     "metadata": {},
     "output_type": "execute_result"
    }
   ],
   "source": [
    "urllib.parse.unquote(encoded_urls[0])"
   ]
  },
  {
   "cell_type": "code",
   "execution_count": null,
   "id": "055998a5",
   "metadata": {},
   "outputs": [],
   "source": []
  },
  {
   "cell_type": "code",
   "execution_count": 6,
   "id": "e44d59cc",
   "metadata": {},
   "outputs": [
    {
     "data": {
      "text/plain": [
       "'Classification Project'"
      ]
     },
     "execution_count": 6,
     "metadata": {},
     "output_type": "execute_result"
    }
   ],
   "source": [
    "project_names_dropdown_value = project_names[0]\n",
    "project_names_dropdown_value"
   ]
  },
  {
   "cell_type": "code",
   "execution_count": 8,
   "id": "a3c20756",
   "metadata": {},
   "outputs": [],
   "source": [
    "project_path = '../projects/' + project_names_dropdown_value"
   ]
  },
  {
   "cell_type": "code",
   "execution_count": null,
   "id": "9a38483a",
   "metadata": {},
   "outputs": [],
   "source": []
  },
  {
   "cell_type": "code",
   "execution_count": 16,
   "id": "b869fc83",
   "metadata": {},
   "outputs": [
    {
     "data": {
      "text/plain": [
       "['Logistic Regression', 'Random Forest', 'Stacking', 'XGBoost']"
      ]
     },
     "execution_count": 16,
     "metadata": {},
     "output_type": "execute_result"
    }
   ],
   "source": [
    "run_file_names = [name for name in os.listdir('../projects/' + project_names_dropdown_value)\n",
    "                  if os.path.isdir('../projects/' + project_names_dropdown_value + '/' + name)]\n",
    "run_file_names.sort()\n",
    "run_file_names"
   ]
  },
  {
   "cell_type": "code",
   "execution_count": null,
   "id": "ffb57054",
   "metadata": {},
   "outputs": [],
   "source": []
  },
  {
   "cell_type": "code",
   "execution_count": 19,
   "id": "2487107d",
   "metadata": {},
   "outputs": [
    {
     "data": {
      "text/plain": [
       "'/Classification Project/Summary of Models'"
      ]
     },
     "execution_count": 19,
     "metadata": {},
     "output_type": "execute_result"
    }
   ],
   "source": [
    "urllib.parse.unquote('/Classification%20Project/Summary%20of%20Models')"
   ]
  },
  {
   "cell_type": "code",
   "execution_count": 27,
   "id": "e39782d3",
   "metadata": {},
   "outputs": [
    {
     "data": {
      "text/plain": [
       "['Classification Project', 'Summary of Models']"
      ]
     },
     "execution_count": 27,
     "metadata": {},
     "output_type": "execute_result"
    }
   ],
   "source": [
    "path_name = urllib.parse.unquote('/Classification%20Project/Summary%20of%20Models')\n",
    "paths = path_name.split('/')\n",
    "paths.remove('')\n",
    "paths"
   ]
  },
  {
   "cell_type": "code",
   "execution_count": 28,
   "id": "19626200",
   "metadata": {},
   "outputs": [
    {
     "name": "stdout",
     "output_type": "stream",
     "text": [
      "Classification Project\n",
      "Summary of Models\n"
     ]
    }
   ],
   "source": [
    "current_project = paths[0]\n",
    "print(current_project)\n",
    "current_model = paths[1]\n",
    "print(current_model)"
   ]
  },
  {
   "cell_type": "code",
   "execution_count": 13,
   "id": "8ccf0119",
   "metadata": {},
   "outputs": [
    {
     "data": {
      "text/plain": [
       "['project-metadata.yaml']"
      ]
     },
     "execution_count": 13,
     "metadata": {},
     "output_type": "execute_result"
    }
   ],
   "source": [
    "from os import listdir\n",
    "from os.path import isfile, join\n",
    "\n",
    "project_file = [f for f in listdir(project_path) if isfile(join(project_path, f)) and f.endswith('.yaml')]\n",
    "project_file"
   ]
  },
  {
   "cell_type": "code",
   "execution_count": null,
   "id": "5dd02f93",
   "metadata": {},
   "outputs": [],
   "source": [
    "project_file = [f for f in listdir(project_path) if isfile(join(project_path, f)) and f.endswith('.yaml')]"
   ]
  }
 ],
 "metadata": {
  "kernelspec": {
   "display_name": "Python 3 (ipykernel)",
   "language": "python",
   "name": "python3"
  },
  "language_info": {
   "codemirror_mode": {
    "name": "ipython",
    "version": 3
   },
   "file_extension": ".py",
   "mimetype": "text/x-python",
   "name": "python",
   "nbconvert_exporter": "python",
   "pygments_lexer": "ipython3",
   "version": "3.9.6"
  },
  "toc": {
   "base_numbering": 1,
   "nav_menu": {},
   "number_sections": false,
   "sideBar": true,
   "skip_h1_title": false,
   "title_cell": "Table of Contents",
   "title_sidebar": "Contents",
   "toc_cell": false,
   "toc_position": {},
   "toc_section_display": true,
   "toc_window_display": false
  }
 },
 "nbformat": 4,
 "nbformat_minor": 5
}
